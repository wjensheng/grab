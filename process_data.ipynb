{
  "nbformat": 4,
  "nbformat_minor": 0,
  "metadata": {
    "colab": {
      "name": "process_data.ipynb",
      "version": "0.3.2",
      "provenance": [],
      "collapsed_sections": []
    },
    "kernelspec": {
      "name": "python3",
      "display_name": "Python 3"
    },
    "accelerator": "GPU"
  },
  "cells": [
    {
      "cell_type": "code",
      "metadata": {
        "id": "3PJh8GCBygUD",
        "colab_type": "code",
        "outputId": "2a3176e4-1017-48fa-8b0d-22ab9afec750",
        "colab": {
          "base_uri": "https://localhost:8080/",
          "height": 55
        }
      },
      "source": [
        "# Load the Drive helper and mount\n",
        "from google.colab import drive\n",
        "\n",
        "# This will prompt for authorization.\n",
        "drive.mount('/content/drive')"
      ],
      "execution_count": 1,
      "outputs": [
        {
          "output_type": "stream",
          "text": [
            "Drive already mounted at /content/drive; to attempt to forcibly remount, call drive.mount(\"/content/drive\", force_remount=True).\n"
          ],
          "name": "stdout"
        }
      ]
    },
    {
      "cell_type": "code",
      "metadata": {
        "id": "LYvPY7HsyiC9",
        "colab_type": "code",
        "colab": {}
      },
      "source": [
        "import pandas as pd\n",
        "import numpy as np\n",
        "import seaborn as sns\n",
        "import matplotlib.pyplot as plt\n",
        "import os\n",
        "import gc\n",
        "import re\n",
        "\n",
        "from tqdm import tqdm\n",
        "from collections import Counter\n",
        "\n",
        "import warnings\n",
        "warnings.simplefilter(action='ignore')\n",
        "\n",
        "# change to path\n",
        "PATH='/content/drive/My Drive/Colab Notebooks/grab/'\n",
        "os.chdir(PATH)"
      ],
      "execution_count": 0,
      "outputs": []
    },
    {
      "cell_type": "code",
      "metadata": {
        "id": "Lbg0DM5uPWeP",
        "colab_type": "code",
        "colab": {}
      },
      "source": [
        "PATH_LABELS = PATH + 'safety/labels'\n",
        "PATH_FEATURES = PATH + 'safety/features'"
      ],
      "execution_count": 0,
      "outputs": []
    },
    {
      "cell_type": "code",
      "metadata": {
        "id": "FitXRBMFRMpH",
        "colab_type": "code",
        "outputId": "e093f4f2-bcc1-4de5-bb15-03dfb1999ead",
        "colab": {
          "base_uri": "https://localhost:8080/",
          "height": 198
        }
      },
      "source": [
        "labels_df = pd.read_csv(f'{PATH_LABELS}/part-00000-e9445087-aa0a-433b-a7f6-7f4c19d78ad6-c000.csv')\n",
        "\n",
        "labels_df.head()"
      ],
      "execution_count": 4,
      "outputs": [
        {
          "output_type": "execute_result",
          "data": {
            "text/html": [
              "<div>\n",
              "<style scoped>\n",
              "    .dataframe tbody tr th:only-of-type {\n",
              "        vertical-align: middle;\n",
              "    }\n",
              "\n",
              "    .dataframe tbody tr th {\n",
              "        vertical-align: top;\n",
              "    }\n",
              "\n",
              "    .dataframe thead th {\n",
              "        text-align: right;\n",
              "    }\n",
              "</style>\n",
              "<table border=\"1\" class=\"dataframe\">\n",
              "  <thead>\n",
              "    <tr style=\"text-align: right;\">\n",
              "      <th></th>\n",
              "      <th>bookingID</th>\n",
              "      <th>label</th>\n",
              "    </tr>\n",
              "  </thead>\n",
              "  <tbody>\n",
              "    <tr>\n",
              "      <th>0</th>\n",
              "      <td>111669149733</td>\n",
              "      <td>0</td>\n",
              "    </tr>\n",
              "    <tr>\n",
              "      <th>1</th>\n",
              "      <td>335007449205</td>\n",
              "      <td>1</td>\n",
              "    </tr>\n",
              "    <tr>\n",
              "      <th>2</th>\n",
              "      <td>171798691856</td>\n",
              "      <td>0</td>\n",
              "    </tr>\n",
              "    <tr>\n",
              "      <th>3</th>\n",
              "      <td>1520418422900</td>\n",
              "      <td>0</td>\n",
              "    </tr>\n",
              "    <tr>\n",
              "      <th>4</th>\n",
              "      <td>798863917116</td>\n",
              "      <td>0</td>\n",
              "    </tr>\n",
              "  </tbody>\n",
              "</table>\n",
              "</div>"
            ],
            "text/plain": [
              "       bookingID  label\n",
              "0   111669149733      0\n",
              "1   335007449205      1\n",
              "2   171798691856      0\n",
              "3  1520418422900      0\n",
              "4   798863917116      0"
            ]
          },
          "metadata": {
            "tags": []
          },
          "execution_count": 4
        }
      ]
    },
    {
      "cell_type": "code",
      "metadata": {
        "id": "Eilv-pivbbKX",
        "colab_type": "code",
        "outputId": "700f6f0a-2f37-40c3-8df9-23cfdb0a76c2",
        "colab": {
          "base_uri": "https://localhost:8080/",
          "height": 35
        }
      },
      "source": [
        "len(labels_df), labels_df['bookingID'].nunique()"
      ],
      "execution_count": 5,
      "outputs": [
        {
          "output_type": "execute_result",
          "data": {
            "text/plain": [
              "(20018, 20000)"
            ]
          },
          "metadata": {
            "tags": []
          },
          "execution_count": 5
        }
      ]
    },
    {
      "cell_type": "code",
      "metadata": {
        "id": "DGsaNILtTZGV",
        "colab_type": "code",
        "colab": {}
      },
      "source": [
        "df = pd.DataFrame()"
      ],
      "execution_count": 0,
      "outputs": []
    },
    {
      "cell_type": "code",
      "metadata": {
        "id": "K9dG4U1iTnxf",
        "colab_type": "code",
        "outputId": "e9f466f7-83c7-484b-b839-354a7cb640d5",
        "colab": {
          "base_uri": "https://localhost:8080/",
          "height": 35
        }
      },
      "source": [
        "gc.collect()"
      ],
      "execution_count": 7,
      "outputs": [
        {
          "output_type": "execute_result",
          "data": {
            "text/plain": [
              "11"
            ]
          },
          "metadata": {
            "tags": []
          },
          "execution_count": 7
        }
      ]
    },
    {
      "cell_type": "code",
      "metadata": {
        "id": "jIG9eSzKRYh8",
        "colab_type": "code",
        "outputId": "834e3fc4-aa7f-4988-9fa6-4862d2cb1fc2",
        "colab": {
          "base_uri": "https://localhost:8080/",
          "height": 190
        }
      },
      "source": [
        "os.listdir(PATH_FEATURES)\n",
        "\n",
        "for i in range(10):\n",
        "    fn = f'{PATH_FEATURES}/part-0000' + str(i) + '-e6120af0-10c2-4248-97c4-81baf4304e5c-c000.csv'\n",
        "    curr_df = pd.read_csv(fn)\n",
        "    df = pd.concat([df, curr_df])\n",
        "    print(i, len(df))"
      ],
      "execution_count": 8,
      "outputs": [
        {
          "output_type": "stream",
          "text": [
            "0 1613554\n",
            "1 3227112\n",
            "2 4840667\n",
            "3 6454220\n",
            "4 8067779\n",
            "5 9681330\n",
            "6 11294883\n",
            "7 12908439\n",
            "8 14521999\n",
            "9 16135561\n"
          ],
          "name": "stdout"
        }
      ]
    },
    {
      "cell_type": "code",
      "metadata": {
        "id": "JKjcE0ENJ2G5",
        "colab_type": "code",
        "outputId": "e8e7ed42-51f5-4775-ae6c-021197c9a6ef",
        "colab": {
          "base_uri": "https://localhost:8080/",
          "height": 218
        }
      },
      "source": [
        "df.head()"
      ],
      "execution_count": 10,
      "outputs": [
        {
          "output_type": "execute_result",
          "data": {
            "text/html": [
              "<div>\n",
              "<style scoped>\n",
              "    .dataframe tbody tr th:only-of-type {\n",
              "        vertical-align: middle;\n",
              "    }\n",
              "\n",
              "    .dataframe tbody tr th {\n",
              "        vertical-align: top;\n",
              "    }\n",
              "\n",
              "    .dataframe thead th {\n",
              "        text-align: right;\n",
              "    }\n",
              "</style>\n",
              "<table border=\"1\" class=\"dataframe\">\n",
              "  <thead>\n",
              "    <tr style=\"text-align: right;\">\n",
              "      <th></th>\n",
              "      <th>bookingID</th>\n",
              "      <th>Accuracy</th>\n",
              "      <th>Bearing</th>\n",
              "      <th>acceleration_x</th>\n",
              "      <th>acceleration_y</th>\n",
              "      <th>acceleration_z</th>\n",
              "      <th>gyro_x</th>\n",
              "      <th>gyro_y</th>\n",
              "      <th>gyro_z</th>\n",
              "      <th>second</th>\n",
              "      <th>Speed</th>\n",
              "    </tr>\n",
              "  </thead>\n",
              "  <tbody>\n",
              "    <tr>\n",
              "      <th>0</th>\n",
              "      <td>1202590843006</td>\n",
              "      <td>3.000</td>\n",
              "      <td>353.0</td>\n",
              "      <td>1.228867</td>\n",
              "      <td>8.900100</td>\n",
              "      <td>3.986968</td>\n",
              "      <td>0.008221</td>\n",
              "      <td>0.002269</td>\n",
              "      <td>-0.009966</td>\n",
              "      <td>1362.0</td>\n",
              "      <td>0.000000</td>\n",
              "    </tr>\n",
              "    <tr>\n",
              "      <th>1</th>\n",
              "      <td>274877907034</td>\n",
              "      <td>9.293</td>\n",
              "      <td>17.0</td>\n",
              "      <td>0.032775</td>\n",
              "      <td>8.659933</td>\n",
              "      <td>4.737300</td>\n",
              "      <td>0.024629</td>\n",
              "      <td>0.004028</td>\n",
              "      <td>-0.010858</td>\n",
              "      <td>257.0</td>\n",
              "      <td>0.190000</td>\n",
              "    </tr>\n",
              "    <tr>\n",
              "      <th>2</th>\n",
              "      <td>884763263056</td>\n",
              "      <td>3.000</td>\n",
              "      <td>189.0</td>\n",
              "      <td>1.139675</td>\n",
              "      <td>9.545974</td>\n",
              "      <td>1.951334</td>\n",
              "      <td>-0.006899</td>\n",
              "      <td>-0.015080</td>\n",
              "      <td>0.001122</td>\n",
              "      <td>973.0</td>\n",
              "      <td>0.667059</td>\n",
              "    </tr>\n",
              "    <tr>\n",
              "      <th>3</th>\n",
              "      <td>1073741824054</td>\n",
              "      <td>3.900</td>\n",
              "      <td>126.0</td>\n",
              "      <td>3.871543</td>\n",
              "      <td>10.386364</td>\n",
              "      <td>-0.136474</td>\n",
              "      <td>0.001344</td>\n",
              "      <td>-0.339601</td>\n",
              "      <td>-0.017956</td>\n",
              "      <td>902.0</td>\n",
              "      <td>7.913285</td>\n",
              "    </tr>\n",
              "    <tr>\n",
              "      <th>4</th>\n",
              "      <td>1056561954943</td>\n",
              "      <td>3.900</td>\n",
              "      <td>50.0</td>\n",
              "      <td>-0.112882</td>\n",
              "      <td>10.550960</td>\n",
              "      <td>-1.560110</td>\n",
              "      <td>0.130568</td>\n",
              "      <td>-0.061697</td>\n",
              "      <td>0.161530</td>\n",
              "      <td>820.0</td>\n",
              "      <td>20.419409</td>\n",
              "    </tr>\n",
              "  </tbody>\n",
              "</table>\n",
              "</div>"
            ],
            "text/plain": [
              "       bookingID  Accuracy  Bearing  ...    gyro_z  second      Speed\n",
              "0  1202590843006     3.000    353.0  ... -0.009966  1362.0   0.000000\n",
              "1   274877907034     9.293     17.0  ... -0.010858   257.0   0.190000\n",
              "2   884763263056     3.000    189.0  ...  0.001122   973.0   0.667059\n",
              "3  1073741824054     3.900    126.0  ... -0.017956   902.0   7.913285\n",
              "4  1056561954943     3.900     50.0  ...  0.161530   820.0  20.419409\n",
              "\n",
              "[5 rows x 11 columns]"
            ]
          },
          "metadata": {
            "tags": []
          },
          "execution_count": 10
        }
      ]
    },
    {
      "cell_type": "code",
      "metadata": {
        "id": "2pO4Qg91T9Hx",
        "colab_type": "code",
        "colab": {}
      },
      "source": [
        "df = df.sort_values(by='bookingID')"
      ],
      "execution_count": 0,
      "outputs": []
    },
    {
      "cell_type": "code",
      "metadata": {
        "id": "xPjimpLaUWPi",
        "colab_type": "code",
        "outputId": "f50fd3bd-97d6-4283-b931-d06d1983cb64",
        "colab": {
          "base_uri": "https://localhost:8080/",
          "height": 218
        }
      },
      "source": [
        "df = df.reset_index(drop=True)\n",
        "\n",
        "df.to_feather(f'{PATH_FEATURES}/train')\n",
        "\n",
        "df.head()"
      ],
      "execution_count": 12,
      "outputs": [
        {
          "output_type": "execute_result",
          "data": {
            "text/html": [
              "<div>\n",
              "<style scoped>\n",
              "    .dataframe tbody tr th:only-of-type {\n",
              "        vertical-align: middle;\n",
              "    }\n",
              "\n",
              "    .dataframe tbody tr th {\n",
              "        vertical-align: top;\n",
              "    }\n",
              "\n",
              "    .dataframe thead th {\n",
              "        text-align: right;\n",
              "    }\n",
              "</style>\n",
              "<table border=\"1\" class=\"dataframe\">\n",
              "  <thead>\n",
              "    <tr style=\"text-align: right;\">\n",
              "      <th></th>\n",
              "      <th>bookingID</th>\n",
              "      <th>Accuracy</th>\n",
              "      <th>Bearing</th>\n",
              "      <th>acceleration_x</th>\n",
              "      <th>acceleration_y</th>\n",
              "      <th>acceleration_z</th>\n",
              "      <th>gyro_x</th>\n",
              "      <th>gyro_y</th>\n",
              "      <th>gyro_z</th>\n",
              "      <th>second</th>\n",
              "      <th>Speed</th>\n",
              "    </tr>\n",
              "  </thead>\n",
              "  <tbody>\n",
              "    <tr>\n",
              "      <th>0</th>\n",
              "      <td>0</td>\n",
              "      <td>16.0</td>\n",
              "      <td>142.124496</td>\n",
              "      <td>-0.660800</td>\n",
              "      <td>-9.543246</td>\n",
              "      <td>-1.814920</td>\n",
              "      <td>-0.002753</td>\n",
              "      <td>-0.035185</td>\n",
              "      <td>0.014585</td>\n",
              "      <td>183.0</td>\n",
              "      <td>0.227891</td>\n",
              "    </tr>\n",
              "    <tr>\n",
              "      <th>1</th>\n",
              "      <td>0</td>\n",
              "      <td>8.0</td>\n",
              "      <td>315.071838</td>\n",
              "      <td>-0.674707</td>\n",
              "      <td>-9.464740</td>\n",
              "      <td>-1.566092</td>\n",
              "      <td>-0.001937</td>\n",
              "      <td>-0.019093</td>\n",
              "      <td>0.009868</td>\n",
              "      <td>942.0</td>\n",
              "      <td>2.682516</td>\n",
              "    </tr>\n",
              "    <tr>\n",
              "      <th>2</th>\n",
              "      <td>0</td>\n",
              "      <td>16.0</td>\n",
              "      <td>144.125198</td>\n",
              "      <td>-1.183429</td>\n",
              "      <td>-8.491260</td>\n",
              "      <td>-3.712085</td>\n",
              "      <td>0.022289</td>\n",
              "      <td>-0.002134</td>\n",
              "      <td>0.052846</td>\n",
              "      <td>123.0</td>\n",
              "      <td>11.216825</td>\n",
              "    </tr>\n",
              "    <tr>\n",
              "      <th>3</th>\n",
              "      <td>0</td>\n",
              "      <td>16.0</td>\n",
              "      <td>243.958252</td>\n",
              "      <td>-0.600388</td>\n",
              "      <td>-11.128629</td>\n",
              "      <td>-0.485394</td>\n",
              "      <td>-0.034949</td>\n",
              "      <td>-0.021853</td>\n",
              "      <td>-0.012370</td>\n",
              "      <td>241.0</td>\n",
              "      <td>3.728397</td>\n",
              "    </tr>\n",
              "    <tr>\n",
              "      <th>4</th>\n",
              "      <td>0</td>\n",
              "      <td>8.0</td>\n",
              "      <td>38.000866</td>\n",
              "      <td>-0.889590</td>\n",
              "      <td>-8.826669</td>\n",
              "      <td>-1.920493</td>\n",
              "      <td>0.041287</td>\n",
              "      <td>-0.017650</td>\n",
              "      <td>0.033933</td>\n",
              "      <td>1037.0</td>\n",
              "      <td>12.354941</td>\n",
              "    </tr>\n",
              "  </tbody>\n",
              "</table>\n",
              "</div>"
            ],
            "text/plain": [
              "   bookingID  Accuracy     Bearing  ...    gyro_z  second      Speed\n",
              "0          0      16.0  142.124496  ...  0.014585   183.0   0.227891\n",
              "1          0       8.0  315.071838  ...  0.009868   942.0   2.682516\n",
              "2          0      16.0  144.125198  ...  0.052846   123.0  11.216825\n",
              "3          0      16.0  243.958252  ... -0.012370   241.0   3.728397\n",
              "4          0       8.0   38.000866  ...  0.033933  1037.0  12.354941\n",
              "\n",
              "[5 rows x 11 columns]"
            ]
          },
          "metadata": {
            "tags": []
          },
          "execution_count": 12
        }
      ]
    },
    {
      "cell_type": "code",
      "metadata": {
        "id": "zqBsMU9LcomX",
        "colab_type": "code",
        "outputId": "475339bb-f58a-47c6-932a-05cd2eed554f",
        "colab": {
          "base_uri": "https://localhost:8080/",
          "height": 35
        }
      },
      "source": [
        "len(df)"
      ],
      "execution_count": 13,
      "outputs": [
        {
          "output_type": "execute_result",
          "data": {
            "text/plain": [
              "16135561"
            ]
          },
          "metadata": {
            "tags": []
          },
          "execution_count": 13
        }
      ]
    },
    {
      "cell_type": "markdown",
      "metadata": {
        "id": "0D0wKrM7K8Fv",
        "colab_type": "text"
      },
      "source": [
        "Remove `bookingID` with different labels."
      ]
    },
    {
      "cell_type": "code",
      "metadata": {
        "id": "Gwir_NNiDxq5",
        "colab_type": "code",
        "colab": {
          "base_uri": "https://localhost:8080/",
          "height": 35
        },
        "outputId": "3c3d09c6-77cf-4918-a1d9-05f64e6b2cea"
      },
      "source": [
        "label_vc = labels_df['bookingID'].value_counts()\n",
        "\n",
        "remove = label_vc[label_vc.values == 2].index.tolist()\n",
        "\n",
        "print(len(remove))"
      ],
      "execution_count": 14,
      "outputs": [
        {
          "output_type": "stream",
          "text": [
            "18\n"
          ],
          "name": "stdout"
        }
      ]
    },
    {
      "cell_type": "code",
      "metadata": {
        "id": "RNZC9EyKEGFN",
        "colab_type": "code",
        "colab": {}
      },
      "source": [
        "save_df = labels_df[(~labels_df['bookingID'].isin(remove)) |\n",
        "                      (labels_df['bookingID'].isin(remove) & labels_df['label']==1)]"
      ],
      "execution_count": 0,
      "outputs": []
    },
    {
      "cell_type": "code",
      "metadata": {
        "id": "8c0GIUixEdQx",
        "colab_type": "code",
        "colab": {
          "base_uri": "https://localhost:8080/",
          "height": 35
        },
        "outputId": "96120c49-69c0-488a-a7f0-b42f068d7702"
      },
      "source": [
        "len(save_df)"
      ],
      "execution_count": 19,
      "outputs": [
        {
          "output_type": "execute_result",
          "data": {
            "text/plain": [
              "20000"
            ]
          },
          "metadata": {
            "tags": []
          },
          "execution_count": 19
        }
      ]
    },
    {
      "cell_type": "code",
      "metadata": {
        "id": "hM1biU4YEwC-",
        "colab_type": "code",
        "colab": {
          "base_uri": "https://localhost:8080/",
          "height": 78
        },
        "outputId": "4e03f5b4-6f0c-462a-fe7e-76750a3052bb"
      },
      "source": [
        "save_df[save_df['bookingID'] == 13]"
      ],
      "execution_count": 20,
      "outputs": [
        {
          "output_type": "execute_result",
          "data": {
            "text/html": [
              "<div>\n",
              "<style scoped>\n",
              "    .dataframe tbody tr th:only-of-type {\n",
              "        vertical-align: middle;\n",
              "    }\n",
              "\n",
              "    .dataframe tbody tr th {\n",
              "        vertical-align: top;\n",
              "    }\n",
              "\n",
              "    .dataframe thead th {\n",
              "        text-align: right;\n",
              "    }\n",
              "</style>\n",
              "<table border=\"1\" class=\"dataframe\">\n",
              "  <thead>\n",
              "    <tr style=\"text-align: right;\">\n",
              "      <th></th>\n",
              "      <th>bookingID</th>\n",
              "      <th>label</th>\n",
              "    </tr>\n",
              "  </thead>\n",
              "  <tbody>\n",
              "    <tr>\n",
              "      <th>12602</th>\n",
              "      <td>13</td>\n",
              "      <td>1</td>\n",
              "    </tr>\n",
              "  </tbody>\n",
              "</table>\n",
              "</div>"
            ],
            "text/plain": [
              "       bookingID  label\n",
              "12602         13      1"
            ]
          },
          "metadata": {
            "tags": []
          },
          "execution_count": 20
        }
      ]
    },
    {
      "cell_type": "code",
      "metadata": {
        "id": "CH1DHSmMEl5E",
        "colab_type": "code",
        "colab": {}
      },
      "source": [
        "save_df.to_csv(f'{PATH_LABELS}/labels_df.csv')"
      ],
      "execution_count": 0,
      "outputs": []
    },
    {
      "cell_type": "code",
      "metadata": {
        "id": "zUUYgyduKVQh",
        "colab_type": "code",
        "outputId": "8d41140a-4e49-485b-826c-14d282475df8",
        "colab": {
          "base_uri": "https://localhost:8080/",
          "height": 52
        }
      },
      "source": [
        "# df = df[~df['bookingID'].isin(remove)]\n",
        "\n",
        "# print(len(df))"
      ],
      "execution_count": 0,
      "outputs": [
        {
          "output_type": "stream",
          "text": [
            "16135561\n",
            "16116704\n"
          ],
          "name": "stdout"
        }
      ]
    },
    {
      "cell_type": "markdown",
      "metadata": {
        "id": "7EjkeA3wstgA",
        "colab_type": "text"
      },
      "source": [
        "Add the number of appearances of a `bookingID`."
      ]
    },
    {
      "cell_type": "code",
      "metadata": {
        "id": "jNbDOs-meazG",
        "colab_type": "code",
        "outputId": "d3e62ccd-501b-4f74-a744-ddbbe50449d4",
        "colab": {
          "base_uri": "https://localhost:8080/",
          "height": 35
        }
      },
      "source": [
        "# df = pd.read_pickle(f'{PATH_FEATURES}/features_df.pkl')\n",
        "\n",
        "vc = df['bookingID'].value_counts()\n",
        "\n",
        "vc = pd.DataFrame(vc).reset_index()\n",
        "\n",
        "vc = vc.rename(columns={'index': 'bookingID',\n",
        "                        'bookingID': 'unique_counts'})\n",
        "\n",
        "print(len(vc))"
      ],
      "execution_count": 0,
      "outputs": [
        {
          "output_type": "stream",
          "text": [
            "19982\n"
          ],
          "name": "stdout"
        }
      ]
    },
    {
      "cell_type": "code",
      "metadata": {
        "id": "dVo6RjgYhis-",
        "colab_type": "code",
        "outputId": "51de728d-869f-4f28-d1db-2d5cc5d85be5",
        "colab": {
          "base_uri": "https://localhost:8080/",
          "height": 218
        }
      },
      "source": [
        "train_df = pd.merge(df, vc,\n",
        "                    left_on='bookingID', right_on='bookingID',\n",
        "                    how='inner')\n",
        "\n",
        "train_df.head()"
      ],
      "execution_count": 0,
      "outputs": [
        {
          "output_type": "execute_result",
          "data": {
            "text/html": [
              "<div>\n",
              "<style scoped>\n",
              "    .dataframe tbody tr th:only-of-type {\n",
              "        vertical-align: middle;\n",
              "    }\n",
              "\n",
              "    .dataframe tbody tr th {\n",
              "        vertical-align: top;\n",
              "    }\n",
              "\n",
              "    .dataframe thead th {\n",
              "        text-align: right;\n",
              "    }\n",
              "</style>\n",
              "<table border=\"1\" class=\"dataframe\">\n",
              "  <thead>\n",
              "    <tr style=\"text-align: right;\">\n",
              "      <th></th>\n",
              "      <th>bookingID</th>\n",
              "      <th>Accuracy</th>\n",
              "      <th>Bearing</th>\n",
              "      <th>acceleration_x</th>\n",
              "      <th>acceleration_y</th>\n",
              "      <th>acceleration_z</th>\n",
              "      <th>gyro_x</th>\n",
              "      <th>gyro_y</th>\n",
              "      <th>gyro_z</th>\n",
              "      <th>second</th>\n",
              "      <th>Speed</th>\n",
              "      <th>unique_counts</th>\n",
              "    </tr>\n",
              "  </thead>\n",
              "  <tbody>\n",
              "    <tr>\n",
              "      <th>0</th>\n",
              "      <td>0</td>\n",
              "      <td>16.0</td>\n",
              "      <td>142.124496</td>\n",
              "      <td>-0.660800</td>\n",
              "      <td>-9.543246</td>\n",
              "      <td>-1.814920</td>\n",
              "      <td>-0.002753</td>\n",
              "      <td>-0.035185</td>\n",
              "      <td>0.014585</td>\n",
              "      <td>183.0</td>\n",
              "      <td>0.227891</td>\n",
              "      <td>1004</td>\n",
              "    </tr>\n",
              "    <tr>\n",
              "      <th>1</th>\n",
              "      <td>0</td>\n",
              "      <td>8.0</td>\n",
              "      <td>315.071838</td>\n",
              "      <td>-0.674707</td>\n",
              "      <td>-9.464740</td>\n",
              "      <td>-1.566092</td>\n",
              "      <td>-0.001937</td>\n",
              "      <td>-0.019093</td>\n",
              "      <td>0.009868</td>\n",
              "      <td>942.0</td>\n",
              "      <td>2.682516</td>\n",
              "      <td>1004</td>\n",
              "    </tr>\n",
              "    <tr>\n",
              "      <th>2</th>\n",
              "      <td>0</td>\n",
              "      <td>16.0</td>\n",
              "      <td>144.125198</td>\n",
              "      <td>-1.183429</td>\n",
              "      <td>-8.491260</td>\n",
              "      <td>-3.712085</td>\n",
              "      <td>0.022289</td>\n",
              "      <td>-0.002134</td>\n",
              "      <td>0.052846</td>\n",
              "      <td>123.0</td>\n",
              "      <td>11.216825</td>\n",
              "      <td>1004</td>\n",
              "    </tr>\n",
              "    <tr>\n",
              "      <th>3</th>\n",
              "      <td>0</td>\n",
              "      <td>16.0</td>\n",
              "      <td>243.958252</td>\n",
              "      <td>-0.600388</td>\n",
              "      <td>-11.128629</td>\n",
              "      <td>-0.485394</td>\n",
              "      <td>-0.034949</td>\n",
              "      <td>-0.021853</td>\n",
              "      <td>-0.012370</td>\n",
              "      <td>241.0</td>\n",
              "      <td>3.728397</td>\n",
              "      <td>1004</td>\n",
              "    </tr>\n",
              "    <tr>\n",
              "      <th>4</th>\n",
              "      <td>0</td>\n",
              "      <td>8.0</td>\n",
              "      <td>38.000866</td>\n",
              "      <td>-0.889590</td>\n",
              "      <td>-8.826669</td>\n",
              "      <td>-1.920493</td>\n",
              "      <td>0.041287</td>\n",
              "      <td>-0.017650</td>\n",
              "      <td>0.033933</td>\n",
              "      <td>1037.0</td>\n",
              "      <td>12.354941</td>\n",
              "      <td>1004</td>\n",
              "    </tr>\n",
              "  </tbody>\n",
              "</table>\n",
              "</div>"
            ],
            "text/plain": [
              "   bookingID  Accuracy     Bearing  ...  second      Speed  unique_counts\n",
              "0          0      16.0  142.124496  ...   183.0   0.227891           1004\n",
              "1          0       8.0  315.071838  ...   942.0   2.682516           1004\n",
              "2          0      16.0  144.125198  ...   123.0  11.216825           1004\n",
              "3          0      16.0  243.958252  ...   241.0   3.728397           1004\n",
              "4          0       8.0   38.000866  ...  1037.0  12.354941           1004\n",
              "\n",
              "[5 rows x 12 columns]"
            ]
          },
          "metadata": {
            "tags": []
          },
          "execution_count": 18
        }
      ]
    },
    {
      "cell_type": "code",
      "metadata": {
        "id": "ff5xeMD-iZ-O",
        "colab_type": "code",
        "outputId": "553196c0-8312-409a-92b0-36cf9bc469e6",
        "colab": {
          "base_uri": "https://localhost:8080/",
          "height": 259
        }
      },
      "source": [
        "vc = train_df['bookingID'].value_counts()\n",
        "\n",
        "print('head')\n",
        "print(vc.head())\n",
        "print('tail')\n",
        "print(vc.tail())"
      ],
      "execution_count": 0,
      "outputs": [
        {
          "output_type": "stream",
          "text": [
            "head\n",
            "438086664371     7561\n",
            "1374389534819    4499\n",
            "34359738469      4302\n",
            "1108101562533    3925\n",
            "747324309632     3674\n",
            "Name: bookingID, dtype: int64\n",
            "tail\n",
            "489626271850     120\n",
            "1554778161275    120\n",
            "592705486941     120\n",
            "541165879344     120\n",
            "575525617679     120\n",
            "Name: bookingID, dtype: int64\n"
          ],
          "name": "stdout"
        }
      ]
    },
    {
      "cell_type": "markdown",
      "metadata": {
        "id": "uvJzVhNJii6k",
        "colab_type": "text"
      },
      "source": [
        "The highest occurrences of `drivingID` is 7,561 while the lowest is 120."
      ]
    },
    {
      "cell_type": "code",
      "metadata": {
        "id": "kS1pxWScLMJ9",
        "colab_type": "code",
        "outputId": "b3e19ea0-a125-47be-f115-b8eb44e38152",
        "colab": {
          "base_uri": "https://localhost:8080/",
          "height": 104
        }
      },
      "source": [
        "train_df.groupby('bookingID')['Accuracy'].mean()[8:11]"
      ],
      "execution_count": 0,
      "outputs": [
        {
          "output_type": "execute_result",
          "data": {
            "text/plain": [
              "bookingID\n",
              "11     4.222360\n",
              "14    20.283333\n",
              "16     4.429040\n",
              "Name: Accuracy, dtype: float64"
            ]
          },
          "metadata": {
            "tags": []
          },
          "execution_count": 23
        }
      ]
    },
    {
      "cell_type": "code",
      "metadata": {
        "id": "9AkK_S0QaBU4",
        "colab_type": "code",
        "colab": {}
      },
      "source": [
        "# !pip install pyarrow\n",
        "\n",
        "train_df.to_feather(f'{PATH_FEATURES}/train')"
      ],
      "execution_count": 0,
      "outputs": []
    },
    {
      "cell_type": "code",
      "metadata": {
        "id": "Y0Fpw4pIsVSp",
        "colab_type": "code",
        "outputId": "9811ff58-d49a-4ff5-c5a5-4f212a433dbc",
        "colab": {
          "base_uri": "https://localhost:8080/",
          "height": 347
        }
      },
      "source": [
        "vc = labels_df['label'].value_counts()\n",
        "\n",
        "print(vc)\n",
        "\n",
        "# check distribution of target\n",
        "plt.figure(figsize=(6,4))\n",
        "plt.title('Distribution of labels')\n",
        "plt.xlabel('Label')\n",
        "plt.ylabel('Frequency')\n",
        "sns.barplot(vc.index,\n",
        "            vc.values)\n",
        "plt.show()"
      ],
      "execution_count": 0,
      "outputs": [
        {
          "output_type": "stream",
          "text": [
            "0    15017\n",
            "1     5001\n",
            "Name: label, dtype: int64\n"
          ],
          "name": "stdout"
        },
        {
          "output_type": "display_data",
          "data": {
            "image/png": "[encoded data removed]",
            "text/plain": [
              "<Figure size 432x288 with 1 Axes>"
            ]
          },
          "metadata": {
            "tags": []
          }
        }
      ]
    },
    {
      "cell_type": "markdown",
      "metadata": {
        "id": "2LEAyLp8jKaV",
        "colab_type": "text"
      },
      "source": [
        "Distribution of labels is approximately 1:3. "
      ]
    }
  ]
}