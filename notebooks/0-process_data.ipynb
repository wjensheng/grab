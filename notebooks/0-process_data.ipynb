{
  "nbformat": 4,
  "nbformat_minor": 0,
  "metadata": {
    "colab": {
      "name": "process_data.ipynb",
      "version": "0.3.2",
      "provenance": [],
      "collapsed_sections": []
    },
    "kernelspec": {
      "name": "python3",
      "display_name": "Python 3"
    },
    "accelerator": "GPU"
  },
  "cells": [
    {
      "cell_type": "code",
      "metadata": {
        "id": "3PJh8GCBygUD",
        "colab_type": "code",
        "outputId": "24ac004a-44f1-4f66-9285-01bef6a79864",
        "colab": {
          "base_uri": "https://localhost:8080/",
          "height": 55
        }
      },
      "source": [
        "# Load the Drive helper and mount\n",
        "from google.colab import drive\n",
        "\n",
        "# This will prompt for authorization.\n",
        "drive.mount('/content/drive')"
      ],
      "execution_count": 0,
      "outputs": [
        {
          "output_type": "stream",
          "text": [
            "Drive already mounted at /content/drive; to attempt to forcibly remount, call drive.mount(\"/content/drive\", force_remount=True).\n"
          ],
          "name": "stdout"
        }
      ]
    },
    {
      "cell_type": "code",
      "metadata": {
        "id": "LYvPY7HsyiC9",
        "colab_type": "code",
        "colab": {}
      },
      "source": [
        "import pandas as pd\n",
        "import numpy as np\n",
        "import seaborn as sns\n",
        "import matplotlib.pyplot as plt\n",
        "import os\n",
        "import gc\n",
        "import re\n",
        "\n",
        "from tqdm import tqdm\n",
        "from collections import Counter\n",
        "\n",
        "import warnings\n",
        "warnings.simplefilter(action='ignore')\n",
        "\n",
        "# change to path\n",
        "PATH='/content/drive/My Drive/Colab Notebooks/grab/'\n",
        "os.chdir(PATH)"
      ],
      "execution_count": 0,
      "outputs": []
    },
    {
      "cell_type": "code",
      "metadata": {
        "id": "Lbg0DM5uPWeP",
        "colab_type": "code",
        "colab": {}
      },
      "source": [
        "PATH_LABELS = PATH + 'safety/labels'\n",
        "PATH_FEATURES = PATH + 'safety/features'"
      ],
      "execution_count": 0,
      "outputs": []
    },
    {
      "cell_type": "code",
      "metadata": {
        "id": "FitXRBMFRMpH",
        "colab_type": "code",
        "outputId": "463205c0-f81f-4f60-8ecb-45ea463690c6",
        "colab": {
          "base_uri": "https://localhost:8080/",
          "height": 198
        }
      },
      "source": [
        "labels_df = pd.read_csv(f'{PATH_LABELS}/part-00000-e9445087-aa0a-433b-a7f6-7f4c19d78ad6-c000.csv')\n",
        "\n",
        "labels_df.head()"
      ],
      "execution_count": 0,
      "outputs": [
        {
          "output_type": "execute_result",
          "data": {
            "text/html": [
              "<div>\n",
              "<style scoped>\n",
              "    .dataframe tbody tr th:only-of-type {\n",
              "        vertical-align: middle;\n",
              "    }\n",
              "\n",
              "    .dataframe tbody tr th {\n",
              "        vertical-align: top;\n",
              "    }\n",
              "\n",
              "    .dataframe thead th {\n",
              "        text-align: right;\n",
              "    }\n",
              "</style>\n",
              "<table border=\"1\" class=\"dataframe\">\n",
              "  <thead>\n",
              "    <tr style=\"text-align: right;\">\n",
              "      <th></th>\n",
              "      <th>bookingID</th>\n",
              "      <th>label</th>\n",
              "    </tr>\n",
              "  </thead>\n",
              "  <tbody>\n",
              "    <tr>\n",
              "      <th>0</th>\n",
              "      <td>111669149733</td>\n",
              "      <td>0</td>\n",
              "    </tr>\n",
              "    <tr>\n",
              "      <th>1</th>\n",
              "      <td>335007449205</td>\n",
              "      <td>1</td>\n",
              "    </tr>\n",
              "    <tr>\n",
              "      <th>2</th>\n",
              "      <td>171798691856</td>\n",
              "      <td>0</td>\n",
              "    </tr>\n",
              "    <tr>\n",
              "      <th>3</th>\n",
              "      <td>1520418422900</td>\n",
              "      <td>0</td>\n",
              "    </tr>\n",
              "    <tr>\n",
              "      <th>4</th>\n",
              "      <td>798863917116</td>\n",
              "      <td>0</td>\n",
              "    </tr>\n",
              "  </tbody>\n",
              "</table>\n",
              "</div>"
            ],
            "text/plain": [
              "       bookingID  label\n",
              "0   111669149733      0\n",
              "1   335007449205      1\n",
              "2   171798691856      0\n",
              "3  1520418422900      0\n",
              "4   798863917116      0"
            ]
          },
          "metadata": {
            "tags": []
          },
          "execution_count": 4
        }
      ]
    },
    {
      "cell_type": "code",
      "metadata": {
        "id": "Eilv-pivbbKX",
        "colab_type": "code",
        "outputId": "4b1aa4ac-c0d5-408d-c5e0-9870d67253bf",
        "colab": {
          "base_uri": "https://localhost:8080/",
          "height": 35
        }
      },
      "source": [
        "len(labels_df), labels_df['bookingID'].nunique()"
      ],
      "execution_count": 0,
      "outputs": [
        {
          "output_type": "execute_result",
          "data": {
            "text/plain": [
              "(20018, 20000)"
            ]
          },
          "metadata": {
            "tags": []
          },
          "execution_count": 5
        }
      ]
    },
    {
      "cell_type": "code",
      "metadata": {
        "id": "DGsaNILtTZGV",
        "colab_type": "code",
        "colab": {}
      },
      "source": [
        "df = pd.DataFrame()"
      ],
      "execution_count": 0,
      "outputs": []
    },
    {
      "cell_type": "code",
      "metadata": {
        "id": "K9dG4U1iTnxf",
        "colab_type": "code",
        "outputId": "43c986ae-2c9e-43a6-986b-67979917e03b",
        "colab": {
          "base_uri": "https://localhost:8080/",
          "height": 35
        }
      },
      "source": [
        "gc.collect()"
      ],
      "execution_count": 0,
      "outputs": [
        {
          "output_type": "execute_result",
          "data": {
            "text/plain": [
              "11"
            ]
          },
          "metadata": {
            "tags": []
          },
          "execution_count": 7
        }
      ]
    },
    {
      "cell_type": "code",
      "metadata": {
        "id": "jIG9eSzKRYh8",
        "colab_type": "code",
        "outputId": "a5a984f5-cdfa-4cfe-d899-97b0ff1ecc77",
        "colab": {
          "base_uri": "https://localhost:8080/",
          "height": 190
        }
      },
      "source": [
        "os.listdir(PATH_FEATURES)\n",
        "\n",
        "for i in range(10):\n",
        "    fn = f'{PATH_FEATURES}/part-0000' + str(i) + '-e6120af0-10c2-4248-97c4-81baf4304e5c-c000.csv'\n",
        "    curr_df = pd.read_csv(fn)\n",
        "    df = pd.concat([df, curr_df])\n",
        "    print(i, len(df))\n",
        "    \n",
        "# # UNCOMMENT    \n",
        "# test = pd.DataFrame()    \n",
        "# for i in range(10):\n",
        "    # fn = f'{PATH_FEATURES}/' + '-------------INSERT TEST-------------'\n",
        "    # curr_df = pd.read_csv(fn)\n",
        "    # test = pd.concat([test, curr_df])\n",
        "    # print(i, len(test))    "
      ],
      "execution_count": 0,
      "outputs": [
        {
          "output_type": "stream",
          "text": [
            "0 1613554\n",
            "1 3227112\n",
            "2 4840667\n",
            "3 6454220\n",
            "4 8067779\n",
            "5 9681330\n",
            "6 11294883\n",
            "7 12908439\n",
            "8 14521999\n",
            "9 16135561\n"
          ],
          "name": "stdout"
        }
      ]
    },
    {
      "cell_type": "code",
      "metadata": {
        "id": "AqQ64Rm8pKri",
        "colab_type": "code",
        "colab": {}
      },
      "source": [
        "# # UNCOMMENT\n",
        "# test = test.sort_values(by=['bookingID', 'second'])\n",
        "# test.to_feather(f'{PATH_FEATURES}/test')"
      ],
      "execution_count": 0,
      "outputs": []
    },
    {
      "cell_type": "code",
      "metadata": {
        "id": "JKjcE0ENJ2G5",
        "colab_type": "code",
        "outputId": "d5eddb14-dafc-4804-e116-4a2f236ec75f",
        "colab": {
          "base_uri": "https://localhost:8080/",
          "height": 218
        }
      },
      "source": [
        "df.head()"
      ],
      "execution_count": 0,
      "outputs": [
        {
          "output_type": "execute_result",
          "data": {
            "text/html": [
              "<div>\n",
              "<style scoped>\n",
              "    .dataframe tbody tr th:only-of-type {\n",
              "        vertical-align: middle;\n",
              "    }\n",
              "\n",
              "    .dataframe tbody tr th {\n",
              "        vertical-align: top;\n",
              "    }\n",
              "\n",
              "    .dataframe thead th {\n",
              "        text-align: right;\n",
              "    }\n",
              "</style>\n",
              "<table border=\"1\" class=\"dataframe\">\n",
              "  <thead>\n",
              "    <tr style=\"text-align: right;\">\n",
              "      <th></th>\n",
              "      <th>bookingID</th>\n",
              "      <th>Accuracy</th>\n",
              "      <th>Bearing</th>\n",
              "      <th>acceleration_x</th>\n",
              "      <th>acceleration_y</th>\n",
              "      <th>acceleration_z</th>\n",
              "      <th>gyro_x</th>\n",
              "      <th>gyro_y</th>\n",
              "      <th>gyro_z</th>\n",
              "      <th>second</th>\n",
              "      <th>Speed</th>\n",
              "    </tr>\n",
              "  </thead>\n",
              "  <tbody>\n",
              "    <tr>\n",
              "      <th>0</th>\n",
              "      <td>1202590843006</td>\n",
              "      <td>3.000</td>\n",
              "      <td>353.0</td>\n",
              "      <td>1.228867</td>\n",
              "      <td>8.900100</td>\n",
              "      <td>3.986968</td>\n",
              "      <td>0.008221</td>\n",
              "      <td>0.002269</td>\n",
              "      <td>-0.009966</td>\n",
              "      <td>1362.0</td>\n",
              "      <td>0.000000</td>\n",
              "    </tr>\n",
              "    <tr>\n",
              "      <th>1</th>\n",
              "      <td>274877907034</td>\n",
              "      <td>9.293</td>\n",
              "      <td>17.0</td>\n",
              "      <td>0.032775</td>\n",
              "      <td>8.659933</td>\n",
              "      <td>4.737300</td>\n",
              "      <td>0.024629</td>\n",
              "      <td>0.004028</td>\n",
              "      <td>-0.010858</td>\n",
              "      <td>257.0</td>\n",
              "      <td>0.190000</td>\n",
              "    </tr>\n",
              "    <tr>\n",
              "      <th>2</th>\n",
              "      <td>884763263056</td>\n",
              "      <td>3.000</td>\n",
              "      <td>189.0</td>\n",
              "      <td>1.139675</td>\n",
              "      <td>9.545974</td>\n",
              "      <td>1.951334</td>\n",
              "      <td>-0.006899</td>\n",
              "      <td>-0.015080</td>\n",
              "      <td>0.001122</td>\n",
              "      <td>973.0</td>\n",
              "      <td>0.667059</td>\n",
              "    </tr>\n",
              "    <tr>\n",
              "      <th>3</th>\n",
              "      <td>1073741824054</td>\n",
              "      <td>3.900</td>\n",
              "      <td>126.0</td>\n",
              "      <td>3.871543</td>\n",
              "      <td>10.386364</td>\n",
              "      <td>-0.136474</td>\n",
              "      <td>0.001344</td>\n",
              "      <td>-0.339601</td>\n",
              "      <td>-0.017956</td>\n",
              "      <td>902.0</td>\n",
              "      <td>7.913285</td>\n",
              "    </tr>\n",
              "    <tr>\n",
              "      <th>4</th>\n",
              "      <td>1056561954943</td>\n",
              "      <td>3.900</td>\n",
              "      <td>50.0</td>\n",
              "      <td>-0.112882</td>\n",
              "      <td>10.550960</td>\n",
              "      <td>-1.560110</td>\n",
              "      <td>0.130568</td>\n",
              "      <td>-0.061697</td>\n",
              "      <td>0.161530</td>\n",
              "      <td>820.0</td>\n",
              "      <td>20.419409</td>\n",
              "    </tr>\n",
              "  </tbody>\n",
              "</table>\n",
              "</div>"
            ],
            "text/plain": [
              "       bookingID  Accuracy  Bearing  ...    gyro_z  second      Speed\n",
              "0  1202590843006     3.000    353.0  ... -0.009966  1362.0   0.000000\n",
              "1   274877907034     9.293     17.0  ... -0.010858   257.0   0.190000\n",
              "2   884763263056     3.000    189.0  ...  0.001122   973.0   0.667059\n",
              "3  1073741824054     3.900    126.0  ... -0.017956   902.0   7.913285\n",
              "4  1056561954943     3.900     50.0  ...  0.161530   820.0  20.419409\n",
              "\n",
              "[5 rows x 11 columns]"
            ]
          },
          "metadata": {
            "tags": []
          },
          "execution_count": 9
        }
      ]
    },
    {
      "cell_type": "code",
      "metadata": {
        "id": "2pO4Qg91T9Hx",
        "colab_type": "code",
        "colab": {}
      },
      "source": [
        "df = df.sort_values(by=['bookingID', 'second'])"
      ],
      "execution_count": 0,
      "outputs": []
    },
    {
      "cell_type": "code",
      "metadata": {
        "id": "aPDWA6xWtaV4",
        "colab_type": "code",
        "outputId": "1afbd365-2c6c-4928-f61d-ce8a1ee4ffc5",
        "colab": {
          "base_uri": "https://localhost:8080/",
          "height": 218
        }
      },
      "source": [
        "df.head()"
      ],
      "execution_count": 0,
      "outputs": [
        {
          "output_type": "execute_result",
          "data": {
            "text/html": [
              "<div>\n",
              "<style scoped>\n",
              "    .dataframe tbody tr th:only-of-type {\n",
              "        vertical-align: middle;\n",
              "    }\n",
              "\n",
              "    .dataframe tbody tr th {\n",
              "        vertical-align: top;\n",
              "    }\n",
              "\n",
              "    .dataframe thead th {\n",
              "        text-align: right;\n",
              "    }\n",
              "</style>\n",
              "<table border=\"1\" class=\"dataframe\">\n",
              "  <thead>\n",
              "    <tr style=\"text-align: right;\">\n",
              "      <th></th>\n",
              "      <th>bookingID</th>\n",
              "      <th>Accuracy</th>\n",
              "      <th>Bearing</th>\n",
              "      <th>acceleration_x</th>\n",
              "      <th>acceleration_y</th>\n",
              "      <th>acceleration_z</th>\n",
              "      <th>gyro_x</th>\n",
              "      <th>gyro_y</th>\n",
              "      <th>gyro_z</th>\n",
              "      <th>second</th>\n",
              "      <th>Speed</th>\n",
              "    </tr>\n",
              "  </thead>\n",
              "  <tbody>\n",
              "    <tr>\n",
              "      <th>1153972</th>\n",
              "      <td>0</td>\n",
              "      <td>12.0</td>\n",
              "      <td>143.298294</td>\n",
              "      <td>0.818112</td>\n",
              "      <td>-9.941461</td>\n",
              "      <td>-2.014999</td>\n",
              "      <td>-0.016245</td>\n",
              "      <td>-0.094040</td>\n",
              "      <td>0.070732</td>\n",
              "      <td>0.0</td>\n",
              "      <td>3.442991</td>\n",
              "    </tr>\n",
              "    <tr>\n",
              "      <th>712971</th>\n",
              "      <td>0</td>\n",
              "      <td>8.0</td>\n",
              "      <td>143.298294</td>\n",
              "      <td>0.546405</td>\n",
              "      <td>-9.835590</td>\n",
              "      <td>-2.038925</td>\n",
              "      <td>-0.047092</td>\n",
              "      <td>-0.078874</td>\n",
              "      <td>0.043187</td>\n",
              "      <td>1.0</td>\n",
              "      <td>0.228454</td>\n",
              "    </tr>\n",
              "    <tr>\n",
              "      <th>167611</th>\n",
              "      <td>0</td>\n",
              "      <td>8.0</td>\n",
              "      <td>143.298294</td>\n",
              "      <td>-1.706207</td>\n",
              "      <td>-9.270792</td>\n",
              "      <td>-1.209448</td>\n",
              "      <td>-0.028965</td>\n",
              "      <td>-0.032652</td>\n",
              "      <td>0.015390</td>\n",
              "      <td>2.0</td>\n",
              "      <td>0.228454</td>\n",
              "    </tr>\n",
              "    <tr>\n",
              "      <th>436147</th>\n",
              "      <td>0</td>\n",
              "      <td>8.0</td>\n",
              "      <td>143.298294</td>\n",
              "      <td>-1.416705</td>\n",
              "      <td>-9.548032</td>\n",
              "      <td>-1.860977</td>\n",
              "      <td>-0.022413</td>\n",
              "      <td>0.005049</td>\n",
              "      <td>-0.025753</td>\n",
              "      <td>3.0</td>\n",
              "      <td>0.228454</td>\n",
              "    </tr>\n",
              "    <tr>\n",
              "      <th>1423207</th>\n",
              "      <td>0</td>\n",
              "      <td>8.0</td>\n",
              "      <td>143.298294</td>\n",
              "      <td>-0.598145</td>\n",
              "      <td>-9.853534</td>\n",
              "      <td>-1.378574</td>\n",
              "      <td>-0.014297</td>\n",
              "      <td>-0.046206</td>\n",
              "      <td>0.021902</td>\n",
              "      <td>4.0</td>\n",
              "      <td>0.228454</td>\n",
              "    </tr>\n",
              "  </tbody>\n",
              "</table>\n",
              "</div>"
            ],
            "text/plain": [
              "         bookingID  Accuracy     Bearing  ...    gyro_z  second     Speed\n",
              "1153972          0      12.0  143.298294  ...  0.070732     0.0  3.442991\n",
              "712971           0       8.0  143.298294  ...  0.043187     1.0  0.228454\n",
              "167611           0       8.0  143.298294  ...  0.015390     2.0  0.228454\n",
              "436147           0       8.0  143.298294  ... -0.025753     3.0  0.228454\n",
              "1423207          0       8.0  143.298294  ...  0.021902     4.0  0.228454\n",
              "\n",
              "[5 rows x 11 columns]"
            ]
          },
          "metadata": {
            "tags": []
          },
          "execution_count": 11
        }
      ]
    },
    {
      "cell_type": "code",
      "metadata": {
        "id": "xPjimpLaUWPi",
        "colab_type": "code",
        "outputId": "5cbfc042-7f9f-4502-f312-86697d931ea8",
        "colab": {
          "base_uri": "https://localhost:8080/",
          "height": 218
        }
      },
      "source": [
        "df = df.reset_index(drop=True)\n",
        "\n",
        "df.to_feather(f'{PATH_FEATURES}/train')\n",
        "\n",
        "df.head()"
      ],
      "execution_count": 0,
      "outputs": [
        {
          "output_type": "execute_result",
          "data": {
            "text/html": [
              "<div>\n",
              "<style scoped>\n",
              "    .dataframe tbody tr th:only-of-type {\n",
              "        vertical-align: middle;\n",
              "    }\n",
              "\n",
              "    .dataframe tbody tr th {\n",
              "        vertical-align: top;\n",
              "    }\n",
              "\n",
              "    .dataframe thead th {\n",
              "        text-align: right;\n",
              "    }\n",
              "</style>\n",
              "<table border=\"1\" class=\"dataframe\">\n",
              "  <thead>\n",
              "    <tr style=\"text-align: right;\">\n",
              "      <th></th>\n",
              "      <th>bookingID</th>\n",
              "      <th>Accuracy</th>\n",
              "      <th>Bearing</th>\n",
              "      <th>acceleration_x</th>\n",
              "      <th>acceleration_y</th>\n",
              "      <th>acceleration_z</th>\n",
              "      <th>gyro_x</th>\n",
              "      <th>gyro_y</th>\n",
              "      <th>gyro_z</th>\n",
              "      <th>second</th>\n",
              "      <th>Speed</th>\n",
              "    </tr>\n",
              "  </thead>\n",
              "  <tbody>\n",
              "    <tr>\n",
              "      <th>0</th>\n",
              "      <td>0</td>\n",
              "      <td>12.0</td>\n",
              "      <td>143.298294</td>\n",
              "      <td>0.818112</td>\n",
              "      <td>-9.941461</td>\n",
              "      <td>-2.014999</td>\n",
              "      <td>-0.016245</td>\n",
              "      <td>-0.094040</td>\n",
              "      <td>0.070732</td>\n",
              "      <td>0.0</td>\n",
              "      <td>3.442991</td>\n",
              "    </tr>\n",
              "    <tr>\n",
              "      <th>1</th>\n",
              "      <td>0</td>\n",
              "      <td>8.0</td>\n",
              "      <td>143.298294</td>\n",
              "      <td>0.546405</td>\n",
              "      <td>-9.835590</td>\n",
              "      <td>-2.038925</td>\n",
              "      <td>-0.047092</td>\n",
              "      <td>-0.078874</td>\n",
              "      <td>0.043187</td>\n",
              "      <td>1.0</td>\n",
              "      <td>0.228454</td>\n",
              "    </tr>\n",
              "    <tr>\n",
              "      <th>2</th>\n",
              "      <td>0</td>\n",
              "      <td>8.0</td>\n",
              "      <td>143.298294</td>\n",
              "      <td>-1.706207</td>\n",
              "      <td>-9.270792</td>\n",
              "      <td>-1.209448</td>\n",
              "      <td>-0.028965</td>\n",
              "      <td>-0.032652</td>\n",
              "      <td>0.015390</td>\n",
              "      <td>2.0</td>\n",
              "      <td>0.228454</td>\n",
              "    </tr>\n",
              "    <tr>\n",
              "      <th>3</th>\n",
              "      <td>0</td>\n",
              "      <td>8.0</td>\n",
              "      <td>143.298294</td>\n",
              "      <td>-1.416705</td>\n",
              "      <td>-9.548032</td>\n",
              "      <td>-1.860977</td>\n",
              "      <td>-0.022413</td>\n",
              "      <td>0.005049</td>\n",
              "      <td>-0.025753</td>\n",
              "      <td>3.0</td>\n",
              "      <td>0.228454</td>\n",
              "    </tr>\n",
              "    <tr>\n",
              "      <th>4</th>\n",
              "      <td>0</td>\n",
              "      <td>8.0</td>\n",
              "      <td>143.298294</td>\n",
              "      <td>-0.598145</td>\n",
              "      <td>-9.853534</td>\n",
              "      <td>-1.378574</td>\n",
              "      <td>-0.014297</td>\n",
              "      <td>-0.046206</td>\n",
              "      <td>0.021902</td>\n",
              "      <td>4.0</td>\n",
              "      <td>0.228454</td>\n",
              "    </tr>\n",
              "  </tbody>\n",
              "</table>\n",
              "</div>"
            ],
            "text/plain": [
              "   bookingID  Accuracy     Bearing  ...    gyro_z  second     Speed\n",
              "0          0      12.0  143.298294  ...  0.070732     0.0  3.442991\n",
              "1          0       8.0  143.298294  ...  0.043187     1.0  0.228454\n",
              "2          0       8.0  143.298294  ...  0.015390     2.0  0.228454\n",
              "3          0       8.0  143.298294  ... -0.025753     3.0  0.228454\n",
              "4          0       8.0  143.298294  ...  0.021902     4.0  0.228454\n",
              "\n",
              "[5 rows x 11 columns]"
            ]
          },
          "metadata": {
            "tags": []
          },
          "execution_count": 12
        }
      ]
    },
    {
      "cell_type": "code",
      "metadata": {
        "id": "zqBsMU9LcomX",
        "colab_type": "code",
        "outputId": "2e35f18d-e6ea-4610-e8a2-7ca9788c29ee",
        "colab": {
          "base_uri": "https://localhost:8080/",
          "height": 35
        }
      },
      "source": [
        "len(df)"
      ],
      "execution_count": 0,
      "outputs": [
        {
          "output_type": "execute_result",
          "data": {
            "text/plain": [
              "16135561"
            ]
          },
          "metadata": {
            "tags": []
          },
          "execution_count": 13
        }
      ]
    },
    {
      "cell_type": "markdown",
      "metadata": {
        "id": "0D0wKrM7K8Fv",
        "colab_type": "text"
      },
      "source": [
        "Remove `bookingID` with different labels."
      ]
    },
    {
      "cell_type": "code",
      "metadata": {
        "id": "Gwir_NNiDxq5",
        "colab_type": "code",
        "outputId": "efb8cb8e-324b-4455-8734-bdb9fcbfc78c",
        "colab": {
          "base_uri": "https://localhost:8080/",
          "height": 35
        }
      },
      "source": [
        "label_vc = labels_df['bookingID'].value_counts()\n",
        "\n",
        "remove = label_vc[label_vc.values == 2].index.tolist()\n",
        "\n",
        "print(len(remove))"
      ],
      "execution_count": 0,
      "outputs": [
        {
          "output_type": "stream",
          "text": [
            "18\n"
          ],
          "name": "stdout"
        }
      ]
    },
    {
      "cell_type": "code",
      "metadata": {
        "id": "RNZC9EyKEGFN",
        "colab_type": "code",
        "colab": {}
      },
      "source": [
        "save_df = labels_df[(~labels_df['bookingID'].isin(remove)) |\n",
        "                      (labels_df['bookingID'].isin(remove) & labels_df['label']==1)]"
      ],
      "execution_count": 0,
      "outputs": []
    },
    {
      "cell_type": "code",
      "metadata": {
        "id": "8c0GIUixEdQx",
        "colab_type": "code",
        "outputId": "1dd2a483-58cb-4470-a34f-4171e8adac2c",
        "colab": {
          "base_uri": "https://localhost:8080/",
          "height": 35
        }
      },
      "source": [
        "len(save_df)"
      ],
      "execution_count": 0,
      "outputs": [
        {
          "output_type": "execute_result",
          "data": {
            "text/plain": [
              "20000"
            ]
          },
          "metadata": {
            "tags": []
          },
          "execution_count": 16
        }
      ]
    },
    {
      "cell_type": "code",
      "metadata": {
        "id": "hM1biU4YEwC-",
        "colab_type": "code",
        "outputId": "ee65d49f-8ae1-4655-9e91-1aeec6d23637",
        "colab": {
          "base_uri": "https://localhost:8080/",
          "height": 78
        }
      },
      "source": [
        "save_df[save_df['bookingID'] == 13]"
      ],
      "execution_count": 0,
      "outputs": [
        {
          "output_type": "execute_result",
          "data": {
            "text/html": [
              "<div>\n",
              "<style scoped>\n",
              "    .dataframe tbody tr th:only-of-type {\n",
              "        vertical-align: middle;\n",
              "    }\n",
              "\n",
              "    .dataframe tbody tr th {\n",
              "        vertical-align: top;\n",
              "    }\n",
              "\n",
              "    .dataframe thead th {\n",
              "        text-align: right;\n",
              "    }\n",
              "</style>\n",
              "<table border=\"1\" class=\"dataframe\">\n",
              "  <thead>\n",
              "    <tr style=\"text-align: right;\">\n",
              "      <th></th>\n",
              "      <th>bookingID</th>\n",
              "      <th>label</th>\n",
              "    </tr>\n",
              "  </thead>\n",
              "  <tbody>\n",
              "    <tr>\n",
              "      <th>12602</th>\n",
              "      <td>13</td>\n",
              "      <td>1</td>\n",
              "    </tr>\n",
              "  </tbody>\n",
              "</table>\n",
              "</div>"
            ],
            "text/plain": [
              "       bookingID  label\n",
              "12602         13      1"
            ]
          },
          "metadata": {
            "tags": []
          },
          "execution_count": 17
        }
      ]
    },
    {
      "cell_type": "code",
      "metadata": {
        "id": "CH1DHSmMEl5E",
        "colab_type": "code",
        "colab": {}
      },
      "source": [
        "save_df.to_csv(f'{PATH_LABELS}/labels_df.csv')"
      ],
      "execution_count": 0,
      "outputs": []
    },
    {
      "cell_type": "code",
      "metadata": {
        "id": "-mgPaL5gtue8",
        "colab_type": "code",
        "colab": {}
      },
      "source": [
        ""
      ],
      "execution_count": 0,
      "outputs": []
    }
  ]
}