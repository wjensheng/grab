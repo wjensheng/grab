{
  "nbformat": 4,
  "nbformat_minor": 0,
  "metadata": {
    "colab": {
      "name": "nn-3.ipynb",
      "version": "0.3.2",
      "provenance": [],
      "collapsed_sections": []
    },
    "kernelspec": {
      "name": "python3",
      "display_name": "Python 3"
    },
    "accelerator": "TPU"
  },
  "cells": [
    {
      "cell_type": "code",
      "metadata": {
        "id": "3PJh8GCBygUD",
        "colab_type": "code",
        "outputId": "e494ed92-cdc5-4e0d-bbef-f3a3fd85af97",
        "colab": {
          "base_uri": "https://localhost:8080/",
          "height": 124
        }
      },
      "source": [
        "# Load the Drive helper and mount\n",
        "from google.colab import drive\n",
        "\n",
        "# This will prompt for authorization.\n",
        "drive.mount('/content/drive')"
      ],
      "execution_count": 1,
      "outputs": [
        {
          "output_type": "stream",
          "text": [
            "Go to this URL in a browser: https://accounts.google.com/o/oauth2/auth?client_id=947318989803-6bn6qk8qdgf4n4g3pfee6491hc0brc4i.apps.googleusercontent.com&redirect_uri=urn%3Aietf%3Awg%3Aoauth%3A2.0%3Aoob&scope=email%20https%3A%2F%2Fwww.googleapis.com%2Fauth%2Fdocs.test%20https%3A%2F%2Fwww.googleapis.com%2Fauth%2Fdrive%20https%3A%2F%2Fwww.googleapis.com%2Fauth%2Fdrive.photos.readonly%20https%3A%2F%2Fwww.googleapis.com%2Fauth%2Fpeopleapi.readonly&response_type=code\n",
            "\n",
            "Enter your authorization code:\n",
            "··········\n",
            "Mounted at /content/drive\n"
          ],
          "name": "stdout"
        }
      ]
    },
    {
      "cell_type": "code",
      "metadata": {
        "id": "38Iy_eql7D4O",
        "colab_type": "code",
        "outputId": "4f1ea214-35a8-4d22-d957-293aca7f04bd",
        "colab": {
          "base_uri": "https://localhost:8080/",
          "height": 69
        }
      },
      "source": [
        "!pip install pyarrow"
      ],
      "execution_count": 2,
      "outputs": [
        {
          "output_type": "stream",
          "text": [
            "Requirement already satisfied: pyarrow in /usr/local/lib/python3.6/dist-packages (0.13.0)\n",
            "Requirement already satisfied: six>=1.0.0 in /usr/local/lib/python3.6/dist-packages (from pyarrow) (1.12.0)\n",
            "Requirement already satisfied: numpy>=1.14 in /usr/local/lib/python3.6/dist-packages (from pyarrow) (1.16.4)\n"
          ],
          "name": "stdout"
        }
      ]
    },
    {
      "cell_type": "code",
      "metadata": {
        "id": "LYvPY7HsyiC9",
        "colab_type": "code",
        "colab": {}
      },
      "source": [
        "import pandas as pd\n",
        "import numpy as np\n",
        "import seaborn as sns\n",
        "import matplotlib.pyplot as plt\n",
        "import os\n",
        "import gc\n",
        "import math\n",
        "import re\n",
        "\n",
        "from numba import jit\n",
        "from tqdm import tqdm\n",
        "from collections import Counter\n",
        "\n",
        "from sklearn.model_selection import KFold, StratifiedKFold\n",
        "from sklearn.metrics import roc_auc_score\n",
        "\n",
        "import lightgbm as lgb\n",
        "\n",
        "import warnings\n",
        "warnings.simplefilter(action='ignore')\n",
        "\n",
        "# change to path\n",
        "PATH='/content/drive/My Drive/Colab Notebooks/grab/'\n",
        "os.chdir(PATH)"
      ],
      "execution_count": 0,
      "outputs": []
    },
    {
      "cell_type": "code",
      "metadata": {
        "id": "ge6vhG7GgiAG",
        "colab_type": "code",
        "colab": {}
      },
      "source": [
        "PATH_LABELS = PATH + 'safety/labels'\n",
        "PATH_FEATURES = PATH + 'safety/features'"
      ],
      "execution_count": 0,
      "outputs": []
    },
    {
      "cell_type": "markdown",
      "metadata": {
        "id": "cqsic_Qpg98K",
        "colab_type": "text"
      },
      "source": [
        "## Read in\n",
        "Here, I work on the dataset."
      ]
    },
    {
      "cell_type": "code",
      "metadata": {
        "id": "WWCpwVOXlL6J",
        "colab_type": "code",
        "colab": {}
      },
      "source": [
        "labels_df = pd.read_csv(f'{PATH_LABELS}/part-00000-e9445087-aa0a-433b-a7f6-7f4c19d78ad6-c000.csv')"
      ],
      "execution_count": 0,
      "outputs": []
    },
    {
      "cell_type": "code",
      "metadata": {
        "id": "IKZjU5clEy8W",
        "colab_type": "code",
        "outputId": "f105d45a-06c6-472f-ac07-6f3e4f9e0887",
        "colab": {
          "base_uri": "https://localhost:8080/",
          "height": 218
        }
      },
      "source": [
        "train_df = pd.read_pickle(f'{PATH_FEATURES}/sub_df_100.pkl')\n",
        "\n",
        "# train_df = pd.read_pickle(f'{PATH_FEATURES}/train_df.pkl')\n",
        "\n",
        "train_df.head()"
      ],
      "execution_count": 10,
      "outputs": [
        {
          "output_type": "execute_result",
          "data": {
            "text/html": [
              "<div>\n",
              "<style scoped>\n",
              "    .dataframe tbody tr th:only-of-type {\n",
              "        vertical-align: middle;\n",
              "    }\n",
              "\n",
              "    .dataframe tbody tr th {\n",
              "        vertical-align: top;\n",
              "    }\n",
              "\n",
              "    .dataframe thead th {\n",
              "        text-align: right;\n",
              "    }\n",
              "</style>\n",
              "<table border=\"1\" class=\"dataframe\">\n",
              "  <thead>\n",
              "    <tr style=\"text-align: right;\">\n",
              "      <th></th>\n",
              "      <th>bookingID</th>\n",
              "      <th>Accuracy</th>\n",
              "      <th>Bearing</th>\n",
              "      <th>acceleration_x</th>\n",
              "      <th>acceleration_y</th>\n",
              "      <th>acceleration_z</th>\n",
              "      <th>gyro_x</th>\n",
              "      <th>gyro_y</th>\n",
              "      <th>gyro_z</th>\n",
              "      <th>second</th>\n",
              "      <th>Speed</th>\n",
              "      <th>label</th>\n",
              "    </tr>\n",
              "  </thead>\n",
              "  <tbody>\n",
              "    <tr>\n",
              "      <th>0</th>\n",
              "      <td>0</td>\n",
              "      <td>16.0</td>\n",
              "      <td>142.124496</td>\n",
              "      <td>-0.660800</td>\n",
              "      <td>-9.543246</td>\n",
              "      <td>-1.814920</td>\n",
              "      <td>-0.002753</td>\n",
              "      <td>-0.035185</td>\n",
              "      <td>0.014585</td>\n",
              "      <td>183.0</td>\n",
              "      <td>0.227891</td>\n",
              "      <td>0</td>\n",
              "    </tr>\n",
              "    <tr>\n",
              "      <th>1</th>\n",
              "      <td>0</td>\n",
              "      <td>8.0</td>\n",
              "      <td>315.071838</td>\n",
              "      <td>-0.674707</td>\n",
              "      <td>-9.464740</td>\n",
              "      <td>-1.566092</td>\n",
              "      <td>-0.001937</td>\n",
              "      <td>-0.019093</td>\n",
              "      <td>0.009868</td>\n",
              "      <td>942.0</td>\n",
              "      <td>2.682516</td>\n",
              "      <td>0</td>\n",
              "    </tr>\n",
              "    <tr>\n",
              "      <th>2</th>\n",
              "      <td>0</td>\n",
              "      <td>16.0</td>\n",
              "      <td>144.125198</td>\n",
              "      <td>-1.183429</td>\n",
              "      <td>-8.491260</td>\n",
              "      <td>-3.712085</td>\n",
              "      <td>0.022289</td>\n",
              "      <td>-0.002134</td>\n",
              "      <td>0.052846</td>\n",
              "      <td>123.0</td>\n",
              "      <td>11.216825</td>\n",
              "      <td>0</td>\n",
              "    </tr>\n",
              "    <tr>\n",
              "      <th>3</th>\n",
              "      <td>0</td>\n",
              "      <td>16.0</td>\n",
              "      <td>243.958252</td>\n",
              "      <td>-0.600388</td>\n",
              "      <td>-11.128629</td>\n",
              "      <td>-0.485394</td>\n",
              "      <td>-0.034949</td>\n",
              "      <td>-0.021853</td>\n",
              "      <td>-0.012370</td>\n",
              "      <td>241.0</td>\n",
              "      <td>3.728397</td>\n",
              "      <td>0</td>\n",
              "    </tr>\n",
              "    <tr>\n",
              "      <th>4</th>\n",
              "      <td>0</td>\n",
              "      <td>8.0</td>\n",
              "      <td>38.000866</td>\n",
              "      <td>-0.889590</td>\n",
              "      <td>-8.826669</td>\n",
              "      <td>-1.920493</td>\n",
              "      <td>0.041287</td>\n",
              "      <td>-0.017650</td>\n",
              "      <td>0.033933</td>\n",
              "      <td>1037.0</td>\n",
              "      <td>12.354941</td>\n",
              "      <td>0</td>\n",
              "    </tr>\n",
              "  </tbody>\n",
              "</table>\n",
              "</div>"
            ],
            "text/plain": [
              "   bookingID  Accuracy     Bearing  ...  second      Speed  label\n",
              "0          0      16.0  142.124496  ...   183.0   0.227891      0\n",
              "1          0       8.0  315.071838  ...   942.0   2.682516      0\n",
              "2          0      16.0  144.125198  ...   123.0  11.216825      0\n",
              "3          0      16.0  243.958252  ...   241.0   3.728397      0\n",
              "4          0       8.0   38.000866  ...  1037.0  12.354941      0\n",
              "\n",
              "[5 rows x 12 columns]"
            ]
          },
          "metadata": {
            "tags": []
          },
          "execution_count": 10
        }
      ]
    },
    {
      "cell_type": "code",
      "metadata": {
        "id": "gpkXqf7n-pU5",
        "colab_type": "code",
        "outputId": "f035ac12-e482-4bcd-d12c-f9ac592e6ad2",
        "colab": {
          "base_uri": "https://localhost:8080/",
          "height": 52
        }
      },
      "source": [
        "print(train_df.shape)\n",
        "\n",
        "roll(train_df)\n",
        "pitch(train_df)\n",
        "\n",
        "print(train_df.shape)"
      ],
      "execution_count": 20,
      "outputs": [
        {
          "output_type": "stream",
          "text": [
            "(1998200, 12)\n",
            "(1998200, 14)\n"
          ],
          "name": "stdout"
        }
      ]
    },
    {
      "cell_type": "code",
      "metadata": {
        "id": "ycUd53JWulf7",
        "colab_type": "code",
        "colab": {}
      },
      "source": [
        "feat_cols = [c for c in train_df.columns if c not in ['bookingID', 'label', 'Accuracy', 'second', 'Speed', 'Bearing']]\n",
        "\n",
        "num_series = train_df['bookingID'].nunique() # 7626\n",
        "num_sessions = 100\n",
        "num_features = len(feat_cols)"
      ],
      "execution_count": 0,
      "outputs": []
    },
    {
      "cell_type": "code",
      "metadata": {
        "id": "9mD-iDp0usg1",
        "colab_type": "code",
        "colab": {
          "base_uri": "https://localhost:8080/",
          "height": 35
        },
        "outputId": "6b31d51e-93b3-4603-9d0e-7e61a45cd6b7"
      },
      "source": [
        "num_series, num_sessions, num_features"
      ],
      "execution_count": 35,
      "outputs": [
        {
          "output_type": "execute_result",
          "data": {
            "text/plain": [
              "(19982, 100, 8)"
            ]
          },
          "metadata": {
            "tags": []
          },
          "execution_count": 35
        }
      ]
    },
    {
      "cell_type": "code",
      "metadata": {
        "id": "Gv9-4z1xt5DK",
        "colab_type": "code",
        "colab": {
          "base_uri": "https://localhost:8080/",
          "height": 35
        },
        "outputId": "3826f438-3c4a-4621-873e-5db9ba4820d7"
      },
      "source": [
        "feat_array = np.array(train_df[feat_cols])\n",
        "feat_array = np.reshape(feat_array, [num_series, num_sessions, num_features])\n",
        "\n",
        "feat_array.shape"
      ],
      "execution_count": 36,
      "outputs": [
        {
          "output_type": "execute_result",
          "data": {
            "text/plain": [
              "(19982, 100, 8)"
            ]
          },
          "metadata": {
            "tags": []
          },
          "execution_count": 36
        }
      ]
    },
    {
      "cell_type": "code",
      "metadata": {
        "id": "mYTbLEefuzzK",
        "colab_type": "code",
        "colab": {
          "base_uri": "https://localhost:8080/",
          "height": 35
        },
        "outputId": "b263dd9c-2bcf-4b95-8252-e0c315a5bc23"
      },
      "source": [
        "target_array = np.array(train_df['label'])\n",
        "target_array = np.reshape(target_array, [num_series, num_sessions])\n",
        "target_array = target_array[:,0]\n",
        "\n",
        "target_array.shape"
      ],
      "execution_count": 37,
      "outputs": [
        {
          "output_type": "execute_result",
          "data": {
            "text/plain": [
              "(19982,)"
            ]
          },
          "metadata": {
            "tags": []
          },
          "execution_count": 37
        }
      ]
    },
    {
      "cell_type": "code",
      "metadata": {
        "id": "ZCC_P3z9vA_2",
        "colab_type": "code",
        "colab": {
          "base_uri": "https://localhost:8080/",
          "height": 52
        },
        "outputId": "44523d21-7514-4625-93df-0ff975fc00ba"
      },
      "source": [
        "delta_cols = ['roll','pitch'] \n",
        "\n",
        "for dc in delta_cols:\n",
        "    iia = feat_cols.index(dc)\n",
        "    print(iia)\n",
        "    np_arr = feat_array[:,:,iia]\n",
        "    roll_arr = np.copy(np_arr)\n",
        "    roll_arr[:,1:] = roll_arr[:,:-1]\n",
        "    np_arr = np_arr - roll_arr\n",
        "    feat_array[:,:,iia] = np_arr"
      ],
      "execution_count": 38,
      "outputs": [
        {
          "output_type": "stream",
          "text": [
            "6\n",
            "7\n"
          ],
          "name": "stdout"
        }
      ]
    },
    {
      "cell_type": "code",
      "metadata": {
        "id": "jq5sfqL9z_SL",
        "colab_type": "code",
        "colab": {
          "base_uri": "https://localhost:8080/",
          "height": 121
        },
        "outputId": "6696668f-d79f-44bc-bb81-1d91fda8c526"
      },
      "source": [
        "norm_cols = ['acceleration_x','acceleration_y','acceleration_z',\n",
        "             'gyro_x','gyro_y','gyro_z']\n",
        "\n",
        "for norm in norm_cols:\n",
        "    iia = feat_cols.index(norm)\n",
        "    print(iia)\n",
        "    np_arr = feat_array[:,:,iia]\n",
        "    mean_arr = np.mean(np_arr, 1)\n",
        "    mean_arr = np.expand_dims(mean_arr, 1)\n",
        "    mean_arr = np.repeat(mean_arr, num_sessions, 1)\n",
        "    np_arr = np_arr - mean_arr\n",
        "    feat_array[:,:,iia] = np_arr"
      ],
      "execution_count": 39,
      "outputs": [
        {
          "output_type": "stream",
          "text": [
            "0\n",
            "1\n",
            "2\n",
            "3\n",
            "4\n",
            "5\n"
          ],
          "name": "stdout"
        }
      ]
    },
    {
      "cell_type": "code",
      "metadata": {
        "id": "UWTaYK_p0NeI",
        "colab_type": "code",
        "colab": {}
      },
      "source": [
        "def absfft(x):\n",
        "    return np.abs(np.fft.rfft(x))\n",
        "\n",
        "feat_fft_array = np.copy(feat_array[:,:,:6])\n",
        "feat_fft_array = np.apply_along_axis(absfft,1,feat_fft_array)"
      ],
      "execution_count": 0,
      "outputs": []
    },
    {
      "cell_type": "code",
      "metadata": {
        "id": "_XKUKNBC0WPI",
        "colab_type": "code",
        "colab": {
          "base_uri": "https://localhost:8080/",
          "height": 155
        },
        "outputId": "f949f730-1d51-4184-f183-010f073a5a1a"
      },
      "source": [
        "feat_cols"
      ],
      "execution_count": 41,
      "outputs": [
        {
          "output_type": "execute_result",
          "data": {
            "text/plain": [
              "['acceleration_x',\n",
              " 'acceleration_y',\n",
              " 'acceleration_z',\n",
              " 'gyro_x',\n",
              " 'gyro_y',\n",
              " 'gyro_z',\n",
              " 'roll',\n",
              " 'pitch']"
            ]
          },
          "metadata": {
            "tags": []
          },
          "execution_count": 41
        }
      ]
    },
    {
      "cell_type": "code",
      "metadata": {
        "id": "dEETHI3k0ivD",
        "colab_type": "code",
        "colab": {}
      },
      "source": [
        "#Further normalization across the entire dataset to ensure NN inputs are zero-mean and unit standard deviation\n",
        "\n",
        "num_sensor = feat_array.shape[2]\n",
        "for i in range(num_sensor):\n",
        "    mean_s = np.mean(feat_array[:,:,i])\n",
        "    sd_s = np.std(feat_array[:,:,i])\n",
        "    feat_array[:,:,i] = (feat_array[:,:,i]-mean_s)/sd_s\n",
        "\n",
        "num_sensor_fft = feat_fft_array.shape[2]\n",
        "for i in range(num_sensor_fft):\n",
        "    mean_s = np.mean(feat_fft_array[:,:,i])\n",
        "    sd_s = np.std(feat_fft_array[:,:,i])\n",
        "    feat_fft_array[:,:,i] = (feat_fft_array[:,:,i]-mean_s)/sd_s"
      ],
      "execution_count": 0,
      "outputs": []
    },
    {
      "cell_type": "code",
      "metadata": {
        "id": "jLtLt5ex0mJh",
        "colab_type": "code",
        "colab": {
          "base_uri": "https://localhost:8080/",
          "height": 35
        },
        "outputId": "67765322-1765-470a-ad4f-178fbde37c05"
      },
      "source": [
        "feat_fft_array.shape, feat_array.shape"
      ],
      "execution_count": 44,
      "outputs": [
        {
          "output_type": "execute_result",
          "data": {
            "text/plain": [
              "((19982, 51, 6), (19982, 100, 8))"
            ]
          },
          "metadata": {
            "tags": []
          },
          "execution_count": 44
        }
      ]
    },
    {
      "cell_type": "code",
      "metadata": {
        "id": "OhJU3iSg0tO2",
        "colab_type": "code",
        "colab": {
          "base_uri": "https://localhost:8080/",
          "height": 35
        },
        "outputId": "d237769e-c263-4a83-e8e6-ce70f819c5ba"
      },
      "source": [
        "from keras.layers import Input,Dense, Dropout, BatchNormalization, SeparableConv1D, Reshape, LSTM, DepthwiseConv2D,AveragePooling2D, CuDNNLSTM, Concatenate\n",
        "from keras.models import Model\n",
        "from keras.backend import squeeze\n",
        "from keras.regularizers import l2\n",
        "kr = None\n",
        "num_surfaces = np.unique(target_array).shape[0]\n",
        "\n",
        "def get_net_with_fft_mag_only(dp):\n",
        "    inputs_t = Input(shape=(num_sessions,len(feat_cols)))\n",
        "    x = SeparableConv1D(32,8,2,'same',depth_multiplier=1,activation='relu',kernel_regularizer=kr)(inputs_t)\n",
        "    x = Dropout(dp)(x)\n",
        "    x = SeparableConv1D(64,8,4,'same',depth_multiplier=1,activation='relu',kernel_regularizer=kr)(x)\n",
        "    x = Dropout(dp)(x)\n",
        "    x = SeparableConv1D(128,8,4,'same',depth_multiplier=1,activation='relu',kernel_regularizer=kr)(x)\n",
        "    x = Dropout(dp)(x)\n",
        "    x = SeparableConv1D(256,8,4,'same',depth_multiplier=1,activation='relu',kernel_regularizer=kr)(x)\n",
        "    x = Reshape((256,))(x)\n",
        "    x = Dropout(dp)(x)\n",
        "    x = Dense(64, activation='relu',kernel_regularizer=kr)(x)\n",
        "    x = Dropout(dp)(x)\n",
        "    x = Dense(64, activation='relu')(x)\n",
        "    \n",
        "    inputs_f = Input(shape=(feat_fft_array.shape[1],feat_fft_array.shape[2]))\n",
        "    y = SeparableConv1D(32,8,2,'same',depth_multiplier=1,activation='relu',kernel_regularizer=kr)(inputs_f)\n",
        "    y = Dropout(dp)(y)\n",
        "    y = SeparableConv1D(64,8,2,'same',depth_multiplier=1,activation='relu',kernel_regularizer=kr)(y)\n",
        "    y = Dropout(dp)(y)\n",
        "    y = SeparableConv1D(128,8,4,'same',depth_multiplier=1,activation='relu',kernel_regularizer=kr)(y)\n",
        "    y = Dropout(dp)(y)\n",
        "    y = SeparableConv1D(128,8,4,'same',depth_multiplier=1,activation='relu',kernel_regularizer=kr)(y)\n",
        "    y = Dropout(dp)(y)\n",
        "    y = SeparableConv1D(256,8,2,'same',depth_multiplier=1,activation='relu',kernel_regularizer=kr)(y)\n",
        "    y = Reshape((256,))(y)\n",
        "    y = Dropout(dp)(y)\n",
        "    y = Dense(64, activation='relu',kernel_regularizer=kr)(y)\n",
        "    y = Dropout(dp)(y)\n",
        "    y = Dense(64, activation='relu')(y)\n",
        "    \n",
        "        \n",
        "    inputs = [inputs_t,inputs_f]\n",
        "    \n",
        "    z = Concatenate()([x,y])\n",
        "    z = Dense(64, activation='relu')(z)\n",
        "    predictions = Dense(num_surfaces, activation='softmax')(z)\n",
        "    model = Model(inputs=inputs, outputs=predictions)\n",
        "    model.compile(optimizer='adam',\n",
        "                  loss='sparse_categorical_crossentropy',\n",
        "                  metrics=['accuracy'])\n",
        "    return model"
      ],
      "execution_count": 45,
      "outputs": [
        {
          "output_type": "stream",
          "text": [
            "Using TensorFlow backend.\n"
          ],
          "name": "stderr"
        }
      ]
    },
    {
      "cell_type": "code",
      "metadata": {
        "id": "nF446H650tTp",
        "colab_type": "code",
        "colab": {}
      },
      "source": [
        "# nnet = get_net_with_fft_mag_only(0.5)\n",
        "# nnet.fit(x=[t_feats,t_feats_fft],y=t_vals,batch_size=256,epochs=3000,validation_data=([v_feats,v_feats_fft],v_vals),verbose=2)\n",
        "# pred_classes[:,:,k] = nnet.predict([v_feats,v_feats_fft])"
      ],
      "execution_count": 0,
      "outputs": []
    },
    {
      "cell_type": "code",
      "metadata": {
        "id": "HKLJITf81mBz",
        "colab_type": "code",
        "colab": {}
      },
      "source": [
        "random_state = 42\n",
        "np.random.seed(random_state)\n",
        "\n",
        "folds=5\n",
        "skf = StratifiedKFold(n_splits=folds, shuffle=True, random_state=42)\n",
        "\n",
        "val_aucs = []\n",
        "feature_importance_df = pd.DataFrame()\n",
        "\n",
        "oof = train_df[['bookingID', 'label']]\n",
        "oof['predict'] = 0\n",
        "oof = oof.reset_index()"
      ],
      "execution_count": 0,
      "outputs": []
    },
    {
      "cell_type": "code",
      "metadata": {
        "id": "N6DCOFRo0tad",
        "colab_type": "code",
        "colab": {
          "base_uri": "https://localhost:8080/",
          "height": 535
        },
        "outputId": "738d5b76-ac0a-489a-fd6e-0cd7de4ce9e3"
      },
      "source": [
        "skf = StratifiedKFold(n_splits=folds, shuffle=True, random_state=42)\n",
        "preds = np.zeros_like(target_array)\n",
        "\n",
        "for fold, (train_idx, test_idx) in enumerate(skf.split(feat_array, target_array)): \n",
        "    # Test features\n",
        "    t_feats = feat_array[train_idx]\n",
        "    t_feats_fft = feat_fft_array[train_idx]\n",
        "\n",
        "    # Validation features\n",
        "    v_feats = feat_array[test_idx]\n",
        "    v_feats_fft = feat_fft_array[test_idx]\n",
        "\n",
        "    t_vals = target_array[train_idx]\n",
        "    v_vals = target_array[test_idx]\n",
        "\n",
        "    pred_classes = np.zeros([v_vals.shape[0],num_surfaces,5])\n",
        "    \n",
        "#     for k in range(5): #5 time averaging to get more stable results\n",
        "    nnet = get_net_with_fft_mag_only(0.5)\n",
        "    nnet.fit(x=[t_feats,t_feats_fft],y=t_vals,batch_size=256,epochs=5,validation_data=([v_feats,v_feats_fft],v_vals),verbose=2)\n",
        "#     pred_classes[:,:,k] = nnet.predict([v_feats,v_feats_fft])\n",
        "\n",
        "#     pred_classes = np.mean(pred_classes,axis=2)\n",
        "    pred_classes = nnet.predict([v_feats,v_feats_fft])\n",
        "    pred_classes = np.argmax(pred_classes,axis=1)\n",
        "#     preds[test_idx] = pred_classes\n",
        "\n",
        "    preds[test_idx] = pred_classes\n",
        "  \n",
        "    print('Val accuracy: ',roc_auc_score(v_vals,pred_classes))\n",
        "    pred_classes = nnet.predict([t_feats,t_feats_fft])\n",
        "    pred_classes = np.argmax(pred_classes,axis=1)\n",
        "    print('Train accuracy: ',roc_auc_score(t_vals,pred_classes))\n",
        "    \n",
        "print('5 Fold accuracy: ', roc_auc_score(target_array,preds))"
      ],
      "execution_count": 0,
      "outputs": [
        {
          "output_type": "stream",
          "text": [
            "Train on 15985 samples, validate on 3997 samples\n",
            "Epoch 1/5\n",
            " - 9s - loss: 0.5851 - acc: 0.7453 - val_loss: 0.5616 - val_acc: 0.7506\n",
            "Epoch 2/5\n",
            " - 5s - loss: 0.5579 - acc: 0.7508 - val_loss: 0.5515 - val_acc: 0.7618\n",
            "Epoch 3/5\n",
            " - 5s - loss: 0.5538 - acc: 0.7573 - val_loss: 0.5508 - val_acc: 0.7536\n",
            "Epoch 4/5\n",
            " - 5s - loss: 0.5508 - acc: 0.7600 - val_loss: 0.5476 - val_acc: 0.7628\n",
            "Epoch 5/5\n",
            " - 5s - loss: 0.5501 - acc: 0.7593 - val_loss: 0.5454 - val_acc: 0.7638\n",
            "Val accuracy:  0.5359551989301238\n",
            "Train accuracy:  0.5315001998619471\n",
            "Train on 15985 samples, validate on 3997 samples\n",
            "Epoch 1/5\n",
            " - 9s - loss: 0.5822 - acc: 0.7479 - val_loss: 0.5615 - val_acc: 0.7506\n",
            "Epoch 2/5\n",
            " - 5s - loss: 0.5585 - acc: 0.7507 - val_loss: 0.5541 - val_acc: 0.7601\n",
            "Epoch 3/5\n",
            " - 5s - loss: 0.5516 - acc: 0.7592 - val_loss: 0.5475 - val_acc: 0.7613\n",
            "Epoch 4/5\n",
            " - 5s - loss: 0.5508 - acc: 0.7591 - val_loss: 0.5473 - val_acc: 0.7616\n",
            "Epoch 5/5\n",
            " - 5s - loss: 0.5503 - acc: 0.7596 - val_loss: 0.5492 - val_acc: 0.7596\n",
            "Val accuracy:  0.5230767301905717\n",
            "Train accuracy:  0.5258906840664552\n",
            "Train on 15985 samples, validate on 3997 samples\n",
            "Epoch 1/5\n",
            " - 9s - loss: 0.5816 - acc: 0.7505 - val_loss: 0.5613 - val_acc: 0.7506\n",
            "Epoch 2/5\n"
          ],
          "name": "stdout"
        }
      ]
    },
    {
      "cell_type": "code",
      "metadata": {
        "id": "Mej6n_aS0tdS",
        "colab_type": "code",
        "colab": {}
      },
      "source": [
        ""
      ],
      "execution_count": 0,
      "outputs": []
    },
    {
      "cell_type": "code",
      "metadata": {
        "id": "8EwFZCXn0tf7",
        "colab_type": "code",
        "colab": {}
      },
      "source": [
        ""
      ],
      "execution_count": 0,
      "outputs": []
    },
    {
      "cell_type": "markdown",
      "metadata": {
        "colab_type": "text",
        "id": "6CUvHG8qnQli"
      },
      "source": [
        "## EDA"
      ]
    },
    {
      "cell_type": "code",
      "metadata": {
        "id": "F-4-IODMS5ow",
        "colab_type": "code",
        "outputId": "d36841b1-91f4-4326-8e86-987e1cd48bf2",
        "colab": {
          "base_uri": "https://localhost:8080/",
          "height": 35
        }
      },
      "source": [
        "ids = train_df['bookingID'].unique().tolist()\n",
        "\n",
        "len(ids)"
      ],
      "execution_count": 0,
      "outputs": [
        {
          "output_type": "execute_result",
          "data": {
            "text/plain": [
              "19982"
            ]
          },
          "metadata": {
            "tags": []
          },
          "execution_count": 5
        }
      ]
    },
    {
      "cell_type": "code",
      "metadata": {
        "colab_type": "code",
        "id": "oeLMGMLcUftC",
        "colab": {}
      },
      "source": [
        "# # explore an ID\n",
        "# example = train_df[(train_df['bookingID'] == 0) |\n",
        "#                    (train_df['bookingID'] == 1709396983975)]\n",
        "\n",
        "# ids = example['bookingID'].unique()\n",
        "\n",
        "# print(ids)\n",
        "\n",
        "# # highest accuracy\n",
        "# np.sort(example['Accuracy'].values)[::-1]\n",
        "\n",
        "# example[example['Accuracy'] > 20]"
      ],
      "execution_count": 0,
      "outputs": []
    },
    {
      "cell_type": "code",
      "metadata": {
        "id": "dxEmw2l89upS",
        "colab_type": "code",
        "colab": {}
      },
      "source": [
        "# example.describe()"
      ],
      "execution_count": 0,
      "outputs": []
    },
    {
      "cell_type": "markdown",
      "metadata": {
        "id": "kj97QRZG5XgM",
        "colab_type": "text"
      },
      "source": [
        "## Feature engineering\n",
        "Some ideas are taken from this [discussion](https://www.kaggle.com/c/axa-driver-telematics-analysis/discussion/12848#latest-66913). "
      ]
    },
    {
      "cell_type": "code",
      "metadata": {
        "id": "v6vJjW7B5YeH",
        "colab_type": "code",
        "colab": {}
      },
      "source": [
        "def total_a(df):\n",
        "    # acceleration combining all directions\n",
        "    total_a = np.power(df['acceleration_x'].values, 2) + \\\n",
        "                np.power(df['acceleration_y'].values, 2) + \\\n",
        "                np.power(df['acceleration_z'].values, 2)\n",
        "    \n",
        "    df['total_a'] = np.sqrt(total_a)\n",
        "    \n",
        "def total_gyro(df):\n",
        "    # gyro combining all directions\n",
        "    total_gyro = np.power(df['gyro_x'].values, 2) + \\\n",
        "                 np.power(df['gyro_y'].values, 2) + \\\n",
        "                 np.power(df['gyro_z'].values, 2)\n",
        "    \n",
        "    df['total_gyro'] = np.sqrt(total_gyro)\n",
        "    \n",
        "def roll(df):\n",
        "    # roll  \n",
        "    yz = df[['acceleration_y', 'acceleration_z']].values\n",
        "    y, z = yz[:, 0], yz[:, 1]\n",
        "       \n",
        "    df['roll'] = np.arctan2(y, z)\n",
        "      \n",
        "def pitch(df):\n",
        "    # pitch\n",
        "    xyz = df[['acceleration_x', 'acceleration_y', 'acceleration_z']].values\n",
        "    x, y, z = xyz[:, 0], xyz[:, 1], xyz[:, 2]\n",
        "    \n",
        "    df['pitch'] = np.arctan2(-x, np.sqrt(np.power(y, 2) + np.power(z, 2)))\n",
        "    \n",
        "def horsepower(df):\n",
        "    df['horsepower'] = df['total_a'] * df['Speed']\n",
        "    \n",
        "def aggressive_turn(df):\n",
        "    pass\n",
        "  \n",
        "def jerk(df):\n",
        "    pass\n",
        "  \n",
        "def a_threshold(df):\n",
        "    # and difference > threshold\n",
        "    pass  \n",
        "  \n",
        "def fe(df):\n",
        "    total_a(df)\n",
        "    total_gyro(df)\n",
        "    roll(df)\n",
        "    pitch(df)\n",
        "    horsepower(df)"
      ],
      "execution_count": 0,
      "outputs": []
    },
    {
      "cell_type": "code",
      "metadata": {
        "id": "2L228WBcy8rV",
        "colab_type": "code",
        "outputId": "6a0e385d-6333-4f6e-e782-4b02c32d3541",
        "colab": {
          "base_uri": "https://localhost:8080/",
          "height": 52
        }
      },
      "source": [
        "%%time\n",
        "fe(train_df)"
      ],
      "execution_count": 0,
      "outputs": [
        {
          "output_type": "stream",
          "text": [
            "CPU times: user 5.46 s, sys: 5.69 s, total: 11.2 s\n",
            "Wall time: 11.1 s\n"
          ],
          "name": "stdout"
        }
      ]
    },
    {
      "cell_type": "code",
      "metadata": {
        "id": "mybTIb1nZVZS",
        "colab_type": "code",
        "outputId": "ea6b2972-0ad5-434d-9583-e50abdd02a8f",
        "colab": {
          "base_uri": "https://localhost:8080/",
          "height": 276
        }
      },
      "source": [
        "exclude = ['label', 'bookingID', 'unique_counts']\n",
        "\n",
        "features = [c for c in train_df.columns if c not in exclude]\n",
        "\n",
        "len(features)\n",
        "\n",
        "features"
      ],
      "execution_count": 0,
      "outputs": [
        {
          "output_type": "execute_result",
          "data": {
            "text/plain": [
              "['Accuracy',\n",
              " 'Bearing',\n",
              " 'acceleration_x',\n",
              " 'acceleration_y',\n",
              " 'acceleration_z',\n",
              " 'gyro_x',\n",
              " 'gyro_y',\n",
              " 'gyro_z',\n",
              " 'second',\n",
              " 'Speed',\n",
              " 'total_a',\n",
              " 'total_gyro',\n",
              " 'roll',\n",
              " 'pitch',\n",
              " 'horsepower']"
            ]
          },
          "metadata": {
            "tags": []
          },
          "execution_count": 48
        }
      ]
    },
    {
      "cell_type": "markdown",
      "metadata": {
        "id": "GtR4H8qYuNWA",
        "colab_type": "text"
      },
      "source": [
        "## Accuracy\n",
        "Extract the `TOP_N` highest accuracy features."
      ]
    },
    {
      "cell_type": "code",
      "metadata": {
        "id": "KAm2_xJfVX1c",
        "colab_type": "code",
        "colab": {}
      },
      "source": [
        "@jit(nopython=True)\n",
        "def accuracy_features(accuracy, feature, TOP_N=1):\n",
        "    idxs = np.argsort(accuracy)[::-1][:TOP_N]\n",
        "    return feature[idxs]"
      ],
      "execution_count": 0,
      "outputs": []
    },
    {
      "cell_type": "code",
      "metadata": {
        "id": "kCF1V3lsWjfa",
        "colab_type": "code",
        "colab": {}
      },
      "source": [
        "# %%time\n",
        "# TOP_N_SPEED_2 = np.empty((len(ids), TOP_N))\n",
        "# # TOP_N_HP = np.empty((len(ids), TOP_N))\n",
        "\n",
        "# for i in tqdm(range(len(ids))):\n",
        "#     accuracy = train_df[train_df['bookingID'] == ids[i]]['Accuracy'].values\n",
        "#     features = train_df[train_df['bookingID'] == ids[i]]['Speed'].values\n",
        "\n",
        "#     TOP_N_SPEED_2[i] = accuracy_features(accuracy, features, 3)    "
      ],
      "execution_count": 0,
      "outputs": []
    },
    {
      "cell_type": "code",
      "metadata": {
        "id": "iQouRIxtuPU2",
        "colab_type": "code",
        "colab": {}
      },
      "source": [
        "def top_accuracy_f(bookingID, df, f, N=1):\n",
        "  \n",
        "    subset = df[df['bookingID'] == bookingID]   \n",
        "    \n",
        "    # get indices with top N highest accuracy\n",
        "    idxs = np.argsort(subset['Accuracy'].values)[::-1][:N]    \n",
        "    \n",
        "    return subset.iloc[idxs][f].values.T"
      ],
      "execution_count": 0,
      "outputs": []
    },
    {
      "cell_type": "code",
      "metadata": {
        "id": "ZvGUHHmeuzHA",
        "colab_type": "code",
        "outputId": "c945a3dc-d08d-4890-c59d-c778794d1452",
        "colab": {
          "base_uri": "https://localhost:8080/",
          "height": 35
        }
      },
      "source": [
        "gc.collect()"
      ],
      "execution_count": 0,
      "outputs": [
        {
          "output_type": "execute_result",
          "data": {
            "text/plain": [
              "891"
            ]
          },
          "metadata": {
            "tags": []
          },
          "execution_count": 72
        }
      ]
    },
    {
      "cell_type": "code",
      "metadata": {
        "id": "SfyRv4LNuQhT",
        "colab_type": "code",
        "colab": {}
      },
      "source": [
        "# %%time\n",
        "# TOP_N = 3\n",
        "\n",
        "# TOP_N_SPEED = np.empty((len(ids), TOP_N))\n",
        "# TOP_N_HP = np.empty((len(ids), TOP_N))\n",
        "\n",
        "# for i in range(len(ids)):\n",
        "#     TOP_N_SPEED[i] = top_accuracy_f(ids[i], train_df, 'Speed', TOP_N)\n",
        "#     TOP_N_HP[i] = top_accuracy_f(ids[i], train_df, 'horsepower', TOP_N)"
      ],
      "execution_count": 0,
      "outputs": []
    },
    {
      "cell_type": "markdown",
      "metadata": {
        "id": "dGQZo0SkQJLG",
        "colab_type": "text"
      },
      "source": [
        "## Normalization"
      ]
    },
    {
      "cell_type": "code",
      "metadata": {
        "id": "pF4MkiOhQHlW",
        "colab_type": "code",
        "colab": {}
      },
      "source": [
        "# from sklearn.preprocessing import StandardScaler, MinMaxScaler\n",
        "\n",
        "# from tqdm import tqdm\n",
        "\n",
        "# def normalize_by_ids(df):\n",
        "#     drivers = df['bookingID'].unique()\n",
        "#     for driver in tqdm(drivers):\n",
        "#         ids = df[df['bookingID'] == driver].index\n",
        "#         scaler = MinMaxScaler()\n",
        "#         df.loc[ids, features] = scaler.fit_transform(df.loc[ids, features])\n",
        "        \n",
        "# normalize_by_ids(sub_df)"
      ],
      "execution_count": 0,
      "outputs": []
    },
    {
      "cell_type": "code",
      "metadata": {
        "id": "wXvDCCPMfs9_",
        "colab_type": "code",
        "colab": {}
      },
      "source": [
        "# =======\n",
        "# differentiation features\n",
        "# =======\n",
        "def fo(x):\n",
        "    return np.diff(x)\n",
        "\n",
        "def so(x):\n",
        "    return np.diff(fo(x))\n",
        "\n",
        "def fo_mean(x):\n",
        "    # first order diff mean\n",
        "    return np.mean(fo(x))\n",
        "\n",
        "def so_mean(x):\n",
        "    # second order diff mean\n",
        "    return np.mean(so(x))         \n",
        "\n",
        "def fo_min(x):\n",
        "    # first order diff min\n",
        "    return np.min(fo(x))\n",
        "\n",
        "def so_min(x):\n",
        "    # second order diff min\n",
        "    return np.min(so(x))   \n",
        "\n",
        "def fo_max(x):\n",
        "    # first order diff max\n",
        "    return np.max(fo(x))\n",
        "\n",
        "def so_max(x):\n",
        "    # second order diff max\n",
        "    return np.max(so(x))  \n",
        "\n",
        "def sign_change(x):\n",
        "    return sum(np.diff(np.sign(x)) != 0)"
      ],
      "execution_count": 0,
      "outputs": []
    },
    {
      "cell_type": "code",
      "metadata": {
        "id": "EVWlcal5e2w-",
        "colab_type": "code",
        "colab": {}
      },
      "source": [
        "def agg_features(df, new_df):\n",
        "  \n",
        "    # statistical features\n",
        "    func = ('min', 'max', 'mean', 'std')\n",
        "    \n",
        "    exclude = ('label', 'bookingID', 'unique_counts')\n",
        "\n",
        "    # performed on all features\n",
        "    features = (c for c in df.columns if c not in exclude)   \n",
        "    \n",
        "    for f in features:\n",
        "        new = df.groupby('bookingID')[f].agg(func)\n",
        "        \n",
        "        new.columns = [f + \"_\" + c for c in new.columns]\n",
        "        \n",
        "        new.reset_index(drop=False, inplace=True)\n",
        "        \n",
        "        new_df = pd.merge(new_df, new,\n",
        "                          left_on='bookingID', right_on='bookingID',\n",
        "                          how='inner')\n",
        "    \n",
        "    print('Done statistical features...')\n",
        "    print('Now to differentiation features...')\n",
        "    \n",
        "    diff_func = (fo_mean, fo_min, fo_max,\n",
        "                 so_mean, so_min, so_max,\n",
        "                 sign_change)\n",
        "    \n",
        "    subfeatures = ('acceleration_x', 'acceleration_y', 'acceleration_z',\n",
        "                   'gyro_x', 'gyro_y', 'gyro_z')\n",
        "    \n",
        "    for f in subfeatures:\n",
        "        new = df.groupby('bookingID')[f].agg(diff_func)\n",
        "        \n",
        "        new.columns = [f + \"_\" + c for c in new.columns]\n",
        "        \n",
        "        new.reset_index(drop=False, inplace=True)\n",
        "        \n",
        "        new_df = pd.merge(new_df, new,\n",
        "                          left_on='bookingID', right_on='bookingID',\n",
        "                          how='inner')\n",
        "        \n",
        "                \n",
        "    return new_df        "
      ],
      "execution_count": 0,
      "outputs": []
    },
    {
      "cell_type": "code",
      "metadata": {
        "id": "dxB-yGFRiDH-",
        "colab_type": "code",
        "outputId": "5b9854e1-2c28-459e-9c4d-8198c4c461af",
        "colab": {
          "base_uri": "https://localhost:8080/",
          "height": 35
        }
      },
      "source": [
        "new_df = pd.DataFrame()\n",
        "\n",
        "new_df['bookingID'] = ids\n",
        "\n",
        "len(new_df)"
      ],
      "execution_count": 0,
      "outputs": [
        {
          "output_type": "execute_result",
          "data": {
            "text/plain": [
              "19982"
            ]
          },
          "metadata": {
            "tags": []
          },
          "execution_count": 86
        }
      ]
    },
    {
      "cell_type": "code",
      "metadata": {
        "id": "EtFefxoig6lT",
        "colab_type": "code",
        "outputId": "d178585d-32f4-4fd5-e2f1-9215de41c681",
        "colab": {
          "base_uri": "https://localhost:8080/",
          "height": 86
        }
      },
      "source": [
        "%%time\n",
        "sample_new = agg_features(train_df, new_df)"
      ],
      "execution_count": 0,
      "outputs": [
        {
          "output_type": "stream",
          "text": [
            "Done statistical features...\n",
            "Now to differentiation features...\n",
            "CPU times: user 5min 26s, sys: 1.43 s, total: 5min 27s\n",
            "Wall time: 5min 27s\n"
          ],
          "name": "stdout"
        }
      ]
    },
    {
      "cell_type": "code",
      "metadata": {
        "id": "YWIC-3k9hRoX",
        "colab_type": "code",
        "outputId": "7deed4df-41a2-4eec-c58e-750394f6e6f9",
        "colab": {
          "base_uri": "https://localhost:8080/",
          "height": 247
        }
      },
      "source": [
        "sample_new.head()"
      ],
      "execution_count": 0,
      "outputs": [
        {
          "output_type": "execute_result",
          "data": {
            "text/html": [
              "<div>\n",
              "<style scoped>\n",
              "    .dataframe tbody tr th:only-of-type {\n",
              "        vertical-align: middle;\n",
              "    }\n",
              "\n",
              "    .dataframe tbody tr th {\n",
              "        vertical-align: top;\n",
              "    }\n",
              "\n",
              "    .dataframe thead th {\n",
              "        text-align: right;\n",
              "    }\n",
              "</style>\n",
              "<table border=\"1\" class=\"dataframe\">\n",
              "  <thead>\n",
              "    <tr style=\"text-align: right;\">\n",
              "      <th></th>\n",
              "      <th>bookingID</th>\n",
              "      <th>Accuracy_min</th>\n",
              "      <th>Accuracy_max</th>\n",
              "      <th>Accuracy_mean</th>\n",
              "      <th>Accuracy_std</th>\n",
              "      <th>Bearing_min</th>\n",
              "      <th>Bearing_max</th>\n",
              "      <th>Bearing_mean</th>\n",
              "      <th>Bearing_std</th>\n",
              "      <th>acceleration_x_min</th>\n",
              "      <th>acceleration_x_max</th>\n",
              "      <th>acceleration_x_mean</th>\n",
              "      <th>acceleration_x_std</th>\n",
              "      <th>acceleration_y_min</th>\n",
              "      <th>acceleration_y_max</th>\n",
              "      <th>acceleration_y_mean</th>\n",
              "      <th>acceleration_y_std</th>\n",
              "      <th>acceleration_z_min</th>\n",
              "      <th>acceleration_z_max</th>\n",
              "      <th>acceleration_z_mean</th>\n",
              "      <th>acceleration_z_std</th>\n",
              "      <th>gyro_x_min</th>\n",
              "      <th>gyro_x_max</th>\n",
              "      <th>gyro_x_mean</th>\n",
              "      <th>gyro_x_std</th>\n",
              "      <th>gyro_y_min</th>\n",
              "      <th>gyro_y_max</th>\n",
              "      <th>gyro_y_mean</th>\n",
              "      <th>gyro_y_std</th>\n",
              "      <th>gyro_z_min</th>\n",
              "      <th>gyro_z_max</th>\n",
              "      <th>gyro_z_mean</th>\n",
              "      <th>gyro_z_std</th>\n",
              "      <th>second_min</th>\n",
              "      <th>second_max</th>\n",
              "      <th>second_mean</th>\n",
              "      <th>second_std</th>\n",
              "      <th>Speed_min</th>\n",
              "      <th>Speed_max</th>\n",
              "      <th>Speed_mean</th>\n",
              "      <th>...</th>\n",
              "      <th>acceleration_x_fo_max</th>\n",
              "      <th>acceleration_x_so_mean</th>\n",
              "      <th>acceleration_x_so_min</th>\n",
              "      <th>acceleration_x_so_max</th>\n",
              "      <th>acceleration_x_sign_change</th>\n",
              "      <th>acceleration_y_fo_mean</th>\n",
              "      <th>acceleration_y_fo_min</th>\n",
              "      <th>acceleration_y_fo_max</th>\n",
              "      <th>acceleration_y_so_mean</th>\n",
              "      <th>acceleration_y_so_min</th>\n",
              "      <th>acceleration_y_so_max</th>\n",
              "      <th>acceleration_y_sign_change</th>\n",
              "      <th>acceleration_z_fo_mean</th>\n",
              "      <th>acceleration_z_fo_min</th>\n",
              "      <th>acceleration_z_fo_max</th>\n",
              "      <th>acceleration_z_so_mean</th>\n",
              "      <th>acceleration_z_so_min</th>\n",
              "      <th>acceleration_z_so_max</th>\n",
              "      <th>acceleration_z_sign_change</th>\n",
              "      <th>gyro_x_fo_mean</th>\n",
              "      <th>gyro_x_fo_min</th>\n",
              "      <th>gyro_x_fo_max</th>\n",
              "      <th>gyro_x_so_mean</th>\n",
              "      <th>gyro_x_so_min</th>\n",
              "      <th>gyro_x_so_max</th>\n",
              "      <th>gyro_x_sign_change</th>\n",
              "      <th>gyro_y_fo_mean</th>\n",
              "      <th>gyro_y_fo_min</th>\n",
              "      <th>gyro_y_fo_max</th>\n",
              "      <th>gyro_y_so_mean</th>\n",
              "      <th>gyro_y_so_min</th>\n",
              "      <th>gyro_y_so_max</th>\n",
              "      <th>gyro_y_sign_change</th>\n",
              "      <th>gyro_z_fo_mean</th>\n",
              "      <th>gyro_z_fo_min</th>\n",
              "      <th>gyro_z_fo_max</th>\n",
              "      <th>gyro_z_so_mean</th>\n",
              "      <th>gyro_z_so_min</th>\n",
              "      <th>gyro_z_so_max</th>\n",
              "      <th>gyro_z_sign_change</th>\n",
              "    </tr>\n",
              "  </thead>\n",
              "  <tbody>\n",
              "    <tr>\n",
              "      <th>0</th>\n",
              "      <td>0</td>\n",
              "      <td>4.0</td>\n",
              "      <td>48.000</td>\n",
              "      <td>10.165339</td>\n",
              "      <td>3.855898</td>\n",
              "      <td>0.037464</td>\n",
              "      <td>359.979767</td>\n",
              "      <td>176.526099</td>\n",
              "      <td>129.231351</td>\n",
              "      <td>-4.692294</td>\n",
              "      <td>4.782614</td>\n",
              "      <td>-0.711264</td>\n",
              "      <td>0.928022</td>\n",
              "      <td>-12.764703</td>\n",
              "      <td>-6.119916</td>\n",
              "      <td>-9.613822</td>\n",
              "      <td>0.639934</td>\n",
              "      <td>-6.251807</td>\n",
              "      <td>2.318857</td>\n",
              "      <td>-1.619658</td>\n",
              "      <td>1.141266</td>\n",
              "      <td>-0.392537</td>\n",
              "      <td>0.438371</td>\n",
              "      <td>0.003328</td>\n",
              "      <td>0.065954</td>\n",
              "      <td>-0.609930</td>\n",
              "      <td>0.469724</td>\n",
              "      <td>-0.006118</td>\n",
              "      <td>0.100225</td>\n",
              "      <td>-0.731892</td>\n",
              "      <td>0.372807</td>\n",
              "      <td>-0.004188</td>\n",
              "      <td>0.063685</td>\n",
              "      <td>0.0</td>\n",
              "      <td>1589.0</td>\n",
              "      <td>903.526892</td>\n",
              "      <td>533.745097</td>\n",
              "      <td>-1.0</td>\n",
              "      <td>22.946083</td>\n",
              "      <td>8.994822</td>\n",
              "      <td>...</td>\n",
              "      <td>4.873383</td>\n",
              "      <td>-0.001960</td>\n",
              "      <td>-10.184308</td>\n",
              "      <td>8.453427</td>\n",
              "      <td>278.0</td>\n",
              "      <td>0.000324</td>\n",
              "      <td>-3.953137</td>\n",
              "      <td>3.903342</td>\n",
              "      <td>0.000934</td>\n",
              "      <td>-7.856479</td>\n",
              "      <td>5.524164</td>\n",
              "      <td>0.0</td>\n",
              "      <td>0.001660</td>\n",
              "      <td>-4.960413</td>\n",
              "      <td>6.332556</td>\n",
              "      <td>0.002131</td>\n",
              "      <td>-9.415692</td>\n",
              "      <td>10.856174</td>\n",
              "      <td>144.0</td>\n",
              "      <td>0.000062</td>\n",
              "      <td>-0.470277</td>\n",
              "      <td>0.446838</td>\n",
              "      <td>-0.000139</td>\n",
              "      <td>-0.878883</td>\n",
              "      <td>0.792117</td>\n",
              "      <td>503.0</td>\n",
              "      <td>0.000133</td>\n",
              "      <td>-0.609200</td>\n",
              "      <td>0.632817</td>\n",
              "      <td>-0.000037</td>\n",
              "      <td>-0.982114</td>\n",
              "      <td>1.163994</td>\n",
              "      <td>519.0</td>\n",
              "      <td>-0.000056</td>\n",
              "      <td>-0.731597</td>\n",
              "      <td>0.860446</td>\n",
              "      <td>-0.000050</td>\n",
              "      <td>-1.010095</td>\n",
              "      <td>1.592042</td>\n",
              "      <td>489.0</td>\n",
              "    </tr>\n",
              "    <tr>\n",
              "      <th>1</th>\n",
              "      <td>1</td>\n",
              "      <td>3.0</td>\n",
              "      <td>7.709</td>\n",
              "      <td>3.718763</td>\n",
              "      <td>0.597933</td>\n",
              "      <td>0.000000</td>\n",
              "      <td>337.000000</td>\n",
              "      <td>124.198590</td>\n",
              "      <td>89.861236</td>\n",
              "      <td>-5.352994</td>\n",
              "      <td>3.813341</td>\n",
              "      <td>-0.525406</td>\n",
              "      <td>0.744157</td>\n",
              "      <td>6.623425</td>\n",
              "      <td>12.536156</td>\n",
              "      <td>9.532086</td>\n",
              "      <td>0.533915</td>\n",
              "      <td>-5.355455</td>\n",
              "      <td>1.481293</td>\n",
              "      <td>-2.198999</td>\n",
              "      <td>0.854271</td>\n",
              "      <td>-0.125367</td>\n",
              "      <td>0.126536</td>\n",
              "      <td>-0.002467</td>\n",
              "      <td>0.027740</td>\n",
              "      <td>-0.678183</td>\n",
              "      <td>0.470837</td>\n",
              "      <td>-0.007540</td>\n",
              "      <td>0.091699</td>\n",
              "      <td>-0.121265</td>\n",
              "      <td>0.235131</td>\n",
              "      <td>0.000405</td>\n",
              "      <td>0.033838</td>\n",
              "      <td>0.0</td>\n",
              "      <td>1034.0</td>\n",
              "      <td>581.175088</td>\n",
              "      <td>289.339367</td>\n",
              "      <td>-1.0</td>\n",
              "      <td>21.882141</td>\n",
              "      <td>7.881588</td>\n",
              "      <td>...</td>\n",
              "      <td>5.112138</td>\n",
              "      <td>0.001334</td>\n",
              "      <td>-8.524900</td>\n",
              "      <td>8.847361</td>\n",
              "      <td>180.0</td>\n",
              "      <td>-0.000785</td>\n",
              "      <td>-3.323172</td>\n",
              "      <td>3.170564</td>\n",
              "      <td>0.000634</td>\n",
              "      <td>-6.294559</td>\n",
              "      <td>6.425989</td>\n",
              "      <td>0.0</td>\n",
              "      <td>0.001054</td>\n",
              "      <td>-5.032708</td>\n",
              "      <td>5.158748</td>\n",
              "      <td>0.002540</td>\n",
              "      <td>-9.591842</td>\n",
              "      <td>7.498774</td>\n",
              "      <td>24.0</td>\n",
              "      <td>-0.000050</td>\n",
              "      <td>-0.179333</td>\n",
              "      <td>0.121126</td>\n",
              "      <td>-0.000053</td>\n",
              "      <td>-0.246702</td>\n",
              "      <td>0.291941</td>\n",
              "      <td>428.0</td>\n",
              "      <td>0.000008</td>\n",
              "      <td>-0.717767</td>\n",
              "      <td>0.596711</td>\n",
              "      <td>-0.000281</td>\n",
              "      <td>-0.782274</td>\n",
              "      <td>1.275626</td>\n",
              "      <td>433.0</td>\n",
              "      <td>-0.000069</td>\n",
              "      <td>-0.216438</td>\n",
              "      <td>0.275204</td>\n",
              "      <td>-0.000048</td>\n",
              "      <td>-0.484521</td>\n",
              "      <td>0.283110</td>\n",
              "      <td>415.0</td>\n",
              "    </tr>\n",
              "    <tr>\n",
              "      <th>2</th>\n",
              "      <td>2</td>\n",
              "      <td>3.0</td>\n",
              "      <td>8.000</td>\n",
              "      <td>3.930626</td>\n",
              "      <td>1.117354</td>\n",
              "      <td>1.000000</td>\n",
              "      <td>354.000000</td>\n",
              "      <td>173.794872</td>\n",
              "      <td>119.316520</td>\n",
              "      <td>-2.971295</td>\n",
              "      <td>1.956122</td>\n",
              "      <td>0.306786</td>\n",
              "      <td>0.756589</td>\n",
              "      <td>7.941810</td>\n",
              "      <td>13.333716</td>\n",
              "      <td>9.843183</td>\n",
              "      <td>0.505693</td>\n",
              "      <td>-3.282551</td>\n",
              "      <td>2.312870</td>\n",
              "      <td>0.139347</td>\n",
              "      <td>1.020021</td>\n",
              "      <td>-0.155218</td>\n",
              "      <td>0.282162</td>\n",
              "      <td>0.006458</td>\n",
              "      <td>0.053903</td>\n",
              "      <td>-0.462000</td>\n",
              "      <td>0.431695</td>\n",
              "      <td>-0.012861</td>\n",
              "      <td>0.117321</td>\n",
              "      <td>-0.125907</td>\n",
              "      <td>0.255884</td>\n",
              "      <td>0.002597</td>\n",
              "      <td>0.036215</td>\n",
              "      <td>0.0</td>\n",
              "      <td>825.0</td>\n",
              "      <td>339.441026</td>\n",
              "      <td>356.319445</td>\n",
              "      <td>0.0</td>\n",
              "      <td>9.360483</td>\n",
              "      <td>3.157213</td>\n",
              "      <td>...</td>\n",
              "      <td>3.464516</td>\n",
              "      <td>0.018050</td>\n",
              "      <td>-5.013611</td>\n",
              "      <td>7.108602</td>\n",
              "      <td>80.0</td>\n",
              "      <td>0.001592</td>\n",
              "      <td>-3.490852</td>\n",
              "      <td>3.031151</td>\n",
              "      <td>0.003449</td>\n",
              "      <td>-6.522003</td>\n",
              "      <td>4.005621</td>\n",
              "      <td>0.0</td>\n",
              "      <td>0.004134</td>\n",
              "      <td>-5.375147</td>\n",
              "      <td>4.326454</td>\n",
              "      <td>0.006488</td>\n",
              "      <td>-7.043957</td>\n",
              "      <td>8.842057</td>\n",
              "      <td>88.0</td>\n",
              "      <td>-0.000356</td>\n",
              "      <td>-0.277944</td>\n",
              "      <td>0.298713</td>\n",
              "      <td>-0.000529</td>\n",
              "      <td>-0.576657</td>\n",
              "      <td>0.397062</td>\n",
              "      <td>98.0</td>\n",
              "      <td>0.001603</td>\n",
              "      <td>-0.638354</td>\n",
              "      <td>0.507018</td>\n",
              "      <td>-0.000608</td>\n",
              "      <td>-1.034806</td>\n",
              "      <td>0.967000</td>\n",
              "      <td>101.0</td>\n",
              "      <td>-0.000482</td>\n",
              "      <td>-0.276111</td>\n",
              "      <td>0.258396</td>\n",
              "      <td>-0.000215</td>\n",
              "      <td>-0.534507</td>\n",
              "      <td>0.324369</td>\n",
              "      <td>113.0</td>\n",
              "    </tr>\n",
              "    <tr>\n",
              "      <th>3</th>\n",
              "      <td>4</td>\n",
              "      <td>10.0</td>\n",
              "      <td>10.000</td>\n",
              "      <td>10.000000</td>\n",
              "      <td>0.000000</td>\n",
              "      <td>2.271227</td>\n",
              "      <td>353.855377</td>\n",
              "      <td>151.807013</td>\n",
              "      <td>71.273774</td>\n",
              "      <td>-2.866458</td>\n",
              "      <td>2.019635</td>\n",
              "      <td>-0.365117</td>\n",
              "      <td>0.527220</td>\n",
              "      <td>-18.847833</td>\n",
              "      <td>-7.064984</td>\n",
              "      <td>-9.406439</td>\n",
              "      <td>0.598023</td>\n",
              "      <td>-9.374869</td>\n",
              "      <td>0.296381</td>\n",
              "      <td>-2.613639</td>\n",
              "      <td>0.779529</td>\n",
              "      <td>-0.420507</td>\n",
              "      <td>0.438732</td>\n",
              "      <td>-0.022884</td>\n",
              "      <td>0.042342</td>\n",
              "      <td>-0.506531</td>\n",
              "      <td>0.652628</td>\n",
              "      <td>0.023232</td>\n",
              "      <td>0.112567</td>\n",
              "      <td>-0.348189</td>\n",
              "      <td>0.505220</td>\n",
              "      <td>-0.000376</td>\n",
              "      <td>0.065927</td>\n",
              "      <td>0.0</td>\n",
              "      <td>1094.0</td>\n",
              "      <td>547.495430</td>\n",
              "      <td>315.962793</td>\n",
              "      <td>0.0</td>\n",
              "      <td>19.780001</td>\n",
              "      <td>6.150996</td>\n",
              "      <td>...</td>\n",
              "      <td>3.158801</td>\n",
              "      <td>0.001724</td>\n",
              "      <td>-5.133127</td>\n",
              "      <td>5.254550</td>\n",
              "      <td>299.0</td>\n",
              "      <td>0.000358</td>\n",
              "      <td>-9.794467</td>\n",
              "      <td>9.601715</td>\n",
              "      <td>-0.000093</td>\n",
              "      <td>-10.051071</td>\n",
              "      <td>19.396182</td>\n",
              "      <td>0.0</td>\n",
              "      <td>-0.001748</td>\n",
              "      <td>-8.202805</td>\n",
              "      <td>6.575403</td>\n",
              "      <td>0.001314</td>\n",
              "      <td>-10.440613</td>\n",
              "      <td>14.778207</td>\n",
              "      <td>4.0</td>\n",
              "      <td>0.000008</td>\n",
              "      <td>-0.500610</td>\n",
              "      <td>0.507631</td>\n",
              "      <td>-0.000057</td>\n",
              "      <td>-1.008241</td>\n",
              "      <td>0.800959</td>\n",
              "      <td>264.0</td>\n",
              "      <td>-0.000306</td>\n",
              "      <td>-0.577360</td>\n",
              "      <td>0.625146</td>\n",
              "      <td>0.000110</td>\n",
              "      <td>-1.186005</td>\n",
              "      <td>1.002399</td>\n",
              "      <td>519.0</td>\n",
              "      <td>-0.000012</td>\n",
              "      <td>-0.481751</td>\n",
              "      <td>0.561944</td>\n",
              "      <td>0.000108</td>\n",
              "      <td>-1.043695</td>\n",
              "      <td>0.714401</td>\n",
              "      <td>536.0</td>\n",
              "    </tr>\n",
              "    <tr>\n",
              "      <th>4</th>\n",
              "      <td>6</td>\n",
              "      <td>3.0</td>\n",
              "      <td>12.000</td>\n",
              "      <td>4.586721</td>\n",
              "      <td>1.329545</td>\n",
              "      <td>0.000000</td>\n",
              "      <td>359.000000</td>\n",
              "      <td>197.812785</td>\n",
              "      <td>111.868249</td>\n",
              "      <td>-4.352792</td>\n",
              "      <td>5.593026</td>\n",
              "      <td>0.490616</td>\n",
              "      <td>0.826271</td>\n",
              "      <td>6.469330</td>\n",
              "      <td>13.249917</td>\n",
              "      <td>9.538043</td>\n",
              "      <td>0.617210</td>\n",
              "      <td>-2.140482</td>\n",
              "      <td>7.977724</td>\n",
              "      <td>2.355059</td>\n",
              "      <td>0.942163</td>\n",
              "      <td>-0.253551</td>\n",
              "      <td>0.362202</td>\n",
              "      <td>0.003877</td>\n",
              "      <td>0.055170</td>\n",
              "      <td>-0.621802</td>\n",
              "      <td>0.532123</td>\n",
              "      <td>0.000436</td>\n",
              "      <td>0.106815</td>\n",
              "      <td>-0.348345</td>\n",
              "      <td>0.364534</td>\n",
              "      <td>0.002930</td>\n",
              "      <td>0.057438</td>\n",
              "      <td>0.0</td>\n",
              "      <td>1094.0</td>\n",
              "      <td>547.000000</td>\n",
              "      <td>316.243577</td>\n",
              "      <td>0.0</td>\n",
              "      <td>16.394695</td>\n",
              "      <td>4.628921</td>\n",
              "      <td>...</td>\n",
              "      <td>6.431022</td>\n",
              "      <td>0.000031</td>\n",
              "      <td>-11.686455</td>\n",
              "      <td>9.854836</td>\n",
              "      <td>355.0</td>\n",
              "      <td>0.000635</td>\n",
              "      <td>-4.108576</td>\n",
              "      <td>3.265792</td>\n",
              "      <td>0.000416</td>\n",
              "      <td>-7.225922</td>\n",
              "      <td>6.960157</td>\n",
              "      <td>0.0</td>\n",
              "      <td>-0.000390</td>\n",
              "      <td>-7.489292</td>\n",
              "      <td>5.090228</td>\n",
              "      <td>-0.000526</td>\n",
              "      <td>-12.579520</td>\n",
              "      <td>10.458192</td>\n",
              "      <td>26.0</td>\n",
              "      <td>0.000055</td>\n",
              "      <td>-0.351248</td>\n",
              "      <td>0.410501</td>\n",
              "      <td>-0.000012</td>\n",
              "      <td>-0.725708</td>\n",
              "      <td>0.507018</td>\n",
              "      <td>537.0</td>\n",
              "      <td>0.000012</td>\n",
              "      <td>-0.654848</td>\n",
              "      <td>0.671341</td>\n",
              "      <td>0.000002</td>\n",
              "      <td>-1.158811</td>\n",
              "      <td>1.304197</td>\n",
              "      <td>520.0</td>\n",
              "      <td>-0.000015</td>\n",
              "      <td>-0.444099</td>\n",
              "      <td>0.354913</td>\n",
              "      <td>-0.000007</td>\n",
              "      <td>-0.728762</td>\n",
              "      <td>0.787405</td>\n",
              "      <td>547.0</td>\n",
              "    </tr>\n",
              "  </tbody>\n",
              "</table>\n",
              "<p>5 rows × 103 columns</p>\n",
              "</div>"
            ],
            "text/plain": [
              "   bookingID  Accuracy_min  ...  gyro_z_so_max  gyro_z_sign_change\n",
              "0          0           4.0  ...       1.592042               489.0\n",
              "1          1           3.0  ...       0.283110               415.0\n",
              "2          2           3.0  ...       0.324369               113.0\n",
              "3          4          10.0  ...       0.714401               536.0\n",
              "4          6           3.0  ...       0.787405               547.0\n",
              "\n",
              "[5 rows x 103 columns]"
            ]
          },
          "metadata": {
            "tags": []
          },
          "execution_count": 89
        }
      ]
    },
    {
      "cell_type": "code",
      "metadata": {
        "id": "BgFCZoLAsmNa",
        "colab_type": "code",
        "outputId": "cb58529f-6d9a-4709-a260-13972a56b27e",
        "colab": {
          "base_uri": "https://localhost:8080/",
          "height": 35
        }
      },
      "source": [
        "len(new)"
      ],
      "execution_count": 0,
      "outputs": [
        {
          "output_type": "execute_result",
          "data": {
            "text/plain": [
              "19982"
            ]
          },
          "metadata": {
            "tags": []
          },
          "execution_count": 59
        }
      ]
    },
    {
      "cell_type": "code",
      "metadata": {
        "id": "KdkDlCZ-rjEq",
        "colab_type": "code",
        "outputId": "97f96099-c37a-43c5-daa4-30c68865f5b9",
        "colab": {
          "base_uri": "https://localhost:8080/",
          "height": 247
        }
      },
      "source": [
        "vc = train_df.groupby('bookingID').head(1)['unique_counts'].values\n",
        "\n",
        "sample_new['vc'] = vc\n",
        "\n",
        "sample_new.head()"
      ],
      "execution_count": 0,
      "outputs": [
        {
          "output_type": "execute_result",
          "data": {
            "text/html": [
              "<div>\n",
              "<style scoped>\n",
              "    .dataframe tbody tr th:only-of-type {\n",
              "        vertical-align: middle;\n",
              "    }\n",
              "\n",
              "    .dataframe tbody tr th {\n",
              "        vertical-align: top;\n",
              "    }\n",
              "\n",
              "    .dataframe thead th {\n",
              "        text-align: right;\n",
              "    }\n",
              "</style>\n",
              "<table border=\"1\" class=\"dataframe\">\n",
              "  <thead>\n",
              "    <tr style=\"text-align: right;\">\n",
              "      <th></th>\n",
              "      <th>bookingID</th>\n",
              "      <th>Accuracy_min</th>\n",
              "      <th>Accuracy_max</th>\n",
              "      <th>Accuracy_mean</th>\n",
              "      <th>Accuracy_std</th>\n",
              "      <th>Bearing_min</th>\n",
              "      <th>Bearing_max</th>\n",
              "      <th>Bearing_mean</th>\n",
              "      <th>Bearing_std</th>\n",
              "      <th>acceleration_x_min</th>\n",
              "      <th>acceleration_x_max</th>\n",
              "      <th>acceleration_x_mean</th>\n",
              "      <th>acceleration_x_std</th>\n",
              "      <th>acceleration_y_min</th>\n",
              "      <th>acceleration_y_max</th>\n",
              "      <th>acceleration_y_mean</th>\n",
              "      <th>acceleration_y_std</th>\n",
              "      <th>acceleration_z_min</th>\n",
              "      <th>acceleration_z_max</th>\n",
              "      <th>acceleration_z_mean</th>\n",
              "      <th>acceleration_z_std</th>\n",
              "      <th>gyro_x_min</th>\n",
              "      <th>gyro_x_max</th>\n",
              "      <th>gyro_x_mean</th>\n",
              "      <th>gyro_x_std</th>\n",
              "      <th>gyro_y_min</th>\n",
              "      <th>gyro_y_max</th>\n",
              "      <th>gyro_y_mean</th>\n",
              "      <th>gyro_y_std</th>\n",
              "      <th>gyro_z_min</th>\n",
              "      <th>gyro_z_max</th>\n",
              "      <th>gyro_z_mean</th>\n",
              "      <th>gyro_z_std</th>\n",
              "      <th>second_min</th>\n",
              "      <th>second_max</th>\n",
              "      <th>second_mean</th>\n",
              "      <th>second_std</th>\n",
              "      <th>Speed_min</th>\n",
              "      <th>Speed_max</th>\n",
              "      <th>Speed_mean</th>\n",
              "      <th>...</th>\n",
              "      <th>acceleration_x_so_mean</th>\n",
              "      <th>acceleration_x_so_min</th>\n",
              "      <th>acceleration_x_so_max</th>\n",
              "      <th>acceleration_x_sign_change</th>\n",
              "      <th>acceleration_y_fo_mean</th>\n",
              "      <th>acceleration_y_fo_min</th>\n",
              "      <th>acceleration_y_fo_max</th>\n",
              "      <th>acceleration_y_so_mean</th>\n",
              "      <th>acceleration_y_so_min</th>\n",
              "      <th>acceleration_y_so_max</th>\n",
              "      <th>acceleration_y_sign_change</th>\n",
              "      <th>acceleration_z_fo_mean</th>\n",
              "      <th>acceleration_z_fo_min</th>\n",
              "      <th>acceleration_z_fo_max</th>\n",
              "      <th>acceleration_z_so_mean</th>\n",
              "      <th>acceleration_z_so_min</th>\n",
              "      <th>acceleration_z_so_max</th>\n",
              "      <th>acceleration_z_sign_change</th>\n",
              "      <th>gyro_x_fo_mean</th>\n",
              "      <th>gyro_x_fo_min</th>\n",
              "      <th>gyro_x_fo_max</th>\n",
              "      <th>gyro_x_so_mean</th>\n",
              "      <th>gyro_x_so_min</th>\n",
              "      <th>gyro_x_so_max</th>\n",
              "      <th>gyro_x_sign_change</th>\n",
              "      <th>gyro_y_fo_mean</th>\n",
              "      <th>gyro_y_fo_min</th>\n",
              "      <th>gyro_y_fo_max</th>\n",
              "      <th>gyro_y_so_mean</th>\n",
              "      <th>gyro_y_so_min</th>\n",
              "      <th>gyro_y_so_max</th>\n",
              "      <th>gyro_y_sign_change</th>\n",
              "      <th>gyro_z_fo_mean</th>\n",
              "      <th>gyro_z_fo_min</th>\n",
              "      <th>gyro_z_fo_max</th>\n",
              "      <th>gyro_z_so_mean</th>\n",
              "      <th>gyro_z_so_min</th>\n",
              "      <th>gyro_z_so_max</th>\n",
              "      <th>gyro_z_sign_change</th>\n",
              "      <th>vc</th>\n",
              "    </tr>\n",
              "  </thead>\n",
              "  <tbody>\n",
              "    <tr>\n",
              "      <th>0</th>\n",
              "      <td>0</td>\n",
              "      <td>4.0</td>\n",
              "      <td>48.000</td>\n",
              "      <td>10.165339</td>\n",
              "      <td>3.855898</td>\n",
              "      <td>0.037464</td>\n",
              "      <td>359.979767</td>\n",
              "      <td>176.526099</td>\n",
              "      <td>129.231351</td>\n",
              "      <td>-4.692294</td>\n",
              "      <td>4.782614</td>\n",
              "      <td>-0.711264</td>\n",
              "      <td>0.928022</td>\n",
              "      <td>-12.764703</td>\n",
              "      <td>-6.119916</td>\n",
              "      <td>-9.613822</td>\n",
              "      <td>0.639934</td>\n",
              "      <td>-6.251807</td>\n",
              "      <td>2.318857</td>\n",
              "      <td>-1.619658</td>\n",
              "      <td>1.141266</td>\n",
              "      <td>-0.392537</td>\n",
              "      <td>0.438371</td>\n",
              "      <td>0.003328</td>\n",
              "      <td>0.065954</td>\n",
              "      <td>-0.609930</td>\n",
              "      <td>0.469724</td>\n",
              "      <td>-0.006118</td>\n",
              "      <td>0.100225</td>\n",
              "      <td>-0.731892</td>\n",
              "      <td>0.372807</td>\n",
              "      <td>-0.004188</td>\n",
              "      <td>0.063685</td>\n",
              "      <td>0.0</td>\n",
              "      <td>1589.0</td>\n",
              "      <td>903.526892</td>\n",
              "      <td>533.745097</td>\n",
              "      <td>-1.0</td>\n",
              "      <td>22.946083</td>\n",
              "      <td>8.994822</td>\n",
              "      <td>...</td>\n",
              "      <td>-0.001960</td>\n",
              "      <td>-10.184308</td>\n",
              "      <td>8.453427</td>\n",
              "      <td>278.0</td>\n",
              "      <td>0.000324</td>\n",
              "      <td>-3.953137</td>\n",
              "      <td>3.903342</td>\n",
              "      <td>0.000934</td>\n",
              "      <td>-7.856479</td>\n",
              "      <td>5.524164</td>\n",
              "      <td>0.0</td>\n",
              "      <td>0.001660</td>\n",
              "      <td>-4.960413</td>\n",
              "      <td>6.332556</td>\n",
              "      <td>0.002131</td>\n",
              "      <td>-9.415692</td>\n",
              "      <td>10.856174</td>\n",
              "      <td>144.0</td>\n",
              "      <td>0.000062</td>\n",
              "      <td>-0.470277</td>\n",
              "      <td>0.446838</td>\n",
              "      <td>-0.000139</td>\n",
              "      <td>-0.878883</td>\n",
              "      <td>0.792117</td>\n",
              "      <td>503.0</td>\n",
              "      <td>0.000133</td>\n",
              "      <td>-0.609200</td>\n",
              "      <td>0.632817</td>\n",
              "      <td>-0.000037</td>\n",
              "      <td>-0.982114</td>\n",
              "      <td>1.163994</td>\n",
              "      <td>519.0</td>\n",
              "      <td>-0.000056</td>\n",
              "      <td>-0.731597</td>\n",
              "      <td>0.860446</td>\n",
              "      <td>-0.000050</td>\n",
              "      <td>-1.010095</td>\n",
              "      <td>1.592042</td>\n",
              "      <td>489.0</td>\n",
              "      <td>1004</td>\n",
              "    </tr>\n",
              "    <tr>\n",
              "      <th>1</th>\n",
              "      <td>1</td>\n",
              "      <td>3.0</td>\n",
              "      <td>7.709</td>\n",
              "      <td>3.718763</td>\n",
              "      <td>0.597933</td>\n",
              "      <td>0.000000</td>\n",
              "      <td>337.000000</td>\n",
              "      <td>124.198590</td>\n",
              "      <td>89.861236</td>\n",
              "      <td>-5.352994</td>\n",
              "      <td>3.813341</td>\n",
              "      <td>-0.525406</td>\n",
              "      <td>0.744157</td>\n",
              "      <td>6.623425</td>\n",
              "      <td>12.536156</td>\n",
              "      <td>9.532086</td>\n",
              "      <td>0.533915</td>\n",
              "      <td>-5.355455</td>\n",
              "      <td>1.481293</td>\n",
              "      <td>-2.198999</td>\n",
              "      <td>0.854271</td>\n",
              "      <td>-0.125367</td>\n",
              "      <td>0.126536</td>\n",
              "      <td>-0.002467</td>\n",
              "      <td>0.027740</td>\n",
              "      <td>-0.678183</td>\n",
              "      <td>0.470837</td>\n",
              "      <td>-0.007540</td>\n",
              "      <td>0.091699</td>\n",
              "      <td>-0.121265</td>\n",
              "      <td>0.235131</td>\n",
              "      <td>0.000405</td>\n",
              "      <td>0.033838</td>\n",
              "      <td>0.0</td>\n",
              "      <td>1034.0</td>\n",
              "      <td>581.175088</td>\n",
              "      <td>289.339367</td>\n",
              "      <td>-1.0</td>\n",
              "      <td>21.882141</td>\n",
              "      <td>7.881588</td>\n",
              "      <td>...</td>\n",
              "      <td>0.001334</td>\n",
              "      <td>-8.524900</td>\n",
              "      <td>8.847361</td>\n",
              "      <td>180.0</td>\n",
              "      <td>-0.000785</td>\n",
              "      <td>-3.323172</td>\n",
              "      <td>3.170564</td>\n",
              "      <td>0.000634</td>\n",
              "      <td>-6.294559</td>\n",
              "      <td>6.425989</td>\n",
              "      <td>0.0</td>\n",
              "      <td>0.001054</td>\n",
              "      <td>-5.032708</td>\n",
              "      <td>5.158748</td>\n",
              "      <td>0.002540</td>\n",
              "      <td>-9.591842</td>\n",
              "      <td>7.498774</td>\n",
              "      <td>24.0</td>\n",
              "      <td>-0.000050</td>\n",
              "      <td>-0.179333</td>\n",
              "      <td>0.121126</td>\n",
              "      <td>-0.000053</td>\n",
              "      <td>-0.246702</td>\n",
              "      <td>0.291941</td>\n",
              "      <td>428.0</td>\n",
              "      <td>0.000008</td>\n",
              "      <td>-0.717767</td>\n",
              "      <td>0.596711</td>\n",
              "      <td>-0.000281</td>\n",
              "      <td>-0.782274</td>\n",
              "      <td>1.275626</td>\n",
              "      <td>433.0</td>\n",
              "      <td>-0.000069</td>\n",
              "      <td>-0.216438</td>\n",
              "      <td>0.275204</td>\n",
              "      <td>-0.000048</td>\n",
              "      <td>-0.484521</td>\n",
              "      <td>0.283110</td>\n",
              "      <td>415.0</td>\n",
              "      <td>851</td>\n",
              "    </tr>\n",
              "    <tr>\n",
              "      <th>2</th>\n",
              "      <td>2</td>\n",
              "      <td>3.0</td>\n",
              "      <td>8.000</td>\n",
              "      <td>3.930626</td>\n",
              "      <td>1.117354</td>\n",
              "      <td>1.000000</td>\n",
              "      <td>354.000000</td>\n",
              "      <td>173.794872</td>\n",
              "      <td>119.316520</td>\n",
              "      <td>-2.971295</td>\n",
              "      <td>1.956122</td>\n",
              "      <td>0.306786</td>\n",
              "      <td>0.756589</td>\n",
              "      <td>7.941810</td>\n",
              "      <td>13.333716</td>\n",
              "      <td>9.843183</td>\n",
              "      <td>0.505693</td>\n",
              "      <td>-3.282551</td>\n",
              "      <td>2.312870</td>\n",
              "      <td>0.139347</td>\n",
              "      <td>1.020021</td>\n",
              "      <td>-0.155218</td>\n",
              "      <td>0.282162</td>\n",
              "      <td>0.006458</td>\n",
              "      <td>0.053903</td>\n",
              "      <td>-0.462000</td>\n",
              "      <td>0.431695</td>\n",
              "      <td>-0.012861</td>\n",
              "      <td>0.117321</td>\n",
              "      <td>-0.125907</td>\n",
              "      <td>0.255884</td>\n",
              "      <td>0.002597</td>\n",
              "      <td>0.036215</td>\n",
              "      <td>0.0</td>\n",
              "      <td>825.0</td>\n",
              "      <td>339.441026</td>\n",
              "      <td>356.319445</td>\n",
              "      <td>0.0</td>\n",
              "      <td>9.360483</td>\n",
              "      <td>3.157213</td>\n",
              "      <td>...</td>\n",
              "      <td>0.018050</td>\n",
              "      <td>-5.013611</td>\n",
              "      <td>7.108602</td>\n",
              "      <td>80.0</td>\n",
              "      <td>0.001592</td>\n",
              "      <td>-3.490852</td>\n",
              "      <td>3.031151</td>\n",
              "      <td>0.003449</td>\n",
              "      <td>-6.522003</td>\n",
              "      <td>4.005621</td>\n",
              "      <td>0.0</td>\n",
              "      <td>0.004134</td>\n",
              "      <td>-5.375147</td>\n",
              "      <td>4.326454</td>\n",
              "      <td>0.006488</td>\n",
              "      <td>-7.043957</td>\n",
              "      <td>8.842057</td>\n",
              "      <td>88.0</td>\n",
              "      <td>-0.000356</td>\n",
              "      <td>-0.277944</td>\n",
              "      <td>0.298713</td>\n",
              "      <td>-0.000529</td>\n",
              "      <td>-0.576657</td>\n",
              "      <td>0.397062</td>\n",
              "      <td>98.0</td>\n",
              "      <td>0.001603</td>\n",
              "      <td>-0.638354</td>\n",
              "      <td>0.507018</td>\n",
              "      <td>-0.000608</td>\n",
              "      <td>-1.034806</td>\n",
              "      <td>0.967000</td>\n",
              "      <td>101.0</td>\n",
              "      <td>-0.000482</td>\n",
              "      <td>-0.276111</td>\n",
              "      <td>0.258396</td>\n",
              "      <td>-0.000215</td>\n",
              "      <td>-0.534507</td>\n",
              "      <td>0.324369</td>\n",
              "      <td>113.0</td>\n",
              "      <td>195</td>\n",
              "    </tr>\n",
              "    <tr>\n",
              "      <th>3</th>\n",
              "      <td>4</td>\n",
              "      <td>10.0</td>\n",
              "      <td>10.000</td>\n",
              "      <td>10.000000</td>\n",
              "      <td>0.000000</td>\n",
              "      <td>2.271227</td>\n",
              "      <td>353.855377</td>\n",
              "      <td>151.807013</td>\n",
              "      <td>71.273774</td>\n",
              "      <td>-2.866458</td>\n",
              "      <td>2.019635</td>\n",
              "      <td>-0.365117</td>\n",
              "      <td>0.527220</td>\n",
              "      <td>-18.847833</td>\n",
              "      <td>-7.064984</td>\n",
              "      <td>-9.406439</td>\n",
              "      <td>0.598023</td>\n",
              "      <td>-9.374869</td>\n",
              "      <td>0.296381</td>\n",
              "      <td>-2.613639</td>\n",
              "      <td>0.779529</td>\n",
              "      <td>-0.420507</td>\n",
              "      <td>0.438732</td>\n",
              "      <td>-0.022884</td>\n",
              "      <td>0.042342</td>\n",
              "      <td>-0.506531</td>\n",
              "      <td>0.652628</td>\n",
              "      <td>0.023232</td>\n",
              "      <td>0.112567</td>\n",
              "      <td>-0.348189</td>\n",
              "      <td>0.505220</td>\n",
              "      <td>-0.000376</td>\n",
              "      <td>0.065927</td>\n",
              "      <td>0.0</td>\n",
              "      <td>1094.0</td>\n",
              "      <td>547.495430</td>\n",
              "      <td>315.962793</td>\n",
              "      <td>0.0</td>\n",
              "      <td>19.780001</td>\n",
              "      <td>6.150996</td>\n",
              "      <td>...</td>\n",
              "      <td>0.001724</td>\n",
              "      <td>-5.133127</td>\n",
              "      <td>5.254550</td>\n",
              "      <td>299.0</td>\n",
              "      <td>0.000358</td>\n",
              "      <td>-9.794467</td>\n",
              "      <td>9.601715</td>\n",
              "      <td>-0.000093</td>\n",
              "      <td>-10.051071</td>\n",
              "      <td>19.396182</td>\n",
              "      <td>0.0</td>\n",
              "      <td>-0.001748</td>\n",
              "      <td>-8.202805</td>\n",
              "      <td>6.575403</td>\n",
              "      <td>0.001314</td>\n",
              "      <td>-10.440613</td>\n",
              "      <td>14.778207</td>\n",
              "      <td>4.0</td>\n",
              "      <td>0.000008</td>\n",
              "      <td>-0.500610</td>\n",
              "      <td>0.507631</td>\n",
              "      <td>-0.000057</td>\n",
              "      <td>-1.008241</td>\n",
              "      <td>0.800959</td>\n",
              "      <td>264.0</td>\n",
              "      <td>-0.000306</td>\n",
              "      <td>-0.577360</td>\n",
              "      <td>0.625146</td>\n",
              "      <td>0.000110</td>\n",
              "      <td>-1.186005</td>\n",
              "      <td>1.002399</td>\n",
              "      <td>519.0</td>\n",
              "      <td>-0.000012</td>\n",
              "      <td>-0.481751</td>\n",
              "      <td>0.561944</td>\n",
              "      <td>0.000108</td>\n",
              "      <td>-1.043695</td>\n",
              "      <td>0.714401</td>\n",
              "      <td>536.0</td>\n",
              "      <td>1094</td>\n",
              "    </tr>\n",
              "    <tr>\n",
              "      <th>4</th>\n",
              "      <td>6</td>\n",
              "      <td>3.0</td>\n",
              "      <td>12.000</td>\n",
              "      <td>4.586721</td>\n",
              "      <td>1.329545</td>\n",
              "      <td>0.000000</td>\n",
              "      <td>359.000000</td>\n",
              "      <td>197.812785</td>\n",
              "      <td>111.868249</td>\n",
              "      <td>-4.352792</td>\n",
              "      <td>5.593026</td>\n",
              "      <td>0.490616</td>\n",
              "      <td>0.826271</td>\n",
              "      <td>6.469330</td>\n",
              "      <td>13.249917</td>\n",
              "      <td>9.538043</td>\n",
              "      <td>0.617210</td>\n",
              "      <td>-2.140482</td>\n",
              "      <td>7.977724</td>\n",
              "      <td>2.355059</td>\n",
              "      <td>0.942163</td>\n",
              "      <td>-0.253551</td>\n",
              "      <td>0.362202</td>\n",
              "      <td>0.003877</td>\n",
              "      <td>0.055170</td>\n",
              "      <td>-0.621802</td>\n",
              "      <td>0.532123</td>\n",
              "      <td>0.000436</td>\n",
              "      <td>0.106815</td>\n",
              "      <td>-0.348345</td>\n",
              "      <td>0.364534</td>\n",
              "      <td>0.002930</td>\n",
              "      <td>0.057438</td>\n",
              "      <td>0.0</td>\n",
              "      <td>1094.0</td>\n",
              "      <td>547.000000</td>\n",
              "      <td>316.243577</td>\n",
              "      <td>0.0</td>\n",
              "      <td>16.394695</td>\n",
              "      <td>4.628921</td>\n",
              "      <td>...</td>\n",
              "      <td>0.000031</td>\n",
              "      <td>-11.686455</td>\n",
              "      <td>9.854836</td>\n",
              "      <td>355.0</td>\n",
              "      <td>0.000635</td>\n",
              "      <td>-4.108576</td>\n",
              "      <td>3.265792</td>\n",
              "      <td>0.000416</td>\n",
              "      <td>-7.225922</td>\n",
              "      <td>6.960157</td>\n",
              "      <td>0.0</td>\n",
              "      <td>-0.000390</td>\n",
              "      <td>-7.489292</td>\n",
              "      <td>5.090228</td>\n",
              "      <td>-0.000526</td>\n",
              "      <td>-12.579520</td>\n",
              "      <td>10.458192</td>\n",
              "      <td>26.0</td>\n",
              "      <td>0.000055</td>\n",
              "      <td>-0.351248</td>\n",
              "      <td>0.410501</td>\n",
              "      <td>-0.000012</td>\n",
              "      <td>-0.725708</td>\n",
              "      <td>0.507018</td>\n",
              "      <td>537.0</td>\n",
              "      <td>0.000012</td>\n",
              "      <td>-0.654848</td>\n",
              "      <td>0.671341</td>\n",
              "      <td>0.000002</td>\n",
              "      <td>-1.158811</td>\n",
              "      <td>1.304197</td>\n",
              "      <td>520.0</td>\n",
              "      <td>-0.000015</td>\n",
              "      <td>-0.444099</td>\n",
              "      <td>0.354913</td>\n",
              "      <td>-0.000007</td>\n",
              "      <td>-0.728762</td>\n",
              "      <td>0.787405</td>\n",
              "      <td>547.0</td>\n",
              "      <td>1095</td>\n",
              "    </tr>\n",
              "  </tbody>\n",
              "</table>\n",
              "<p>5 rows × 104 columns</p>\n",
              "</div>"
            ],
            "text/plain": [
              "   bookingID  Accuracy_min  ...  gyro_z_sign_change    vc\n",
              "0          0           4.0  ...               489.0  1004\n",
              "1          1           3.0  ...               415.0   851\n",
              "2          2           3.0  ...               113.0   195\n",
              "3          4          10.0  ...               536.0  1094\n",
              "4          6           3.0  ...               547.0  1095\n",
              "\n",
              "[5 rows x 104 columns]"
            ]
          },
          "metadata": {
            "tags": []
          },
          "execution_count": 90
        }
      ]
    },
    {
      "cell_type": "code",
      "metadata": {
        "id": "ysnn1spnvjeE",
        "colab_type": "code",
        "colab": {}
      },
      "source": [
        "def add_features(df, arr, f):\n",
        "    for i in range(TOP_N):\n",
        "        var = f + '_' + str(i+1)\n",
        "        df[var] = arr[:, i]\n",
        "\n",
        "# add the TOP_N accuracy features to the merged df\n",
        "add_features(new, TOP_N_SPEED, 'Speed')\n",
        "add_features(new, TOP_N_HP, 'horsepower')"
      ],
      "execution_count": 0,
      "outputs": []
    },
    {
      "cell_type": "code",
      "metadata": {
        "id": "aZooKyi3rxbg",
        "colab_type": "code",
        "colab": {}
      },
      "source": [
        "# #     var = 'acceleration_x_' + str(i)\n",
        "# #     new[var] = TOP_3_A_X[:,i]\n",
        "#     var = 'Speed_' + str(i)\n",
        "#     new[var] = TOP_N_SPEED[:,i]\n",
        "    \n",
        "#     var = 'horsepower_' + str(i)\n",
        "#     new[var] = TOP_N_HP[:,i]"
      ],
      "execution_count": 0,
      "outputs": []
    },
    {
      "cell_type": "code",
      "metadata": {
        "id": "kx0bWT3as0MG",
        "colab_type": "code",
        "outputId": "1aa3ed1a-31a2-4c77-a663-81882bcff9dc",
        "colab": {
          "base_uri": "https://localhost:8080/",
          "height": 247
        }
      },
      "source": [
        "new.head()"
      ],
      "execution_count": 0,
      "outputs": [
        {
          "output_type": "execute_result",
          "data": {
            "text/html": [
              "<div>\n",
              "<style scoped>\n",
              "    .dataframe tbody tr th:only-of-type {\n",
              "        vertical-align: middle;\n",
              "    }\n",
              "\n",
              "    .dataframe tbody tr th {\n",
              "        vertical-align: top;\n",
              "    }\n",
              "\n",
              "    .dataframe thead th {\n",
              "        text-align: right;\n",
              "    }\n",
              "</style>\n",
              "<table border=\"1\" class=\"dataframe\">\n",
              "  <thead>\n",
              "    <tr style=\"text-align: right;\">\n",
              "      <th></th>\n",
              "      <th>bookingID</th>\n",
              "      <th>Accuracy_mean</th>\n",
              "      <th>Accuracy_min</th>\n",
              "      <th>Accuracy_max</th>\n",
              "      <th>Accuracy_std</th>\n",
              "      <th>Accuracy_fo_mean</th>\n",
              "      <th>Accuracy_so_mean</th>\n",
              "      <th>Accuracy_fo_min</th>\n",
              "      <th>Accuracy_so_min</th>\n",
              "      <th>Accuracy_fo_max</th>\n",
              "      <th>Accuracy_so_max</th>\n",
              "      <th>Bearing_mean</th>\n",
              "      <th>Bearing_min</th>\n",
              "      <th>Bearing_max</th>\n",
              "      <th>Bearing_std</th>\n",
              "      <th>Bearing_fo_mean</th>\n",
              "      <th>Bearing_so_mean</th>\n",
              "      <th>Bearing_fo_min</th>\n",
              "      <th>Bearing_so_min</th>\n",
              "      <th>Bearing_fo_max</th>\n",
              "      <th>Bearing_so_max</th>\n",
              "      <th>acceleration_x_mean</th>\n",
              "      <th>acceleration_x_min</th>\n",
              "      <th>acceleration_x_max</th>\n",
              "      <th>acceleration_x_std</th>\n",
              "      <th>acceleration_x_fo_mean</th>\n",
              "      <th>acceleration_x_so_mean</th>\n",
              "      <th>acceleration_x_fo_min</th>\n",
              "      <th>acceleration_x_so_min</th>\n",
              "      <th>acceleration_x_fo_max</th>\n",
              "      <th>acceleration_x_so_max</th>\n",
              "      <th>acceleration_y_mean</th>\n",
              "      <th>acceleration_y_min</th>\n",
              "      <th>acceleration_y_max</th>\n",
              "      <th>acceleration_y_std</th>\n",
              "      <th>acceleration_y_fo_mean</th>\n",
              "      <th>acceleration_y_so_mean</th>\n",
              "      <th>acceleration_y_fo_min</th>\n",
              "      <th>acceleration_y_so_min</th>\n",
              "      <th>acceleration_y_fo_max</th>\n",
              "      <th>...</th>\n",
              "      <th>total_gyro_so_min</th>\n",
              "      <th>total_gyro_fo_max</th>\n",
              "      <th>total_gyro_so_max</th>\n",
              "      <th>roll_mean</th>\n",
              "      <th>roll_min</th>\n",
              "      <th>roll_max</th>\n",
              "      <th>roll_std</th>\n",
              "      <th>roll_fo_mean</th>\n",
              "      <th>roll_so_mean</th>\n",
              "      <th>roll_fo_min</th>\n",
              "      <th>roll_so_min</th>\n",
              "      <th>roll_fo_max</th>\n",
              "      <th>roll_so_max</th>\n",
              "      <th>pitch_mean</th>\n",
              "      <th>pitch_min</th>\n",
              "      <th>pitch_max</th>\n",
              "      <th>pitch_std</th>\n",
              "      <th>pitch_fo_mean</th>\n",
              "      <th>pitch_so_mean</th>\n",
              "      <th>pitch_fo_min</th>\n",
              "      <th>pitch_so_min</th>\n",
              "      <th>pitch_fo_max</th>\n",
              "      <th>pitch_so_max</th>\n",
              "      <th>horsepower_mean</th>\n",
              "      <th>horsepower_min</th>\n",
              "      <th>horsepower_max</th>\n",
              "      <th>horsepower_std</th>\n",
              "      <th>horsepower_fo_mean</th>\n",
              "      <th>horsepower_so_mean</th>\n",
              "      <th>horsepower_fo_min</th>\n",
              "      <th>horsepower_so_min</th>\n",
              "      <th>horsepower_fo_max</th>\n",
              "      <th>horsepower_so_max</th>\n",
              "      <th>vc</th>\n",
              "      <th>Speed_1</th>\n",
              "      <th>Speed_1_2</th>\n",
              "      <th>Speed_1_2_3</th>\n",
              "      <th>horsepower_1</th>\n",
              "      <th>horsepower_1_2</th>\n",
              "      <th>horsepower_1_2_3</th>\n",
              "    </tr>\n",
              "  </thead>\n",
              "  <tbody>\n",
              "    <tr>\n",
              "      <th>0</th>\n",
              "      <td>0</td>\n",
              "      <td>10.165339</td>\n",
              "      <td>4.0</td>\n",
              "      <td>48.000</td>\n",
              "      <td>3.855898</td>\n",
              "      <td>-3.988036e-03</td>\n",
              "      <td>0.003992</td>\n",
              "      <td>-36.000</td>\n",
              "      <td>-68.000</td>\n",
              "      <td>32.000</td>\n",
              "      <td>32.000</td>\n",
              "      <td>176.526099</td>\n",
              "      <td>0.037464</td>\n",
              "      <td>359.979767</td>\n",
              "      <td>129.231351</td>\n",
              "      <td>-0.101603</td>\n",
              "      <td>-0.280284</td>\n",
              "      <td>-356.680084</td>\n",
              "      <td>-678.707878</td>\n",
              "      <td>357.773807</td>\n",
              "      <td>697.542567</td>\n",
              "      <td>-0.711264</td>\n",
              "      <td>-4.692294</td>\n",
              "      <td>4.782614</td>\n",
              "      <td>0.928022</td>\n",
              "      <td>-0.001451</td>\n",
              "      <td>-0.001960</td>\n",
              "      <td>-5.310925</td>\n",
              "      <td>-10.184308</td>\n",
              "      <td>4.873383</td>\n",
              "      <td>8.453427</td>\n",
              "      <td>-9.613822</td>\n",
              "      <td>-12.764703</td>\n",
              "      <td>-6.119916</td>\n",
              "      <td>0.639934</td>\n",
              "      <td>0.000324</td>\n",
              "      <td>0.000934</td>\n",
              "      <td>-3.953137</td>\n",
              "      <td>-7.856479</td>\n",
              "      <td>3.903342</td>\n",
              "      <td>...</td>\n",
              "      <td>-1.174189</td>\n",
              "      <td>0.660225</td>\n",
              "      <td>0.732735</td>\n",
              "      <td>-1.737242</td>\n",
              "      <td>-2.229817</td>\n",
              "      <td>-1.347602</td>\n",
              "      <td>0.116742</td>\n",
              "      <td>0.000171</td>\n",
              "      <td>0.000202</td>\n",
              "      <td>-0.470042</td>\n",
              "      <td>-0.940743</td>\n",
              "      <td>0.615583</td>\n",
              "      <td>1.047816</td>\n",
              "      <td>0.073598</td>\n",
              "      <td>-0.425732</td>\n",
              "      <td>0.447192</td>\n",
              "      <td>0.094192</td>\n",
              "      <td>0.000157</td>\n",
              "      <td>0.000210</td>\n",
              "      <td>-0.441226</td>\n",
              "      <td>-0.853901</td>\n",
              "      <td>0.505558</td>\n",
              "      <td>0.918500</td>\n",
              "      <td>89.169004</td>\n",
              "      <td>-10.169692</td>\n",
              "      <td>252.090958</td>\n",
              "      <td>71.968693</td>\n",
              "      <td>8.359973e-02</td>\n",
              "      <td>-4.773332e-02</td>\n",
              "      <td>-232.745306</td>\n",
              "      <td>-460.166618</td>\n",
              "      <td>231.245321</td>\n",
              "      <td>400.555202</td>\n",
              "      <td>1004</td>\n",
              "      <td>-1.000000</td>\n",
              "      <td>10.590596</td>\n",
              "      <td>0.162426</td>\n",
              "      <td>-10.169692</td>\n",
              "      <td>131.702010</td>\n",
              "      <td>1.613122</td>\n",
              "    </tr>\n",
              "    <tr>\n",
              "      <th>1</th>\n",
              "      <td>1</td>\n",
              "      <td>3.718763</td>\n",
              "      <td>3.0</td>\n",
              "      <td>7.709</td>\n",
              "      <td>0.597933</td>\n",
              "      <td>1.058824e-03</td>\n",
              "      <td>-0.001296</td>\n",
              "      <td>-4.414</td>\n",
              "      <td>-8.828</td>\n",
              "      <td>4.709</td>\n",
              "      <td>6.709</td>\n",
              "      <td>124.198590</td>\n",
              "      <td>0.000000</td>\n",
              "      <td>337.000000</td>\n",
              "      <td>89.861236</td>\n",
              "      <td>0.038824</td>\n",
              "      <td>-0.047114</td>\n",
              "      <td>-306.000000</td>\n",
              "      <td>-559.000000</td>\n",
              "      <td>304.000000</td>\n",
              "      <td>610.000000</td>\n",
              "      <td>-0.525406</td>\n",
              "      <td>-5.352994</td>\n",
              "      <td>3.813341</td>\n",
              "      <td>0.744157</td>\n",
              "      <td>-0.000824</td>\n",
              "      <td>0.001334</td>\n",
              "      <td>-4.131128</td>\n",
              "      <td>-8.524900</td>\n",
              "      <td>5.112138</td>\n",
              "      <td>8.847361</td>\n",
              "      <td>9.532086</td>\n",
              "      <td>6.623425</td>\n",
              "      <td>12.536156</td>\n",
              "      <td>0.533915</td>\n",
              "      <td>-0.000785</td>\n",
              "      <td>0.000634</td>\n",
              "      <td>-3.323172</td>\n",
              "      <td>-6.294559</td>\n",
              "      <td>3.170564</td>\n",
              "      <td>...</td>\n",
              "      <td>-1.235690</td>\n",
              "      <td>0.641245</td>\n",
              "      <td>0.657876</td>\n",
              "      <td>1.797626</td>\n",
              "      <td>1.434715</td>\n",
              "      <td>2.137340</td>\n",
              "      <td>0.088049</td>\n",
              "      <td>-0.000096</td>\n",
              "      <td>-0.000285</td>\n",
              "      <td>-0.537245</td>\n",
              "      <td>-0.783427</td>\n",
              "      <td>0.523479</td>\n",
              "      <td>0.965273</td>\n",
              "      <td>0.053107</td>\n",
              "      <td>-0.421987</td>\n",
              "      <td>0.512452</td>\n",
              "      <td>0.074387</td>\n",
              "      <td>0.000099</td>\n",
              "      <td>-0.000123</td>\n",
              "      <td>-0.488136</td>\n",
              "      <td>-0.832619</td>\n",
              "      <td>0.452367</td>\n",
              "      <td>0.931832</td>\n",
              "      <td>77.562771</td>\n",
              "      <td>-10.135306</td>\n",
              "      <td>233.266532</td>\n",
              "      <td>69.489840</td>\n",
              "      <td>1.848545e-01</td>\n",
              "      <td>-1.158458e-01</td>\n",
              "      <td>-225.490708</td>\n",
              "      <td>-453.960890</td>\n",
              "      <td>233.169493</td>\n",
              "      <td>411.608531</td>\n",
              "      <td>851</td>\n",
              "      <td>-1.000000</td>\n",
              "      <td>-1.000000</td>\n",
              "      <td>-1.000000</td>\n",
              "      <td>-9.197917</td>\n",
              "      <td>-9.093537</td>\n",
              "      <td>-9.465303</td>\n",
              "    </tr>\n",
              "    <tr>\n",
              "      <th>2</th>\n",
              "      <td>2</td>\n",
              "      <td>3.930626</td>\n",
              "      <td>3.0</td>\n",
              "      <td>8.000</td>\n",
              "      <td>1.117354</td>\n",
              "      <td>4.639175e-03</td>\n",
              "      <td>0.001793</td>\n",
              "      <td>-4.000</td>\n",
              "      <td>-8.345</td>\n",
              "      <td>5.000</td>\n",
              "      <td>6.000</td>\n",
              "      <td>173.794872</td>\n",
              "      <td>1.000000</td>\n",
              "      <td>354.000000</td>\n",
              "      <td>119.316520</td>\n",
              "      <td>1.010309</td>\n",
              "      <td>1.388601</td>\n",
              "      <td>-337.000000</td>\n",
              "      <td>-676.000000</td>\n",
              "      <td>339.000000</td>\n",
              "      <td>590.000000</td>\n",
              "      <td>0.306786</td>\n",
              "      <td>-2.971295</td>\n",
              "      <td>1.956122</td>\n",
              "      <td>0.756589</td>\n",
              "      <td>0.003345</td>\n",
              "      <td>0.018050</td>\n",
              "      <td>-3.644086</td>\n",
              "      <td>-5.013611</td>\n",
              "      <td>3.464516</td>\n",
              "      <td>7.108602</td>\n",
              "      <td>9.843183</td>\n",
              "      <td>7.941810</td>\n",
              "      <td>13.333716</td>\n",
              "      <td>0.505693</td>\n",
              "      <td>0.001592</td>\n",
              "      <td>0.003449</td>\n",
              "      <td>-3.490852</td>\n",
              "      <td>-6.522003</td>\n",
              "      <td>3.031151</td>\n",
              "      <td>...</td>\n",
              "      <td>-0.806141</td>\n",
              "      <td>0.407373</td>\n",
              "      <td>0.563150</td>\n",
              "      <td>1.556422</td>\n",
              "      <td>1.328230</td>\n",
              "      <td>1.891112</td>\n",
              "      <td>0.102860</td>\n",
              "      <td>-0.000391</td>\n",
              "      <td>-0.000621</td>\n",
              "      <td>-0.436176</td>\n",
              "      <td>-0.777169</td>\n",
              "      <td>0.478420</td>\n",
              "      <td>0.635099</td>\n",
              "      <td>-0.031534</td>\n",
              "      <td>-0.202880</td>\n",
              "      <td>0.260122</td>\n",
              "      <td>0.075406</td>\n",
              "      <td>-0.000304</td>\n",
              "      <td>-0.001784</td>\n",
              "      <td>-0.310418</td>\n",
              "      <td>-0.639641</td>\n",
              "      <td>0.329223</td>\n",
              "      <td>0.490599</td>\n",
              "      <td>31.450526</td>\n",
              "      <td>0.000000</td>\n",
              "      <td>104.777363</td>\n",
              "      <td>29.000906</td>\n",
              "      <td>4.596758e-01</td>\n",
              "      <td>4.409695e-01</td>\n",
              "      <td>-93.238772</td>\n",
              "      <td>-186.477544</td>\n",
              "      <td>93.238772</td>\n",
              "      <td>173.380469</td>\n",
              "      <td>195</td>\n",
              "      <td>9.002391</td>\n",
              "      <td>9.257438</td>\n",
              "      <td>8.185837</td>\n",
              "      <td>92.667590</td>\n",
              "      <td>104.777363</td>\n",
              "      <td>83.435178</td>\n",
              "    </tr>\n",
              "    <tr>\n",
              "      <th>3</th>\n",
              "      <td>4</td>\n",
              "      <td>10.000000</td>\n",
              "      <td>10.0</td>\n",
              "      <td>10.000</td>\n",
              "      <td>0.000000</td>\n",
              "      <td>0.000000e+00</td>\n",
              "      <td>0.000000</td>\n",
              "      <td>0.000</td>\n",
              "      <td>0.000</td>\n",
              "      <td>0.000</td>\n",
              "      <td>0.000</td>\n",
              "      <td>151.807013</td>\n",
              "      <td>2.271227</td>\n",
              "      <td>353.855377</td>\n",
              "      <td>71.273774</td>\n",
              "      <td>0.024552</td>\n",
              "      <td>0.006779</td>\n",
              "      <td>-300.273964</td>\n",
              "      <td>-508.312253</td>\n",
              "      <td>331.624398</td>\n",
              "      <td>594.888779</td>\n",
              "      <td>-0.365117</td>\n",
              "      <td>-2.866458</td>\n",
              "      <td>2.019635</td>\n",
              "      <td>0.527220</td>\n",
              "      <td>-0.001801</td>\n",
              "      <td>0.001724</td>\n",
              "      <td>-3.085678</td>\n",
              "      <td>-5.133127</td>\n",
              "      <td>3.158801</td>\n",
              "      <td>5.254550</td>\n",
              "      <td>-9.406439</td>\n",
              "      <td>-18.847833</td>\n",
              "      <td>-7.064984</td>\n",
              "      <td>0.598023</td>\n",
              "      <td>0.000358</td>\n",
              "      <td>-0.000093</td>\n",
              "      <td>-9.794467</td>\n",
              "      <td>-10.051071</td>\n",
              "      <td>9.601715</td>\n",
              "      <td>...</td>\n",
              "      <td>-1.165823</td>\n",
              "      <td>0.625971</td>\n",
              "      <td>0.967315</td>\n",
              "      <td>-1.841256</td>\n",
              "      <td>-2.107056</td>\n",
              "      <td>-1.537207</td>\n",
              "      <td>0.077592</td>\n",
              "      <td>-0.000184</td>\n",
              "      <td>0.000134</td>\n",
              "      <td>-0.366293</td>\n",
              "      <td>-0.728194</td>\n",
              "      <td>0.371167</td>\n",
              "      <td>0.595339</td>\n",
              "      <td>0.037733</td>\n",
              "      <td>-0.188548</td>\n",
              "      <td>0.329725</td>\n",
              "      <td>0.054380</td>\n",
              "      <td>0.000184</td>\n",
              "      <td>-0.000176</td>\n",
              "      <td>-0.325465</td>\n",
              "      <td>-0.635692</td>\n",
              "      <td>0.368603</td>\n",
              "      <td>0.512254</td>\n",
              "      <td>60.619916</td>\n",
              "      <td>0.000000</td>\n",
              "      <td>385.485278</td>\n",
              "      <td>56.243974</td>\n",
              "      <td>-1.538936e-02</td>\n",
              "      <td>-1.304496e-02</td>\n",
              "      <td>-290.200024</td>\n",
              "      <td>-557.572728</td>\n",
              "      <td>267.372704</td>\n",
              "      <td>338.218808</td>\n",
              "      <td>1094</td>\n",
              "      <td>0.190000</td>\n",
              "      <td>5.600000</td>\n",
              "      <td>2.330000</td>\n",
              "      <td>1.842166</td>\n",
              "      <td>60.358278</td>\n",
              "      <td>22.639851</td>\n",
              "    </tr>\n",
              "    <tr>\n",
              "      <th>4</th>\n",
              "      <td>6</td>\n",
              "      <td>4.586721</td>\n",
              "      <td>3.0</td>\n",
              "      <td>12.000</td>\n",
              "      <td>1.329545</td>\n",
              "      <td>-1.623727e-18</td>\n",
              "      <td>0.001917</td>\n",
              "      <td>-8.000</td>\n",
              "      <td>-15.720</td>\n",
              "      <td>9.000</td>\n",
              "      <td>11.225</td>\n",
              "      <td>197.812785</td>\n",
              "      <td>0.000000</td>\n",
              "      <td>359.000000</td>\n",
              "      <td>111.868249</td>\n",
              "      <td>-0.256856</td>\n",
              "      <td>-0.169259</td>\n",
              "      <td>-328.000000</td>\n",
              "      <td>-640.000000</td>\n",
              "      <td>337.000000</td>\n",
              "      <td>602.000000</td>\n",
              "      <td>0.490616</td>\n",
              "      <td>-4.352792</td>\n",
              "      <td>5.593026</td>\n",
              "      <td>0.826271</td>\n",
              "      <td>-0.000269</td>\n",
              "      <td>0.000031</td>\n",
              "      <td>-5.255433</td>\n",
              "      <td>-11.686455</td>\n",
              "      <td>6.431022</td>\n",
              "      <td>9.854836</td>\n",
              "      <td>9.538043</td>\n",
              "      <td>6.469330</td>\n",
              "      <td>13.249917</td>\n",
              "      <td>0.617210</td>\n",
              "      <td>0.000635</td>\n",
              "      <td>0.000416</td>\n",
              "      <td>-4.108576</td>\n",
              "      <td>-7.225922</td>\n",
              "      <td>3.265792</td>\n",
              "      <td>...</td>\n",
              "      <td>-1.196790</td>\n",
              "      <td>0.613616</td>\n",
              "      <td>0.840368</td>\n",
              "      <td>1.329015</td>\n",
              "      <td>0.903251</td>\n",
              "      <td>1.861424</td>\n",
              "      <td>0.097058</td>\n",
              "      <td>0.000055</td>\n",
              "      <td>0.000063</td>\n",
              "      <td>-0.498595</td>\n",
              "      <td>-1.169826</td>\n",
              "      <td>0.698923</td>\n",
              "      <td>1.004400</td>\n",
              "      <td>-0.050947</td>\n",
              "      <td>-0.577149</td>\n",
              "      <td>0.455444</td>\n",
              "      <td>0.084303</td>\n",
              "      <td>0.000030</td>\n",
              "      <td>-0.000002</td>\n",
              "      <td>-0.657506</td>\n",
              "      <td>-1.022886</td>\n",
              "      <td>0.543940</td>\n",
              "      <td>1.201446</td>\n",
              "      <td>46.151636</td>\n",
              "      <td>0.000000</td>\n",
              "      <td>212.361351</td>\n",
              "      <td>53.504948</td>\n",
              "      <td>1.298981e-17</td>\n",
              "      <td>-6.630865e-16</td>\n",
              "      <td>-212.361351</td>\n",
              "      <td>-424.722703</td>\n",
              "      <td>212.361351</td>\n",
              "      <td>379.798831</td>\n",
              "      <td>1095</td>\n",
              "      <td>4.268571</td>\n",
              "      <td>6.143076</td>\n",
              "      <td>5.507971</td>\n",
              "      <td>41.553927</td>\n",
              "      <td>61.591750</td>\n",
              "      <td>52.814251</td>\n",
              "    </tr>\n",
              "  </tbody>\n",
              "</table>\n",
              "<p>5 rows × 158 columns</p>\n",
              "</div>"
            ],
            "text/plain": [
              "   bookingID  Accuracy_mean  ...  horsepower_1_2  horsepower_1_2_3\n",
              "0          0      10.165339  ...      131.702010          1.613122\n",
              "1          1       3.718763  ...       -9.093537         -9.465303\n",
              "2          2       3.930626  ...      104.777363         83.435178\n",
              "3          4      10.000000  ...       60.358278         22.639851\n",
              "4          6       4.586721  ...       61.591750         52.814251\n",
              "\n",
              "[5 rows x 158 columns]"
            ]
          },
          "metadata": {
            "tags": []
          },
          "execution_count": 62
        }
      ]
    },
    {
      "cell_type": "code",
      "metadata": {
        "id": "N0mpZDtA-KTO",
        "colab_type": "code",
        "outputId": "6a6747b4-9bae-4c2f-d9e4-9424efa2205a",
        "colab": {
          "base_uri": "https://localhost:8080/",
          "height": 247
        }
      },
      "source": [
        "new_sub = pd.merge(sample_new, labels_df,\n",
        "                  left_on='bookingID', right_on='bookingID',\n",
        "                  how='inner')\n",
        "\n",
        "new_sub.head()"
      ],
      "execution_count": 0,
      "outputs": [
        {
          "output_type": "execute_result",
          "data": {
            "text/html": [
              "<div>\n",
              "<style scoped>\n",
              "    .dataframe tbody tr th:only-of-type {\n",
              "        vertical-align: middle;\n",
              "    }\n",
              "\n",
              "    .dataframe tbody tr th {\n",
              "        vertical-align: top;\n",
              "    }\n",
              "\n",
              "    .dataframe thead th {\n",
              "        text-align: right;\n",
              "    }\n",
              "</style>\n",
              "<table border=\"1\" class=\"dataframe\">\n",
              "  <thead>\n",
              "    <tr style=\"text-align: right;\">\n",
              "      <th></th>\n",
              "      <th>bookingID</th>\n",
              "      <th>Accuracy_min</th>\n",
              "      <th>Accuracy_max</th>\n",
              "      <th>Accuracy_mean</th>\n",
              "      <th>Accuracy_std</th>\n",
              "      <th>Bearing_min</th>\n",
              "      <th>Bearing_max</th>\n",
              "      <th>Bearing_mean</th>\n",
              "      <th>Bearing_std</th>\n",
              "      <th>acceleration_x_min</th>\n",
              "      <th>acceleration_x_max</th>\n",
              "      <th>acceleration_x_mean</th>\n",
              "      <th>acceleration_x_std</th>\n",
              "      <th>acceleration_y_min</th>\n",
              "      <th>acceleration_y_max</th>\n",
              "      <th>acceleration_y_mean</th>\n",
              "      <th>acceleration_y_std</th>\n",
              "      <th>acceleration_z_min</th>\n",
              "      <th>acceleration_z_max</th>\n",
              "      <th>acceleration_z_mean</th>\n",
              "      <th>acceleration_z_std</th>\n",
              "      <th>gyro_x_min</th>\n",
              "      <th>gyro_x_max</th>\n",
              "      <th>gyro_x_mean</th>\n",
              "      <th>gyro_x_std</th>\n",
              "      <th>gyro_y_min</th>\n",
              "      <th>gyro_y_max</th>\n",
              "      <th>gyro_y_mean</th>\n",
              "      <th>gyro_y_std</th>\n",
              "      <th>gyro_z_min</th>\n",
              "      <th>gyro_z_max</th>\n",
              "      <th>gyro_z_mean</th>\n",
              "      <th>gyro_z_std</th>\n",
              "      <th>second_min</th>\n",
              "      <th>second_max</th>\n",
              "      <th>second_mean</th>\n",
              "      <th>second_std</th>\n",
              "      <th>Speed_min</th>\n",
              "      <th>Speed_max</th>\n",
              "      <th>Speed_mean</th>\n",
              "      <th>...</th>\n",
              "      <th>acceleration_x_so_min</th>\n",
              "      <th>acceleration_x_so_max</th>\n",
              "      <th>acceleration_x_sign_change</th>\n",
              "      <th>acceleration_y_fo_mean</th>\n",
              "      <th>acceleration_y_fo_min</th>\n",
              "      <th>acceleration_y_fo_max</th>\n",
              "      <th>acceleration_y_so_mean</th>\n",
              "      <th>acceleration_y_so_min</th>\n",
              "      <th>acceleration_y_so_max</th>\n",
              "      <th>acceleration_y_sign_change</th>\n",
              "      <th>acceleration_z_fo_mean</th>\n",
              "      <th>acceleration_z_fo_min</th>\n",
              "      <th>acceleration_z_fo_max</th>\n",
              "      <th>acceleration_z_so_mean</th>\n",
              "      <th>acceleration_z_so_min</th>\n",
              "      <th>acceleration_z_so_max</th>\n",
              "      <th>acceleration_z_sign_change</th>\n",
              "      <th>gyro_x_fo_mean</th>\n",
              "      <th>gyro_x_fo_min</th>\n",
              "      <th>gyro_x_fo_max</th>\n",
              "      <th>gyro_x_so_mean</th>\n",
              "      <th>gyro_x_so_min</th>\n",
              "      <th>gyro_x_so_max</th>\n",
              "      <th>gyro_x_sign_change</th>\n",
              "      <th>gyro_y_fo_mean</th>\n",
              "      <th>gyro_y_fo_min</th>\n",
              "      <th>gyro_y_fo_max</th>\n",
              "      <th>gyro_y_so_mean</th>\n",
              "      <th>gyro_y_so_min</th>\n",
              "      <th>gyro_y_so_max</th>\n",
              "      <th>gyro_y_sign_change</th>\n",
              "      <th>gyro_z_fo_mean</th>\n",
              "      <th>gyro_z_fo_min</th>\n",
              "      <th>gyro_z_fo_max</th>\n",
              "      <th>gyro_z_so_mean</th>\n",
              "      <th>gyro_z_so_min</th>\n",
              "      <th>gyro_z_so_max</th>\n",
              "      <th>gyro_z_sign_change</th>\n",
              "      <th>vc</th>\n",
              "      <th>label</th>\n",
              "    </tr>\n",
              "  </thead>\n",
              "  <tbody>\n",
              "    <tr>\n",
              "      <th>0</th>\n",
              "      <td>0</td>\n",
              "      <td>4.0</td>\n",
              "      <td>48.000</td>\n",
              "      <td>10.165339</td>\n",
              "      <td>3.855898</td>\n",
              "      <td>0.037464</td>\n",
              "      <td>359.979767</td>\n",
              "      <td>176.526099</td>\n",
              "      <td>129.231351</td>\n",
              "      <td>-4.692294</td>\n",
              "      <td>4.782614</td>\n",
              "      <td>-0.711264</td>\n",
              "      <td>0.928022</td>\n",
              "      <td>-12.764703</td>\n",
              "      <td>-6.119916</td>\n",
              "      <td>-9.613822</td>\n",
              "      <td>0.639934</td>\n",
              "      <td>-6.251807</td>\n",
              "      <td>2.318857</td>\n",
              "      <td>-1.619658</td>\n",
              "      <td>1.141266</td>\n",
              "      <td>-0.392537</td>\n",
              "      <td>0.438371</td>\n",
              "      <td>0.003328</td>\n",
              "      <td>0.065954</td>\n",
              "      <td>-0.609930</td>\n",
              "      <td>0.469724</td>\n",
              "      <td>-0.006118</td>\n",
              "      <td>0.100225</td>\n",
              "      <td>-0.731892</td>\n",
              "      <td>0.372807</td>\n",
              "      <td>-0.004188</td>\n",
              "      <td>0.063685</td>\n",
              "      <td>0.0</td>\n",
              "      <td>1589.0</td>\n",
              "      <td>903.526892</td>\n",
              "      <td>533.745097</td>\n",
              "      <td>-1.0</td>\n",
              "      <td>22.946083</td>\n",
              "      <td>8.994822</td>\n",
              "      <td>...</td>\n",
              "      <td>-10.184308</td>\n",
              "      <td>8.453427</td>\n",
              "      <td>278.0</td>\n",
              "      <td>0.000324</td>\n",
              "      <td>-3.953137</td>\n",
              "      <td>3.903342</td>\n",
              "      <td>0.000934</td>\n",
              "      <td>-7.856479</td>\n",
              "      <td>5.524164</td>\n",
              "      <td>0.0</td>\n",
              "      <td>0.001660</td>\n",
              "      <td>-4.960413</td>\n",
              "      <td>6.332556</td>\n",
              "      <td>0.002131</td>\n",
              "      <td>-9.415692</td>\n",
              "      <td>10.856174</td>\n",
              "      <td>144.0</td>\n",
              "      <td>0.000062</td>\n",
              "      <td>-0.470277</td>\n",
              "      <td>0.446838</td>\n",
              "      <td>-0.000139</td>\n",
              "      <td>-0.878883</td>\n",
              "      <td>0.792117</td>\n",
              "      <td>503.0</td>\n",
              "      <td>0.000133</td>\n",
              "      <td>-0.609200</td>\n",
              "      <td>0.632817</td>\n",
              "      <td>-0.000037</td>\n",
              "      <td>-0.982114</td>\n",
              "      <td>1.163994</td>\n",
              "      <td>519.0</td>\n",
              "      <td>-0.000056</td>\n",
              "      <td>-0.731597</td>\n",
              "      <td>0.860446</td>\n",
              "      <td>-0.000050</td>\n",
              "      <td>-1.010095</td>\n",
              "      <td>1.592042</td>\n",
              "      <td>489.0</td>\n",
              "      <td>1004</td>\n",
              "      <td>0</td>\n",
              "    </tr>\n",
              "    <tr>\n",
              "      <th>1</th>\n",
              "      <td>1</td>\n",
              "      <td>3.0</td>\n",
              "      <td>7.709</td>\n",
              "      <td>3.718763</td>\n",
              "      <td>0.597933</td>\n",
              "      <td>0.000000</td>\n",
              "      <td>337.000000</td>\n",
              "      <td>124.198590</td>\n",
              "      <td>89.861236</td>\n",
              "      <td>-5.352994</td>\n",
              "      <td>3.813341</td>\n",
              "      <td>-0.525406</td>\n",
              "      <td>0.744157</td>\n",
              "      <td>6.623425</td>\n",
              "      <td>12.536156</td>\n",
              "      <td>9.532086</td>\n",
              "      <td>0.533915</td>\n",
              "      <td>-5.355455</td>\n",
              "      <td>1.481293</td>\n",
              "      <td>-2.198999</td>\n",
              "      <td>0.854271</td>\n",
              "      <td>-0.125367</td>\n",
              "      <td>0.126536</td>\n",
              "      <td>-0.002467</td>\n",
              "      <td>0.027740</td>\n",
              "      <td>-0.678183</td>\n",
              "      <td>0.470837</td>\n",
              "      <td>-0.007540</td>\n",
              "      <td>0.091699</td>\n",
              "      <td>-0.121265</td>\n",
              "      <td>0.235131</td>\n",
              "      <td>0.000405</td>\n",
              "      <td>0.033838</td>\n",
              "      <td>0.0</td>\n",
              "      <td>1034.0</td>\n",
              "      <td>581.175088</td>\n",
              "      <td>289.339367</td>\n",
              "      <td>-1.0</td>\n",
              "      <td>21.882141</td>\n",
              "      <td>7.881588</td>\n",
              "      <td>...</td>\n",
              "      <td>-8.524900</td>\n",
              "      <td>8.847361</td>\n",
              "      <td>180.0</td>\n",
              "      <td>-0.000785</td>\n",
              "      <td>-3.323172</td>\n",
              "      <td>3.170564</td>\n",
              "      <td>0.000634</td>\n",
              "      <td>-6.294559</td>\n",
              "      <td>6.425989</td>\n",
              "      <td>0.0</td>\n",
              "      <td>0.001054</td>\n",
              "      <td>-5.032708</td>\n",
              "      <td>5.158748</td>\n",
              "      <td>0.002540</td>\n",
              "      <td>-9.591842</td>\n",
              "      <td>7.498774</td>\n",
              "      <td>24.0</td>\n",
              "      <td>-0.000050</td>\n",
              "      <td>-0.179333</td>\n",
              "      <td>0.121126</td>\n",
              "      <td>-0.000053</td>\n",
              "      <td>-0.246702</td>\n",
              "      <td>0.291941</td>\n",
              "      <td>428.0</td>\n",
              "      <td>0.000008</td>\n",
              "      <td>-0.717767</td>\n",
              "      <td>0.596711</td>\n",
              "      <td>-0.000281</td>\n",
              "      <td>-0.782274</td>\n",
              "      <td>1.275626</td>\n",
              "      <td>433.0</td>\n",
              "      <td>-0.000069</td>\n",
              "      <td>-0.216438</td>\n",
              "      <td>0.275204</td>\n",
              "      <td>-0.000048</td>\n",
              "      <td>-0.484521</td>\n",
              "      <td>0.283110</td>\n",
              "      <td>415.0</td>\n",
              "      <td>851</td>\n",
              "      <td>1</td>\n",
              "    </tr>\n",
              "    <tr>\n",
              "      <th>2</th>\n",
              "      <td>2</td>\n",
              "      <td>3.0</td>\n",
              "      <td>8.000</td>\n",
              "      <td>3.930626</td>\n",
              "      <td>1.117354</td>\n",
              "      <td>1.000000</td>\n",
              "      <td>354.000000</td>\n",
              "      <td>173.794872</td>\n",
              "      <td>119.316520</td>\n",
              "      <td>-2.971295</td>\n",
              "      <td>1.956122</td>\n",
              "      <td>0.306786</td>\n",
              "      <td>0.756589</td>\n",
              "      <td>7.941810</td>\n",
              "      <td>13.333716</td>\n",
              "      <td>9.843183</td>\n",
              "      <td>0.505693</td>\n",
              "      <td>-3.282551</td>\n",
              "      <td>2.312870</td>\n",
              "      <td>0.139347</td>\n",
              "      <td>1.020021</td>\n",
              "      <td>-0.155218</td>\n",
              "      <td>0.282162</td>\n",
              "      <td>0.006458</td>\n",
              "      <td>0.053903</td>\n",
              "      <td>-0.462000</td>\n",
              "      <td>0.431695</td>\n",
              "      <td>-0.012861</td>\n",
              "      <td>0.117321</td>\n",
              "      <td>-0.125907</td>\n",
              "      <td>0.255884</td>\n",
              "      <td>0.002597</td>\n",
              "      <td>0.036215</td>\n",
              "      <td>0.0</td>\n",
              "      <td>825.0</td>\n",
              "      <td>339.441026</td>\n",
              "      <td>356.319445</td>\n",
              "      <td>0.0</td>\n",
              "      <td>9.360483</td>\n",
              "      <td>3.157213</td>\n",
              "      <td>...</td>\n",
              "      <td>-5.013611</td>\n",
              "      <td>7.108602</td>\n",
              "      <td>80.0</td>\n",
              "      <td>0.001592</td>\n",
              "      <td>-3.490852</td>\n",
              "      <td>3.031151</td>\n",
              "      <td>0.003449</td>\n",
              "      <td>-6.522003</td>\n",
              "      <td>4.005621</td>\n",
              "      <td>0.0</td>\n",
              "      <td>0.004134</td>\n",
              "      <td>-5.375147</td>\n",
              "      <td>4.326454</td>\n",
              "      <td>0.006488</td>\n",
              "      <td>-7.043957</td>\n",
              "      <td>8.842057</td>\n",
              "      <td>88.0</td>\n",
              "      <td>-0.000356</td>\n",
              "      <td>-0.277944</td>\n",
              "      <td>0.298713</td>\n",
              "      <td>-0.000529</td>\n",
              "      <td>-0.576657</td>\n",
              "      <td>0.397062</td>\n",
              "      <td>98.0</td>\n",
              "      <td>0.001603</td>\n",
              "      <td>-0.638354</td>\n",
              "      <td>0.507018</td>\n",
              "      <td>-0.000608</td>\n",
              "      <td>-1.034806</td>\n",
              "      <td>0.967000</td>\n",
              "      <td>101.0</td>\n",
              "      <td>-0.000482</td>\n",
              "      <td>-0.276111</td>\n",
              "      <td>0.258396</td>\n",
              "      <td>-0.000215</td>\n",
              "      <td>-0.534507</td>\n",
              "      <td>0.324369</td>\n",
              "      <td>113.0</td>\n",
              "      <td>195</td>\n",
              "      <td>1</td>\n",
              "    </tr>\n",
              "    <tr>\n",
              "      <th>3</th>\n",
              "      <td>4</td>\n",
              "      <td>10.0</td>\n",
              "      <td>10.000</td>\n",
              "      <td>10.000000</td>\n",
              "      <td>0.000000</td>\n",
              "      <td>2.271227</td>\n",
              "      <td>353.855377</td>\n",
              "      <td>151.807013</td>\n",
              "      <td>71.273774</td>\n",
              "      <td>-2.866458</td>\n",
              "      <td>2.019635</td>\n",
              "      <td>-0.365117</td>\n",
              "      <td>0.527220</td>\n",
              "      <td>-18.847833</td>\n",
              "      <td>-7.064984</td>\n",
              "      <td>-9.406439</td>\n",
              "      <td>0.598023</td>\n",
              "      <td>-9.374869</td>\n",
              "      <td>0.296381</td>\n",
              "      <td>-2.613639</td>\n",
              "      <td>0.779529</td>\n",
              "      <td>-0.420507</td>\n",
              "      <td>0.438732</td>\n",
              "      <td>-0.022884</td>\n",
              "      <td>0.042342</td>\n",
              "      <td>-0.506531</td>\n",
              "      <td>0.652628</td>\n",
              "      <td>0.023232</td>\n",
              "      <td>0.112567</td>\n",
              "      <td>-0.348189</td>\n",
              "      <td>0.505220</td>\n",
              "      <td>-0.000376</td>\n",
              "      <td>0.065927</td>\n",
              "      <td>0.0</td>\n",
              "      <td>1094.0</td>\n",
              "      <td>547.495430</td>\n",
              "      <td>315.962793</td>\n",
              "      <td>0.0</td>\n",
              "      <td>19.780001</td>\n",
              "      <td>6.150996</td>\n",
              "      <td>...</td>\n",
              "      <td>-5.133127</td>\n",
              "      <td>5.254550</td>\n",
              "      <td>299.0</td>\n",
              "      <td>0.000358</td>\n",
              "      <td>-9.794467</td>\n",
              "      <td>9.601715</td>\n",
              "      <td>-0.000093</td>\n",
              "      <td>-10.051071</td>\n",
              "      <td>19.396182</td>\n",
              "      <td>0.0</td>\n",
              "      <td>-0.001748</td>\n",
              "      <td>-8.202805</td>\n",
              "      <td>6.575403</td>\n",
              "      <td>0.001314</td>\n",
              "      <td>-10.440613</td>\n",
              "      <td>14.778207</td>\n",
              "      <td>4.0</td>\n",
              "      <td>0.000008</td>\n",
              "      <td>-0.500610</td>\n",
              "      <td>0.507631</td>\n",
              "      <td>-0.000057</td>\n",
              "      <td>-1.008241</td>\n",
              "      <td>0.800959</td>\n",
              "      <td>264.0</td>\n",
              "      <td>-0.000306</td>\n",
              "      <td>-0.577360</td>\n",
              "      <td>0.625146</td>\n",
              "      <td>0.000110</td>\n",
              "      <td>-1.186005</td>\n",
              "      <td>1.002399</td>\n",
              "      <td>519.0</td>\n",
              "      <td>-0.000012</td>\n",
              "      <td>-0.481751</td>\n",
              "      <td>0.561944</td>\n",
              "      <td>0.000108</td>\n",
              "      <td>-1.043695</td>\n",
              "      <td>0.714401</td>\n",
              "      <td>536.0</td>\n",
              "      <td>1094</td>\n",
              "      <td>1</td>\n",
              "    </tr>\n",
              "    <tr>\n",
              "      <th>4</th>\n",
              "      <td>6</td>\n",
              "      <td>3.0</td>\n",
              "      <td>12.000</td>\n",
              "      <td>4.586721</td>\n",
              "      <td>1.329545</td>\n",
              "      <td>0.000000</td>\n",
              "      <td>359.000000</td>\n",
              "      <td>197.812785</td>\n",
              "      <td>111.868249</td>\n",
              "      <td>-4.352792</td>\n",
              "      <td>5.593026</td>\n",
              "      <td>0.490616</td>\n",
              "      <td>0.826271</td>\n",
              "      <td>6.469330</td>\n",
              "      <td>13.249917</td>\n",
              "      <td>9.538043</td>\n",
              "      <td>0.617210</td>\n",
              "      <td>-2.140482</td>\n",
              "      <td>7.977724</td>\n",
              "      <td>2.355059</td>\n",
              "      <td>0.942163</td>\n",
              "      <td>-0.253551</td>\n",
              "      <td>0.362202</td>\n",
              "      <td>0.003877</td>\n",
              "      <td>0.055170</td>\n",
              "      <td>-0.621802</td>\n",
              "      <td>0.532123</td>\n",
              "      <td>0.000436</td>\n",
              "      <td>0.106815</td>\n",
              "      <td>-0.348345</td>\n",
              "      <td>0.364534</td>\n",
              "      <td>0.002930</td>\n",
              "      <td>0.057438</td>\n",
              "      <td>0.0</td>\n",
              "      <td>1094.0</td>\n",
              "      <td>547.000000</td>\n",
              "      <td>316.243577</td>\n",
              "      <td>0.0</td>\n",
              "      <td>16.394695</td>\n",
              "      <td>4.628921</td>\n",
              "      <td>...</td>\n",
              "      <td>-11.686455</td>\n",
              "      <td>9.854836</td>\n",
              "      <td>355.0</td>\n",
              "      <td>0.000635</td>\n",
              "      <td>-4.108576</td>\n",
              "      <td>3.265792</td>\n",
              "      <td>0.000416</td>\n",
              "      <td>-7.225922</td>\n",
              "      <td>6.960157</td>\n",
              "      <td>0.0</td>\n",
              "      <td>-0.000390</td>\n",
              "      <td>-7.489292</td>\n",
              "      <td>5.090228</td>\n",
              "      <td>-0.000526</td>\n",
              "      <td>-12.579520</td>\n",
              "      <td>10.458192</td>\n",
              "      <td>26.0</td>\n",
              "      <td>0.000055</td>\n",
              "      <td>-0.351248</td>\n",
              "      <td>0.410501</td>\n",
              "      <td>-0.000012</td>\n",
              "      <td>-0.725708</td>\n",
              "      <td>0.507018</td>\n",
              "      <td>537.0</td>\n",
              "      <td>0.000012</td>\n",
              "      <td>-0.654848</td>\n",
              "      <td>0.671341</td>\n",
              "      <td>0.000002</td>\n",
              "      <td>-1.158811</td>\n",
              "      <td>1.304197</td>\n",
              "      <td>520.0</td>\n",
              "      <td>-0.000015</td>\n",
              "      <td>-0.444099</td>\n",
              "      <td>0.354913</td>\n",
              "      <td>-0.000007</td>\n",
              "      <td>-0.728762</td>\n",
              "      <td>0.787405</td>\n",
              "      <td>547.0</td>\n",
              "      <td>1095</td>\n",
              "      <td>0</td>\n",
              "    </tr>\n",
              "  </tbody>\n",
              "</table>\n",
              "<p>5 rows × 105 columns</p>\n",
              "</div>"
            ],
            "text/plain": [
              "   bookingID  Accuracy_min  Accuracy_max  ...  gyro_z_sign_change    vc  label\n",
              "0          0           4.0        48.000  ...               489.0  1004      0\n",
              "1          1           3.0         7.709  ...               415.0   851      1\n",
              "2          2           3.0         8.000  ...               113.0   195      1\n",
              "3          4          10.0        10.000  ...               536.0  1094      1\n",
              "4          6           3.0        12.000  ...               547.0  1095      0\n",
              "\n",
              "[5 rows x 105 columns]"
            ]
          },
          "metadata": {
            "tags": []
          },
          "execution_count": 93
        }
      ]
    },
    {
      "cell_type": "code",
      "metadata": {
        "id": "IJem0EOyO_Hl",
        "colab_type": "code",
        "colab": {}
      },
      "source": [
        "new_sub.to_pickle(f'{PATH_FEATURES}/sample_new_103.pkl')"
      ],
      "execution_count": 0,
      "outputs": []
    },
    {
      "cell_type": "markdown",
      "metadata": {
        "id": "V5Wh9tOWF2MM",
        "colab_type": "text"
      },
      "source": [
        "## EDA"
      ]
    },
    {
      "cell_type": "code",
      "metadata": {
        "id": "I7bREIZsthRM",
        "colab_type": "code",
        "colab": {}
      },
      "source": [
        "train_df = pd.read_pickle(f'{PATH_FEATURES}/agg_df_159.pkl')"
      ],
      "execution_count": 0,
      "outputs": []
    },
    {
      "cell_type": "code",
      "metadata": {
        "id": "SrmWYxGSLsQh",
        "colab_type": "code",
        "colab": {}
      },
      "source": [
        "train_df.drop('second_min', axis=1, inplace=True)"
      ],
      "execution_count": 0,
      "outputs": []
    },
    {
      "cell_type": "code",
      "metadata": {
        "id": "Zi2Xjl6EPtqX",
        "colab_type": "code",
        "outputId": "eb84c0e9-049b-4f41-e380-737e4f05e623",
        "colab": {
          "base_uri": "https://localhost:8080/",
          "height": 284
        }
      },
      "source": [
        "plt.figure(figsize=(6,4))\n",
        "sns.distplot(train_df[train_df['label']==1]['vc'],color ='orange')\n",
        "sns.distplot(train_df[train_df['label']==0]['vc'])\n",
        "plt.show()"
      ],
      "execution_count": 0,
      "outputs": [
        {
          "output_type": "display_data",
          "data": {
            "image/png": "[encoded data removed]",
            "text/plain": [
              "<Figure size 432x288 with 1 Axes>"
            ]
          },
          "metadata": {
            "tags": []
          }
        }
      ]
    },
    {
      "cell_type": "code",
      "metadata": {
        "id": "lzmjGBB4SdKT",
        "colab_type": "code",
        "outputId": "f0e89c9f-5645-4830-9e52-730b44aa18ee",
        "colab": {
          "base_uri": "https://localhost:8080/",
          "height": 35
        }
      },
      "source": [
        "cols = [c for c in train_df.columns if 'max' in c]\n",
        "\n",
        "len(cols)"
      ],
      "execution_count": 0,
      "outputs": [
        {
          "output_type": "execute_result",
          "data": {
            "text/plain": [
              "27"
            ]
          },
          "metadata": {
            "tags": []
          },
          "execution_count": 49
        }
      ]
    },
    {
      "cell_type": "code",
      "metadata": {
        "id": "Vu5FjLa6TIeH",
        "colab_type": "code",
        "outputId": "627077f1-cc9f-4252-bba0-69bd5202a4aa",
        "colab": {
          "base_uri": "https://localhost:8080/",
          "height": 7695
        }
      },
      "source": [
        "for col in cols:\n",
        "    sample = train_df[[col, 'label']]\n",
        "\n",
        "    # set outliers to the 1st and 99th quantile\n",
        "    # winsorization\n",
        "    last_quant = sample[col].quantile(.99)\n",
        "    first_quant = sample[col].quantile(.01)\n",
        "    \n",
        "    print('first: {}, last: {}'.format(first_quant, last_quant))\n",
        "\n",
        "    sample.loc[sample[col] > last_quant, col] = last_quant\n",
        "    sample.loc[sample[col] < first_quant, col] = first_quant\n",
        "    \n",
        "    plt.figure(figsize=(6,4))\n",
        "    sns.distplot(train_df[train_df['label']==1][col],color ='orange')\n",
        "    sns.distplot(train_df[train_df['label']==0][col])\n",
        "    plt.show()"
      ],
      "execution_count": 0,
      "outputs": [
        {
          "output_type": "stream",
          "text": [
            "first: 3.9, last: 2000.0\n"
          ],
          "name": "stdout"
        },
        {
          "output_type": "display_data",
          "data": {
            "image/png": "[encoded data removed]",
            "text/plain": [
              "<Figure size 432x288 with 1 Axes>"
            ]
          },
          "metadata": {
            "tags": []
          }
        },
        {
          "output_type": "stream",
          "text": [
            "first: 144.0, last: 359.9605276489258\n"
          ],
          "name": "stdout"
        },
        {
          "output_type": "display_data",
          "data": {
            "image/png": "[encoded data removed]",
            "text/plain": [
              "<Figure size 432x288 with 1 Axes>"
            ]
          },
          "metadata": {
            "tags": []
          }
        },
        {
          "output_type": "stream",
          "text": [
            "first: 0.6910933222812501, last: 15.045571384599564\n"
          ],
          "name": "stdout"
        },
        {
          "output_type": "display_data",
          "data": {
            "image/png": "[encoded data removed]",
            "text/plain": [
              "<Figure size 432x288 with 1 Axes>"
            ]
          },
          "metadata": {
            "tags": []
          }
        },
        {
          "output_type": "stream",
          "text": [
            "first: -7.815888793945312, last: 20.891290739999988\n"
          ],
          "name": "stdout"
        },
        {
          "output_type": "display_data",
          "data": {
            "image/png": "[encoded data removed]",
            "text/plain": [
              "<Figure size 432x288 with 1 Axes>"
            ]
          },
          "metadata": {
            "tags": []
          }
        },
        {
          "output_type": "stream",
          "text": [
            "first: -2.8881184387207037, last: 24.20820664999995\n"
          ],
          "name": "stdout"
        },
        {
          "output_type": "display_data",
          "data": {
            "image/png": "[encoded data removed]",
            "text/plain": [
              "<Figure size 432x288 with 1 Axes>"
            ]
          },
          "metadata": {
            "tags": []
          }
        },
        {
          "output_type": "stream",
          "text": [
            "first: 0.067913364, last: 4.537279431529613\n"
          ],
          "name": "stdout"
        },
        {
          "output_type": "display_data",
          "data": {
            "image/png": "[encoded data removed]",
            "text/plain": [
              "<Figure size 432x288 with 1 Axes>"
            ]
          },
          "metadata": {
            "tags": []
          }
        },
        {
          "output_type": "stream",
          "text": [
            "first: 0.11118286151000001, last: 10.203713642211486\n"
          ],
          "name": "stdout"
        },
        {
          "output_type": "display_data",
          "data": {
            "image/png": "[encoded data removed]",
            "text/plain": [
              "<Figure size 432x288 with 1 Axes>"
            ]
          },
          "metadata": {
            "tags": []
          }
        },
        {
          "output_type": "stream",
          "text": [
            "first: 0.05759323218, last: 5.121894909532992\n"
          ],
          "name": "stdout"
        },
        {
          "output_type": "display_data",
          "data": {
            "image/png": "[encoded data removed]",
            "text/plain": [
              "<Figure size 432x288 with 1 Axes>"
            ]
          },
          "metadata": {
            "tags": []
          }
        },
        {
          "output_type": "stream",
          "text": [
            "first: 149.0, last: 2251.1899999999987\n"
          ],
          "name": "stdout"
        },
        {
          "output_type": "display_data",
          "data": {
            "image/png": "[encoded data removed]",
            "text/plain": [
              "<Figure size 432x288 with 1 Axes>"
            ]
          },
          "metadata": {
            "tags": []
          }
        },
        {
          "output_type": "stream",
          "text": [
            "first: 7.240071272850159, last: 31.522261447906477\n"
          ],
          "name": "stdout"
        },
        {
          "output_type": "display_data",
          "data": {
            "image/png": "[encoded data removed]",
            "text/plain": [
              "<Figure size 432x288 with 1 Axes>"
            ]
          },
          "metadata": {
            "tags": []
          }
        },
        {
          "output_type": "stream",
          "text": [
            "first: 10.900350279126986, last: 34.18204769366129\n"
          ],
          "name": "stdout"
        },
        {
          "output_type": "display_data",
          "data": {
            "image/png": "[encoded data removed]",
            "text/plain": [
              "<Figure size 432x288 with 1 Axes>"
            ]
          },
          "metadata": {
            "tags": []
          }
        },
        {
          "output_type": "stream",
          "text": [
            "first: 0.23216477059711832, last: 15.877144288545948\n"
          ],
          "name": "stdout"
        },
        {
          "output_type": "display_data",
          "data": {
            "image/png": "[encoded data removed]",
            "text/plain": [
              "<Figure size 432x288 with 1 Axes>"
            ]
          },
          "metadata": {
            "tags": []
          }
        },
        {
          "output_type": "stream",
          "text": [
            "first: -1.836115503766333, last: 3.137180272919637\n"
          ],
          "name": "stdout"
        },
        {
          "output_type": "display_data",
          "data": {
            "image/png": "[encoded data removed]",
            "text/plain": [
              "<Figure size 432x288 with 1 Axes>"
            ]
          },
          "metadata": {
            "tags": []
          }
        },
        {
          "output_type": "stream",
          "text": [
            "first: 0.048577563593009535, last: 1.3990910549616062\n"
          ],
          "name": "stdout"
        },
        {
          "output_type": "display_data",
          "data": {
            "image/png": "[encoded data removed]",
            "text/plain": [
              "<Figure size 432x288 with 1 Axes>"
            ]
          },
          "metadata": {
            "tags": []
          }
        },
        {
          "output_type": "stream",
          "text": [
            "first: 91.59903191575349, last: 462.9101945048294\n"
          ],
          "name": "stdout"
        },
        {
          "output_type": "display_data",
          "data": {
            "image/png": "[encoded data removed]",
            "text/plain": [
              "<Figure size 432x288 with 1 Axes>"
            ]
          },
          "metadata": {
            "tags": []
          }
        },
        {
          "output_type": "stream",
          "text": [
            "first: 2.0475198121500005, last: 18.72206606776756\n"
          ],
          "name": "stdout"
        },
        {
          "output_type": "display_data",
          "data": {
            "image/png": "[encoded data removed]",
            "text/plain": [
              "<Figure size 432x288 with 1 Axes>"
            ]
          },
          "metadata": {
            "tags": []
          }
        },
        {
          "output_type": "stream",
          "text": [
            "first: 3.513895784933, last: 32.86098830134756\n"
          ],
          "name": "stdout"
        },
        {
          "output_type": "display_data",
          "data": {
            "image/png": "[encoded data removed]",
            "text/plain": [
              "<Figure size 432x288 with 1 Axes>"
            ]
          },
          "metadata": {
            "tags": []
          }
        },
        {
          "output_type": "stream",
          "text": [
            "first: 1.5629366130468754, last: 24.386784031162094\n"
          ],
          "name": "stdout"
        },
        {
          "output_type": "display_data",
          "data": {
            "image/png": "[encoded data removed]",
            "text/plain": [
              "<Figure size 432x288 with 1 Axes>"
            ]
          },
          "metadata": {
            "tags": []
          }
        },
        {
          "output_type": "stream",
          "text": [
            "first: 2.6787771399999993, last: 43.566533254999904\n"
          ],
          "name": "stdout"
        },
        {
          "output_type": "display_data",
          "data": {
            "image/png": "[encoded data removed]",
            "text/plain": [
              "<Figure size 432x288 with 1 Axes>"
            ]
          },
          "metadata": {
            "tags": []
          }
        },
        {
          "output_type": "stream",
          "text": [
            "first: 2.362032264142578, last: 25.174746774999814\n"
          ],
          "name": "stdout"
        },
        {
          "output_type": "display_data",
          "data": {
            "image/png": "[encoded data removed]",
            "text/plain": [
              "<Figure size 432x288 with 1 Axes>"
            ]
          },
          "metadata": {
            "tags": []
          }
        },
        {
          "output_type": "stream",
          "text": [
            "first: 4.006108337685546, last: 43.59693596999971\n"
          ],
          "name": "stdout"
        },
        {
          "output_type": "display_data",
          "data": {
            "image/png": "[encoded data removed]",
            "text/plain": [
              "<Figure size 432x288 with 1 Axes>"
            ]
          },
          "metadata": {
            "tags": []
          }
        },
        {
          "output_type": "stream",
          "text": [
            "first: 0.09453532730311347, last: 5.506445256993385\n"
          ],
          "name": "stdout"
        },
        {
          "output_type": "display_data",
          "data": {
            "image/png": "[encoded data removed]",
            "text/plain": [
              "<Figure size 432x288 with 1 Axes>"
            ]
          },
          "metadata": {
            "tags": []
          }
        },
        {
          "output_type": "stream",
          "text": [
            "first: 0.15904722388400003, last: 9.585273999046976\n"
          ],
          "name": "stdout"
        },
        {
          "output_type": "display_data",
          "data": {
            "image/png": "[encoded data removed]",
            "text/plain": [
              "<Figure size 432x288 with 1 Axes>"
            ]
          },
          "metadata": {
            "tags": []
          }
        },
        {
          "output_type": "stream",
          "text": [
            "first: 0.17705860465876255, last: 14.004920363499846\n"
          ],
          "name": "stdout"
        },
        {
          "output_type": "display_data",
          "data": {
            "image/png": "[encoded data removed]",
            "text/plain": [
              "<Figure size 432x288 with 1 Axes>"
            ]
          },
          "metadata": {
            "tags": []
          }
        },
        {
          "output_type": "stream",
          "text": [
            "first: 0.28541229754, last: 22.983838554499705\n"
          ],
          "name": "stdout"
        },
        {
          "output_type": "display_data",
          "data": {
            "image/png": "[encoded data removed]",
            "text/plain": [
              "<Figure size 432x288 with 1 Axes>"
            ]
          },
          "metadata": {
            "tags": []
          }
        },
        {
          "output_type": "stream",
          "text": [
            "first: 0.080825196115, last: 6.484944022069998\n"
          ],
          "name": "stdout"
        },
        {
          "output_type": "display_data",
          "data": {
            "image/png": "[encoded data removed]",
            "text/plain": [
              "<Figure size 432x288 with 1 Axes>"
            ]
          },
          "metadata": {
            "tags": []
          }
        },
        {
          "output_type": "stream",
          "text": [
            "first: 0.137653961891, last: 11.227881731914973\n"
          ],
          "name": "stdout"
        },
        {
          "output_type": "display_data",
          "data": {
            "image/png": "[encoded data removed]",
            "text/plain": [
              "<Figure size 432x288 with 1 Axes>"
            ]
          },
          "metadata": {
            "tags": []
          }
        }
      ]
    },
    {
      "cell_type": "code",
      "metadata": {
        "id": "RtrScjOKGu3q",
        "colab_type": "code",
        "colab": {}
      },
      "source": [
        "# plt.figure(figsize=(15,30))\n",
        "# for i, col in enumerate(cols):\n",
        "#     plt.subplot(9, 3, i+1)\n",
        "#     sns.distplot(train_df[train_df['label']==1][col],color ='orange')\n",
        "#     sns.distplot(train_df[train_df['label']==0][col])\n",
        "#     plt.title(col)"
      ],
      "execution_count": 0,
      "outputs": []
    },
    {
      "cell_type": "code",
      "metadata": {
        "id": "UYaggdA9T68O",
        "colab_type": "code",
        "colab": {}
      },
      "source": [
        ""
      ],
      "execution_count": 0,
      "outputs": []
    }
  ]
}